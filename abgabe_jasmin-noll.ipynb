{
 "cells": [
  {
   "cell_type": "markdown",
   "id": "9d3462ab",
   "metadata": {},
   "source": [
    "# <Hier Titel einfügen>\n",
    "<Hier Kurzbeschreibung einfügen>"
   ]
  },
  {
   "cell_type": "code",
   "execution_count": 1,
   "id": "02c76de7",
   "metadata": {},
   "outputs": [],
   "source": [
    "import pandas as pd\n",
    "import numpy as np\n",
    "import time\n",
    "import requests\n",
    "import concurrent.futures\n",
    "import re\n",
    "import string\n",
    "import spacy\n",
    "import gensim\n",
    "import yake\n",
    "from gensim import corpora\n",
    "from nltk.corpus import stopwords\n",
    "#nltk.download(\"stopwords\")\n",
    "\n",
    "import warnings\n",
    "warnings.filterwarnings(\"ignore\")"
   ]
  },
  {
   "cell_type": "markdown",
   "id": "d72323da",
   "metadata": {},
   "source": [
    "## request data"
   ]
  },
  {
   "cell_type": "code",
   "execution_count": 3,
   "id": "c8deb2ea",
   "metadata": {},
   "outputs": [],
   "source": [
    "URL = \"https://de.wikipedia.org/w/api.php\""
   ]
  },
  {
   "cell_type": "markdown",
   "id": "fa097091",
   "metadata": {},
   "source": [
    "```python\n",
    "S = requests.Session()\n",
    "```"
   ]
  },
  {
   "cell_type": "markdown",
   "id": "1321c1a2",
   "metadata": {},
   "source": [
    "```python\n",
    "# request excellent arictles from german wikipedia via wiki api (10 at a time)\n",
    "params_pageid = {\n",
    "    \"action\": \"query\",\n",
    "    \"prop\": \"revisions\",\n",
    "    \"rvprop\": \"content\",\n",
    "    \"rvslots\": \"*\",\n",
    "    \"format\": \"json\",\n",
    "    \"formatversion\": 2,\n",
    "    \"srsearch\": \"incategory:Wikipedia:Exzellent\",\n",
    "    \"list\": \"search\",\n",
    "    \"sroffset\": 0\n",
    "}\n",
    "\n",
    "response = S.get(url = URL, params = params_pageid)\n",
    "data = response.json()\n",
    "\n",
    "# get ids from excellent articles\n",
    "ids = []\n",
    "\n",
    "for entry in data[\"query\"][\"search\"]:\n",
    "    ids.append(entry[\"pageid\"])\n",
    "\n",
    "while data.get(\"continue\"):\n",
    "    params_pageid.update({\"sroffset\": data[\"continue\"][\"sroffset\"]})\n",
    "    \n",
    "    #print(\"\\n%s\" % (PARAMS))\n",
    "    response = S.get(url = URL, params = params_pageid)\n",
    "    data = response.json()\n",
    "    \n",
    "    for entry in data[\"query\"][\"search\"]:\n",
    "        ids.append(entry[\"pageid\"])\n",
    "\n",
    "print(\"Anzahl gesammelter Exzellenter Artikel: %s\" %(len(ids)))\n",
    "```"
   ]
  },
  {
   "cell_type": "code",
   "execution_count": 4,
   "id": "64a18755",
   "metadata": {},
   "outputs": [],
   "source": [
    "def get_pages_by_id(id):\n",
    "    params_content.update({\"pageids\": id})\n",
    "    response = S.get(url = URL, params = params_content)\n",
    "    page = response.json()\n",
    "    content.update({id: page[\"query\"][\"pages\"][0][\"extract\"]})"
   ]
  },
  {
   "cell_type": "code",
   "execution_count": 5,
   "id": "c5396f99",
   "metadata": {},
   "outputs": [],
   "source": [
    "# Source: https://stackoverflow.com/questions/4452102/how-to-get-plain-text-out-of-wikipedia\n",
    "# Source: https://www.mediawiki.org/wiki/API:Parsing_wikitext\n",
    "params_content = {\n",
    "    \"action\": \"query\",\n",
    "    \"prop\": \"extracts\",\n",
    "    \"format\": \"json\",\n",
    "    \"formatversion\": 2,\n",
    "    \"pageids\": 0,\n",
    "    \"explaintext\": True\n",
    "}"
   ]
  },
  {
   "cell_type": "markdown",
   "id": "46c02959",
   "metadata": {},
   "source": [
    "```python\n",
    "content = {}\n",
    "start = time.time()\n",
    "with concurrent.futures.ThreadPoolExecutor() as executor:\n",
    "    executor.map(get_pages_by_id, ids)\n",
    "\n",
    "end = time.time()\n",
    "dur = end - start\n",
    "print(\"DUR: %s\" % (dur))\n",
    "```"
   ]
  },
  {
   "cell_type": "markdown",
   "id": "fc0355d3",
   "metadata": {},
   "source": [
    "```python\n",
    "# save requested data (wikipage content) in df\n",
    "df = pd.DataFrame(content.items())\n",
    "df = df.rename({0: \"pageid\", 1:\"content\"}, axis = 1)\n",
    "```"
   ]
  },
  {
   "cell_type": "markdown",
   "id": "b500d982",
   "metadata": {},
   "source": [
    "```python\n",
    "# save data to csv for faster loading\n",
    "# TODO: Den Dateinamen dynamisch anpassen\n",
    "# --> Die Zahl vorne dynamisch durch die Anzahl an Seiten in content ersetzten\n",
    "df.to_csv(\"./2783_excellent_article_extract.csv\")\n",
    "```"
   ]
  },
  {
   "cell_type": "markdown",
   "id": "201dce61",
   "metadata": {},
   "source": [
    "Die angefragten Daten können auch vom filesystem geladen werden"
   ]
  },
  {
   "cell_type": "code",
   "execution_count": 3,
   "id": "585c20f6",
   "metadata": {},
   "outputs": [],
   "source": [
    "# load data from file\n",
    "data = pd.read_csv(\"./2783_excellent_article_extract.csv\")\n",
    "\n",
    "data = data[[\"pageid\", \"content\"]]"
   ]
  },
  {
   "cell_type": "code",
   "execution_count": 4,
   "id": "b201ade1",
   "metadata": {},
   "outputs": [
    {
     "data": {
      "text/html": [
       "<div>\n",
       "<style scoped>\n",
       "    .dataframe tbody tr th:only-of-type {\n",
       "        vertical-align: middle;\n",
       "    }\n",
       "\n",
       "    .dataframe tbody tr th {\n",
       "        vertical-align: top;\n",
       "    }\n",
       "\n",
       "    .dataframe thead th {\n",
       "        text-align: right;\n",
       "    }\n",
       "</style>\n",
       "<table border=\"1\" class=\"dataframe\">\n",
       "  <thead>\n",
       "    <tr style=\"text-align: right;\">\n",
       "      <th></th>\n",
       "      <th>pageid</th>\n",
       "      <th>content</th>\n",
       "    </tr>\n",
       "  </thead>\n",
       "  <tbody>\n",
       "    <tr>\n",
       "      <th>0</th>\n",
       "      <td>1428</td>\n",
       "      <td>Kanada (englisch und französisch Canada) ist e...</td>\n",
       "    </tr>\n",
       "    <tr>\n",
       "      <th>1</th>\n",
       "      <td>3221050</td>\n",
       "      <td>Moskau (russisch Москва́ [mɐskˈva] , Moskwa) i...</td>\n",
       "    </tr>\n",
       "    <tr>\n",
       "      <th>2</th>\n",
       "      <td>2996</td>\n",
       "      <td>Leipzig ([ˈlaɪ̯pt͡sɪç]; im sächsischen Dialekt...</td>\n",
       "    </tr>\n",
       "    <tr>\n",
       "      <th>3</th>\n",
       "      <td>1200964</td>\n",
       "      <td>Australien (amtlicher deutscher Name; englisch...</td>\n",
       "    </tr>\n",
       "    <tr>\n",
       "      <th>4</th>\n",
       "      <td>290</td>\n",
       "      <td>Argentinien (spanisch  [aɾxenˈtina]) ist eine ...</td>\n",
       "    </tr>\n",
       "  </tbody>\n",
       "</table>\n",
       "</div>"
      ],
      "text/plain": [
       "    pageid                                            content\n",
       "0     1428  Kanada (englisch und französisch Canada) ist e...\n",
       "1  3221050  Moskau (russisch Москва́ [mɐskˈva] , Moskwa) i...\n",
       "2     2996  Leipzig ([ˈlaɪ̯pt͡sɪç]; im sächsischen Dialekt...\n",
       "3  1200964  Australien (amtlicher deutscher Name; englisch...\n",
       "4      290  Argentinien (spanisch  [aɾxenˈtina]) ist eine ..."
      ]
     },
     "execution_count": 4,
     "metadata": {},
     "output_type": "execute_result"
    }
   ],
   "source": [
    "data.head()"
   ]
  },
  {
   "cell_type": "markdown",
   "id": "7a23cbaf",
   "metadata": {},
   "source": [
    "## preprocess data"
   ]
  },
  {
   "cell_type": "code",
   "execution_count": 29,
   "id": "760f12be",
   "metadata": {},
   "outputs": [],
   "source": [
    "def preprocess_data(text, idx):\n",
    "    text = re.sub(r\"\\n\", \"\", text)\n",
    "    #t = re.sub(r\"\\{{2}.*?\\}{2}\", \"\", t)\n",
    "    #t = re.sub(r\"\\}{2}\", \"\", t)\n",
    "    #t = re.sub(r\"\\[\\[[0-9A-Za-z\\s()]*?\\|\", \"\", t)\n",
    "    #t = re.sub(r\"\\[\\[\", \"\", t)\n",
    "    #t = re.sub(r\"\\]\\]\", \"\", t)\n",
    "    #t = re.sub(r\"\\[.*?\\]\", \"\", t)\n",
    "    #t = re.sub(r\"<ref.*?/ref>\", \"\", t)\n",
    "    #t = re.sub(r\"<.*?>\", \"\", t)\n",
    "    #t = re.sub(r\"\\|\", \" \", t)\n",
    "    #t = re.sub(r\"\\'\", \"\", t)\n",
    "\n",
    "    # source: url_extract_pattern from https://uibakery.io/regex-library/url-regex-python\n",
    "    #url_extract_pattern = \"https?:\\\\/\\\\/(?:www\\\\.)?[-a-zA-Z0-9@:%._\\\\+~#=]{1,256}\\\\.[a-zA-Z0-9()]{1,6}\\\\b(?:[-a-zA-Z0-9()@:%_\\\\+.~#?&\\\\/=]*)\"\n",
    "    #t = re.sub(url_extract_pattern, '', t)\n",
    "\n",
    "    text = re.sub(r\"\\(=.*?\\)\", \"\", text)\n",
    "    text = re.sub(r\"--+\", \"\", text)\n",
    "    text = re.sub(r\"==.*?==\", \"\", text)\n",
    "    #t = re.sub(r\"==+\", \"\", t)\n",
    "    #t = re.sub(r\"\\&nbsp;\", \"\", t)\n",
    "    # Dateinamen\n",
    "    #t = re.sub(r\"[^ ]*\\..{4}|[^ ]*\\..{3}\", \"\", t)\n",
    "\n",
    "    #source: https://stackoverflow.com/questions/2077897/substitute-multiple-whitespace-with-single-whitespace-in-python\n",
    "    _RE_COMBINE_WHITESPACE = re.compile(r\"\\s+\")\n",
    "    text = _RE_COMBINE_WHITESPACE.sub(\" \", text).strip()\n",
    "    \n",
    "    preprocessed_content.update({idx: text})"
   ]
  },
  {
   "cell_type": "code",
   "execution_count": 32,
   "id": "58db5efc",
   "metadata": {},
   "outputs": [
    {
     "name": "stdout",
     "output_type": "stream",
     "text": [
      "DUR: 6.13576602935791\n"
     ]
    }
   ],
   "source": [
    "preprocessed_content = {}\n",
    "start = time.time()\n",
    "with concurrent.futures.ThreadPoolExecutor() as executor:\n",
    "    executor.map(preprocess_data, data[\"content\"], data[\"pageid\"])\n",
    "\n",
    "end = time.time()\n",
    "dur = end - start\n",
    "print(\"DUR: %s\" % (dur))"
   ]
  },
  {
   "cell_type": "code",
   "execution_count": 34,
   "id": "122ce502",
   "metadata": {},
   "outputs": [
    {
     "data": {
      "text/plain": [
       "2794"
      ]
     },
     "execution_count": 34,
     "metadata": {},
     "output_type": "execute_result"
    }
   ],
   "source": [
    "len(preprocessed_content)"
   ]
  },
  {
   "cell_type": "code",
   "execution_count": 35,
   "id": "9437cf20",
   "metadata": {},
   "outputs": [
    {
     "data": {
      "text/html": [
       "<div>\n",
       "<style scoped>\n",
       "    .dataframe tbody tr th:only-of-type {\n",
       "        vertical-align: middle;\n",
       "    }\n",
       "\n",
       "    .dataframe tbody tr th {\n",
       "        vertical-align: top;\n",
       "    }\n",
       "\n",
       "    .dataframe thead th {\n",
       "        text-align: right;\n",
       "    }\n",
       "</style>\n",
       "<table border=\"1\" class=\"dataframe\">\n",
       "  <thead>\n",
       "    <tr style=\"text-align: right;\">\n",
       "      <th></th>\n",
       "      <th>pageid</th>\n",
       "      <th>content</th>\n",
       "    </tr>\n",
       "  </thead>\n",
       "  <tbody>\n",
       "    <tr>\n",
       "      <th>0</th>\n",
       "      <td>1428</td>\n",
       "      <td>Kanada (englisch und französisch Canada) ist e...</td>\n",
       "    </tr>\n",
       "    <tr>\n",
       "      <th>1</th>\n",
       "      <td>3221050</td>\n",
       "      <td>Moskau (russisch Москва́ [mɐskˈva] , Moskwa) i...</td>\n",
       "    </tr>\n",
       "    <tr>\n",
       "      <th>2</th>\n",
       "      <td>1200964</td>\n",
       "      <td>Australien (amtlicher deutscher Name; englisch...</td>\n",
       "    </tr>\n",
       "    <tr>\n",
       "      <th>3</th>\n",
       "      <td>2996</td>\n",
       "      <td>Leipzig ([ˈlaɪ̯pt͡sɪç]; im sächsischen Dialekt...</td>\n",
       "    </tr>\n",
       "    <tr>\n",
       "      <th>4</th>\n",
       "      <td>2677</td>\n",
       "      <td>Kanada (englisch und französisch Canada) ist e...</td>\n",
       "    </tr>\n",
       "  </tbody>\n",
       "</table>\n",
       "</div>"
      ],
      "text/plain": [
       "    pageid                                            content\n",
       "0     1428  Kanada (englisch und französisch Canada) ist e...\n",
       "1  3221050  Moskau (russisch Москва́ [mɐskˈva] , Moskwa) i...\n",
       "2  1200964  Australien (amtlicher deutscher Name; englisch...\n",
       "3     2996  Leipzig ([ˈlaɪ̯pt͡sɪç]; im sächsischen Dialekt...\n",
       "4     2677  Kanada (englisch und französisch Canada) ist e..."
      ]
     },
     "execution_count": 35,
     "metadata": {},
     "output_type": "execute_result"
    }
   ],
   "source": [
    "preprocessed_df = pd.DataFrame(preprocessed_content.items())\n",
    "preprocessed_df = preprocessed_df.rename({0: \"pageid\", 1:\"content\"}, axis = 1)\n",
    "\n",
    "preprocessed_df.head()"
   ]
  },
  {
   "cell_type": "code",
   "execution_count": 36,
   "id": "2d0b2f32",
   "metadata": {},
   "outputs": [],
   "source": [
    "# save preproessed wiki pages to filesystem\n",
    "preprocessed_df.to_csv(\"./data/preprocessed_wiki_pages.csv\")"
   ]
  },
  {
   "cell_type": "markdown",
   "id": "c087cf09",
   "metadata": {},
   "source": [
    "backup\n",
    "```python\n",
    "#!python3 -m spacy download de_core_news_md\n",
    "nlp = spacy.load('de_core_news_md')\n",
    "```"
   ]
  },
  {
   "cell_type": "markdown",
   "id": "7794f406",
   "metadata": {},
   "source": [
    "```python\n",
    "t_word_list = t.split(\" \")\n",
    "\n",
    "# lemmatization\n",
    "text_lemma = []\n",
    "\n",
    "for ix, word in enumerate(t_word_list):\n",
    "    doc = nlp(word)\n",
    "    result = ' '.join([x.lemma_ for x in doc]) \n",
    "    text_lemma.append(result)\n",
    "\n",
    "lemma_word_list = [gensim.utils.simple_preprocess(word, deacc = True) for word in text_lemma]\n",
    "\n",
    "# remove stopwords\n",
    "# source: https://stackoverflow.com/questions/5486337/how-to-remove-stop-words-using-nltk-or-python\n",
    "#final = [word for word in lemma_word_list if word not in german_stopwords]\n",
    "\n",
    "final = []\n",
    "for word in lemma_word_list:\n",
    "    if len(word) > 0 and word[0] not in german_stopwords:\n",
    "        final.append(word[0])\n",
    "\n",
    "text_without_stopwords = \" \".join(final)\n",
    "```"
   ]
  },
  {
   "cell_type": "markdown",
   "id": "80c7f01d",
   "metadata": {},
   "source": [
    "## extract keywords\n",
    "using yakes keyword extractor  \n",
    "(https://liaad.github.io/yake/)"
   ]
  },
  {
   "cell_type": "code",
   "execution_count": 30,
   "id": "6ce66926",
   "metadata": {},
   "outputs": [],
   "source": [
    "german_stopwords = stopwords.words(\"german\")"
   ]
  },
  {
   "cell_type": "code",
   "execution_count": 40,
   "id": "754df521",
   "metadata": {
    "collapsed": true
   },
   "outputs": [
    {
     "name": "stdout",
     "output_type": "stream",
     "text": [
      "('Kanada', 0.0007969276779531967)\n",
      "('und die', 0.001910502339844232)\n",
      "('von Kanada', 0.0019105629687418378)\n",
      "('Ontario und Québec', 0.0020771841265886668)\n",
      "('den Vereinigten Staaten', 0.0025137544434408374)\n",
      "('und der', 0.002543935783646112)\n",
      "('Kanadas', 0.002846170278404274)\n",
      "('Kanada ist', 0.003506146900051947)\n",
      "('englisch und französisch', 0.0039061489078895313)\n",
      "('mit der', 0.003954407244586976)\n",
      "##############################\n",
      "('Moskau', 0.0003090203792953505)\n",
      "('der Stadt Moskau', 0.0003528573847636329)\n",
      "('der Stadt', 0.0004907477457929229)\n",
      "('die Stadt', 0.0005513636053280246)\n",
      "('Moskau die Stadt', 0.0009694463559016367)\n",
      "('Stadt', 0.0011065952798747713)\n",
      "('Stadt Moskau', 0.0012596861120265533)\n",
      "('von Moskau', 0.0014695805909670332)\n",
      "('Zentrum von Moskau', 0.0015359446017669347)\n",
      "('Moskaus', 0.0017478965203893261)\n",
      "('Die Stadt ist', 0.0018941819312858752)\n",
      "('die Stadt mit', 0.001904495773274296)\n",
      "('Moskau die', 0.0021195300520005706)\n",
      "('Moskau ist', 0.0021851486954712015)\n",
      "##############################\n",
      "('Australien', 0.0009412149837407555)\n",
      "('der Einwohner Australiens', 0.0036974001785522893)\n",
      "('das Land', 0.003767313381875688)\n",
      "('South Australia', 0.004141904615773729)\n",
      "('der Bevölkerung', 0.004329329358299285)\n",
      "('den Kontinent Australien', 0.004400631124534199)\n",
      "('South Wales', 0.004444736684436245)\n",
      "('Jahren', 0.004567100991497895)\n",
      "('Land', 0.004730814003244386)\n",
      "('Jahr', 0.00483937785016596)\n",
      "##############################\n",
      "('der Stadt Leipzig', 1.658497245537868e-05)\n",
      "('Die Stadt Leipzig', 4.224156081235841e-05)\n",
      "('Leipzig', 5.1632786126808963e-05)\n",
      "('Stadt Leipzig', 6.845068134923027e-05)\n",
      "('der Stadt', 0.00012547636572996112)\n",
      "('der Oper Leipzig', 0.00016052089027010253)\n",
      "('der Universität Leipzig', 0.00016805077424518385)\n",
      "('Stadt Leipzig ist', 0.00017043471653793856)\n",
      "('der Leipziger', 0.00022570123805945127)\n",
      "('Die Stadt', 0.0002413464389610389)\n",
      "('Stadt Leipzig die', 0.0002534493648741505)\n",
      "('die Leipziger', 0.0002638792659013924)\n",
      "('Leipzig und die', 0.00026587009353384953)\n",
      "('Leipzig und', 0.0002694405449575394)\n",
      "('Leipzig und der', 0.00029634597495064967)\n",
      "('Leipzig ist', 0.00031727701831745067)\n",
      "('die Leipziger Messe', 0.00032076611624223106)\n",
      "##############################\n",
      "('Kanada', 0.0007969276779531967)\n",
      "('und die', 0.001910502339844232)\n",
      "('von Kanada', 0.0019105629687418378)\n",
      "('Ontario und Québec', 0.0020771841265886668)\n",
      "('den Vereinigten Staaten', 0.0025137544434408374)\n",
      "('und der', 0.002543935783646112)\n",
      "('Kanadas', 0.002846170278404274)\n",
      "('Kanada ist', 0.003506146900051947)\n",
      "('englisch und französisch', 0.0039061489078895313)\n",
      "('mit der', 0.003954407244586976)\n",
      "##############################\n",
      "('Provinz Buenos Aires', 0.0005268788558665713)\n",
      "('Buenos Aires', 0.0006736837659720072)\n",
      "('von Buenos Aires', 0.0015690627614811756)\n",
      "('Argentinien', 0.001988275692040793)\n",
      "('Stadt Buenos Aires', 0.0020662245871392207)\n",
      "('der Provinz Buenos', 0.0023792799650161523)\n",
      "('Buenos Aires und', 0.0023960250550181727)\n",
      "('Hauptstadt Buenos Aires', 0.002463765637528645)\n",
      "('Großraum Buenos Aires', 0.0026442503264060982)\n",
      "('Chile und Argentinien', 0.003149862909079471)\n",
      "('Provinz Buenos', 0.0032910680504301872)\n",
      "('der Provinz', 0.0033091334237444815)\n",
      "('der Bevölkerung', 0.003600637884727025)\n",
      "('die Stadt Buenos', 0.00419979014956515)\n",
      "##############################\n",
      "('die Stadt Frankfurt', 1.5703879002512127e-05)\n",
      "('der Stadt Frankfurt', 1.7577845149343167e-05)\n",
      "('Stadt Frankfurt', 4.3631583806856946e-05)\n",
      "('Frankfurt', 7.249875289752423e-05)\n",
      "('die Stadt', 0.00011953750716922075)\n",
      "('der Stadt', 0.0001201749282797823)\n",
      "('Frankfurt am Main', 0.00017186864769456274)\n",
      "('Freie Stadt Frankfurt', 0.00017216377804516242)\n",
      "('Stadt Frankfurt mit', 0.00021621309482066812)\n",
      "('Die Frankfurter', 0.00028197428903381977)\n",
      "('Frankfurt und', 0.00029774761205807133)\n",
      "('Frankfurt und das', 0.0003082972716097104)\n",
      "('Flughafen Frankfurt Main', 0.00031371198886562756)\n",
      "('der Frankfurter', 0.0003155224580616883)\n",
      "('Stadt', 0.00034031689350072096)\n",
      "('Stadt Frankfurt und', 0.0003748363574361727)\n",
      "('Die Stadt ist', 0.00040109843192523854)\n",
      "##############################\n",
      "('der Stadt Dresden', 5.964613279748067e-05)\n",
      "('die Stadt Dresden', 0.00010214409669676318)\n",
      "('Dresden', 0.00011500205560165473)\n",
      "('der Stadt', 0.00012076156562658452)\n",
      "('Dresden und die', 0.00014853046325920055)\n",
      "('Die Stadt', 0.0001724648166558491)\n",
      "('Stadt Dresden', 0.0002659589558635222)\n",
      "('Dresden und', 0.00039923317957167446)\n",
      "('Dresden und der', 0.000405922025775195)\n",
      "('Stadt', 0.0004059453668340801)\n",
      "('Die Dresdner', 0.00041679392564773234)\n",
      "('der Stadt ist', 0.0004992090583372129)\n",
      "('sich die Stadt', 0.0005660682235581711)\n",
      "('der Dresdner', 0.0006402892092295524)\n",
      "('Stadt Dresden ist', 0.000642568606362268)\n",
      "('durch die Stadt', 0.0006571005278397354)\n",
      "('Dresden ist die', 0.000680169676249028)\n",
      "##############################\n",
      "('Finnland', 0.0009182279474707477)\n",
      "('Finnlands', 0.0021119242791827197)\n",
      "('des Landes', 0.004760126618576276)\n",
      "('Finnlands ist mit', 0.006192787690372348)\n",
      "('die Bevölkerung Finnlands', 0.0062225489696846525)\n",
      "('Finnland und Schweden', 0.006281040969322896)\n",
      "('der finnischen', 0.006701524927378356)\n",
      "('die Sowjetunion Finnland', 0.00717170190725394)\n",
      "##############################\n",
      "('die Philosophie', 0.00030965526458213934)\n",
      "('der Philosophie', 0.0003143886190184295)\n",
      "('Philosophie', 0.00034750238589556433)\n",
      "('sich die Philosophie', 0.0008336089368408129)\n",
      "('die Philosophie des', 0.0008499712010260186)\n",
      "('Geschichte der Philosophie', 0.0009152591421061193)\n",
      "('die Philosophie die', 0.0009418004394756797)\n",
      "('die theoretische Philosophie', 0.0016276469095633293)\n",
      "('die praktische Philosophie', 0.0017728923852827843)\n",
      "('Philosophie von der', 0.0019285680477791045)\n",
      "('der Philosophie von', 0.0019285680477791048)\n",
      "('die Philosophie mit', 0.0019493711717819427)\n",
      "('der Philosophie des', 0.0021046987442977397)\n",
      "('und die', 0.0021992715648188714)\n",
      "('die Philosophie als', 0.0022471454338561948)\n",
      "##############################\n",
      "DUR: 7.538043975830078\n"
     ]
    }
   ],
   "source": [
    "kw_extractor = yake.KeywordExtractor()"
   ]
  },
  {
   "cell_type": "markdown",
   "id": "4bc520fb",
   "metadata": {},
   "source": [
    "keyword extraction for the first 10 pages\n",
    "\n",
    "```python\n",
    "start = time.time()\n",
    "for wiki_page in preprocessed_df[\"content\"][:10]:\n",
    "    keywords = kw_extractor.extract_keywords(wiki_page)\n",
    "\n",
    "    for kw in keywords:\n",
    "        if kw[0] not in german_stopwords:\n",
    "            print(kw)\n",
    "            \n",
    "    print(\"#\" * 30)\n",
    "end = time.time()\n",
    "\n",
    "print(\"DUR: %s\" % (end - start))\n",
    "```"
   ]
  },
  {
   "cell_type": "code",
   "execution_count": 63,
   "id": "3bb95fee",
   "metadata": {},
   "outputs": [],
   "source": [
    "def extract_keywords(text, idx):\n",
    "    keywords = []\n",
    "    extracted_keywords = kw_extractor.extract_keywords(text)\n",
    "    \n",
    "    for keyword in extracted_keywords:\n",
    "        # remove keywords that resamble stopwords from the german language\n",
    "        if keyword[0] not in german_stopwords:\n",
    "            keywords.append(keyword)\n",
    "    \n",
    "    wikipage_keywords.update({idx: keywords})"
   ]
  },
  {
   "cell_type": "code",
   "execution_count": 45,
   "id": "a445929d",
   "metadata": {},
   "outputs": [
    {
     "name": "stdout",
     "output_type": "stream",
     "text": [
      "DUR: 2620.6581139564514\n"
     ]
    }
   ],
   "source": [
    "wikipage_keywords = {}\n",
    "start = time.time()\n",
    "with concurrent.futures.ThreadPoolExecutor() as executor:\n",
    "    executor.map(extract_keywords, preprocessed_df[\"content\"], preprocessed_df[\"pageid\"])\n",
    "\n",
    "end = time.time()\n",
    "dur = end - start\n",
    "print(\"DUR: %s\" % (dur))"
   ]
  },
  {
   "cell_type": "code",
   "execution_count": 46,
   "id": "9564e2cb",
   "metadata": {},
   "outputs": [
    {
     "data": {
      "text/plain": [
       "2794"
      ]
     },
     "execution_count": 46,
     "metadata": {},
     "output_type": "execute_result"
    }
   ],
   "source": [
    "len(wikipage_keywords)"
   ]
  },
  {
   "cell_type": "code",
   "execution_count": 50,
   "id": "dda8153d",
   "metadata": {},
   "outputs": [],
   "source": [
    "keywords_df = pd.DataFrame(wikipage_keywords.items())\n",
    "keywords_df = keywords_df.rename({0: \"pageid\", 1:\"keywords\"}, axis = 1)"
   ]
  },
  {
   "cell_type": "code",
   "execution_count": 58,
   "id": "9fec8976",
   "metadata": {},
   "outputs": [
    {
     "data": {
      "text/html": [
       "<div>\n",
       "<style scoped>\n",
       "    .dataframe tbody tr th:only-of-type {\n",
       "        vertical-align: middle;\n",
       "    }\n",
       "\n",
       "    .dataframe tbody tr th {\n",
       "        vertical-align: top;\n",
       "    }\n",
       "\n",
       "    .dataframe thead th {\n",
       "        text-align: right;\n",
       "    }\n",
       "</style>\n",
       "<table border=\"1\" class=\"dataframe\">\n",
       "  <thead>\n",
       "    <tr style=\"text-align: right;\">\n",
       "      <th></th>\n",
       "      <th>pageid</th>\n",
       "      <th>keywords</th>\n",
       "    </tr>\n",
       "  </thead>\n",
       "  <tbody>\n",
       "    <tr>\n",
       "      <th>0</th>\n",
       "      <td>290</td>\n",
       "      <td>[(Provinz Buenos Aires, 0.0005268788558665713)...</td>\n",
       "    </tr>\n",
       "    <tr>\n",
       "      <th>1</th>\n",
       "      <td>880316</td>\n",
       "      <td>[(Finnland, 0.0009182279474707477), (Finnlands...</td>\n",
       "    </tr>\n",
       "    <tr>\n",
       "      <th>2</th>\n",
       "      <td>1200964</td>\n",
       "      <td>[(Australien, 0.0009412149837407555), (der Ein...</td>\n",
       "    </tr>\n",
       "    <tr>\n",
       "      <th>3</th>\n",
       "      <td>490244</td>\n",
       "      <td>[(die Philosophie, 0.00030965526458213934), (d...</td>\n",
       "    </tr>\n",
       "    <tr>\n",
       "      <th>4</th>\n",
       "      <td>29938</td>\n",
       "      <td>[(die Philosophie, 0.00030965526458213934), (d...</td>\n",
       "    </tr>\n",
       "  </tbody>\n",
       "</table>\n",
       "</div>"
      ],
      "text/plain": [
       "    pageid                                           keywords\n",
       "0      290  [(Provinz Buenos Aires, 0.0005268788558665713)...\n",
       "1   880316  [(Finnland, 0.0009182279474707477), (Finnlands...\n",
       "2  1200964  [(Australien, 0.0009412149837407555), (der Ein...\n",
       "3   490244  [(die Philosophie, 0.00030965526458213934), (d...\n",
       "4    29938  [(die Philosophie, 0.00030965526458213934), (d..."
      ]
     },
     "execution_count": 58,
     "metadata": {},
     "output_type": "execute_result"
    }
   ],
   "source": [
    "keywords_df.head()"
   ]
  },
  {
   "cell_type": "code",
   "execution_count": 59,
   "id": "78cf5e13",
   "metadata": {},
   "outputs": [],
   "source": [
    "# save keywords with coresponding page id\n",
    "keywords_df.to_csv(\"./data/wikipage_keywords.csv\")"
   ]
  },
  {
   "cell_type": "markdown",
   "id": "2c2df465",
   "metadata": {},
   "source": [
    "## results"
   ]
  },
  {
   "cell_type": "code",
   "execution_count": 52,
   "id": "5f0afd18",
   "metadata": {},
   "outputs": [],
   "source": [
    "# join wikipages with (predicted) keywords on pageid\n",
    "results = pd.concat(\n",
    "    [preprocessed_df.set_index(\"pageid\"), keywords_df.set_index(\"pageid\")], axis = 1, join = \"inner\"\n",
    ").reset_index()"
   ]
  },
  {
   "cell_type": "code",
   "execution_count": 60,
   "id": "249de77c",
   "metadata": {},
   "outputs": [
    {
     "data": {
      "text/html": [
       "<div>\n",
       "<style scoped>\n",
       "    .dataframe tbody tr th:only-of-type {\n",
       "        vertical-align: middle;\n",
       "    }\n",
       "\n",
       "    .dataframe tbody tr th {\n",
       "        vertical-align: top;\n",
       "    }\n",
       "\n",
       "    .dataframe thead th {\n",
       "        text-align: right;\n",
       "    }\n",
       "</style>\n",
       "<table border=\"1\" class=\"dataframe\">\n",
       "  <thead>\n",
       "    <tr style=\"text-align: right;\">\n",
       "      <th></th>\n",
       "      <th>pageid</th>\n",
       "      <th>content</th>\n",
       "      <th>keywords</th>\n",
       "    </tr>\n",
       "  </thead>\n",
       "  <tbody>\n",
       "    <tr>\n",
       "      <th>0</th>\n",
       "      <td>1428</td>\n",
       "      <td>Kanada (englisch und französisch Canada) ist e...</td>\n",
       "      <td>[(Kanada, 0.0007969276779531967), (und die, 0....</td>\n",
       "    </tr>\n",
       "    <tr>\n",
       "      <th>1</th>\n",
       "      <td>3221050</td>\n",
       "      <td>Moskau (russisch Москва́ [mɐskˈva] , Moskwa) i...</td>\n",
       "      <td>[(Moskau, 0.0003090203792953505), (der Stadt M...</td>\n",
       "    </tr>\n",
       "    <tr>\n",
       "      <th>2</th>\n",
       "      <td>1200964</td>\n",
       "      <td>Australien (amtlicher deutscher Name; englisch...</td>\n",
       "      <td>[(Australien, 0.0009412149837407555), (der Ein...</td>\n",
       "    </tr>\n",
       "    <tr>\n",
       "      <th>3</th>\n",
       "      <td>2996</td>\n",
       "      <td>Leipzig ([ˈlaɪ̯pt͡sɪç]; im sächsischen Dialekt...</td>\n",
       "      <td>[(der Stadt Leipzig, 1.658497245537868e-05), (...</td>\n",
       "    </tr>\n",
       "    <tr>\n",
       "      <th>4</th>\n",
       "      <td>2677</td>\n",
       "      <td>Kanada (englisch und französisch Canada) ist e...</td>\n",
       "      <td>[(Kanada, 0.0007969276779531967), (und die, 0....</td>\n",
       "    </tr>\n",
       "  </tbody>\n",
       "</table>\n",
       "</div>"
      ],
      "text/plain": [
       "    pageid                                            content  \\\n",
       "0     1428  Kanada (englisch und französisch Canada) ist e...   \n",
       "1  3221050  Moskau (russisch Москва́ [mɐskˈva] , Moskwa) i...   \n",
       "2  1200964  Australien (amtlicher deutscher Name; englisch...   \n",
       "3     2996  Leipzig ([ˈlaɪ̯pt͡sɪç]; im sächsischen Dialekt...   \n",
       "4     2677  Kanada (englisch und französisch Canada) ist e...   \n",
       "\n",
       "                                            keywords  \n",
       "0  [(Kanada, 0.0007969276779531967), (und die, 0....  \n",
       "1  [(Moskau, 0.0003090203792953505), (der Stadt M...  \n",
       "2  [(Australien, 0.0009412149837407555), (der Ein...  \n",
       "3  [(der Stadt Leipzig, 1.658497245537868e-05), (...  \n",
       "4  [(Kanada, 0.0007969276779531967), (und die, 0....  "
      ]
     },
     "execution_count": 60,
     "metadata": {},
     "output_type": "execute_result"
    }
   ],
   "source": [
    "results.head()"
   ]
  },
  {
   "cell_type": "markdown",
   "id": "2d87ea53",
   "metadata": {},
   "source": [
    "## evaluation"
   ]
  },
  {
   "cell_type": "code",
   "execution_count": null,
   "id": "ab1e500f",
   "metadata": {},
   "outputs": [],
   "source": []
  }
 ],
 "metadata": {
  "kernelspec": {
   "display_name": "Python 3.10.8 64-bit",
   "language": "python",
   "name": "python3108jvsc74a57bd0b0fa6594d8f4cbf19f97940f81e996739fb7646882a419484c72d19e05852a7e"
  },
  "language_info": {
   "codemirror_mode": {
    "name": "ipython",
    "version": 3
   },
   "file_extension": ".py",
   "mimetype": "text/x-python",
   "name": "python",
   "nbconvert_exporter": "python",
   "pygments_lexer": "ipython3",
   "version": "3.10.8"
  }
 },
 "nbformat": 4,
 "nbformat_minor": 5
}
