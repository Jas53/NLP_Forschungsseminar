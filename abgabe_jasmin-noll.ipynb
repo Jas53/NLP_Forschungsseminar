{
 "cells": [
  {
   "cell_type": "markdown",
   "id": "9d3462ab",
   "metadata": {},
   "source": [
    "# Abgabe zur Vorlesung \"Forschungsthemen Informatik\" von Jasmin Noll\n",
    "\n",
    "**Name:** Jasmin Noll  \n",
    "**Kurs:** WWI2020F  \n",
    "**Vorlesung:** Forschungsthemen Informatik  \n",
    "**Dozenten:** <font color=\"red\">TODO</font>  \n",
    "**Bearbeitete Aufgabe:** Shared Task 2: Top Modelling auf Artikel aus DE-Wikipedia  \n",
    "**Abgabetermin:** 31.07.2023\n",
    "\n",
    "#### Aufgabenstellung \n",
    "<font color=\"red\">TODO: Überarbeiten?</font>  \n",
    "Die *exzellenten Artikel* des deutschen Wikipedias sollen automatisiert heruntergeladen werden. Aus diesen Artikel sollen anschließend die wichtigsten Schlagwörtern mit entsprechendem Relevanzscore identifiziert werden. \n",
    "\n",
    "Hier werden drei verschiedene Keyword Extraction-Modelle verwendet und am Ende miteinander verglichen. Diese werden auf die vorbereiteten exzellenten Artikel des deutschen Wikipedia verwendet.  \n",
    "Verglichen werden die Modelle anhand ihrerer Ergebnisse - also den identifizierten Schlagwörtern. Bewertet werden die Modelle mit den Metriken *Mean Squared Error*, *Mean Absolute Error* und *Mean Absolute Percentage Error*.\n",
    "\n",
    "#### Ungefähre Dauer eines Durchlaufs\n",
    "<font color=\"red\">TODO:</font> Aktualisieren und fertig ausfüllen\n",
    "- Mit allen exzellenten Artikel: ~ 2 - 2,5 Stunden\n",
    "- Mit 100 exzellente Artikel: ~ <font color=\"red\">TODO</font> Minuten\n",
    "\n",
    "#### Inhaltsverzeichnis\n",
    "<a name=\"content\"></a>\n",
    "1. [Exzellente Artikel vom deutschen Wikipedia](#wiki)  \n",
    "2. [Preprocessing](#preprocessing)  \n",
    "3. [Extract Keywords](#keywords)  \n",
    "&nbsp; 3.1. [YAKE](#yake)  \n",
    "&nbsp; 3.2. [RAKE](#rake)  \n",
    "&nbsp; 3.3. [KeyBERT](#bert)  \n",
    "4. [Evaluation](#eval)  \n",
    "&nbsp; 4.1. [Ground Truth](#ground_truth)  \n",
    "&nbsp; 4.2. [Metriken berechnen](#metrics)  \n",
    "&nbsp; 4.3. [Vergleich](#comp)   \n",
    "5. [Fazit](#fazit)  "
   ]
  },
  {
   "cell_type": "code",
   "execution_count": 134,
   "id": "02c76de7",
   "metadata": {},
   "outputs": [],
   "source": [
    "import pandas as pd\n",
    "import numpy as np\n",
    "import plotly.graph_objects as go\n",
    "from plotly.subplots import make_subplots\n",
    "\n",
    "import time\n",
    "import requests\n",
    "from IPython.display import clear_output\n",
    "import concurrent.futures\n",
    "\n",
    "import re\n",
    "import string\n",
    "\n",
    "import yake\n",
    "from rake_nltk import Rake, Metric\n",
    "from keybert import KeyBERT\n",
    "\n",
    "from sklearn.metrics import mean_squared_error, mean_absolute_error, mean_absolute_percentage_error\n",
    "\n",
    "#import spacy\n",
    "#import gensim\n",
    "#from gensim import corpora\n",
    "#from nltk.corpus import stopwords\n",
    "#nltk.download(\"stopwords\")\n",
    "\n",
    "import warnings\n",
    "warnings.filterwarnings(\"ignore\")"
   ]
  },
  {
   "cell_type": "markdown",
   "id": "b2926052",
   "metadata": {},
   "source": [
    "Hier werden einige wichtig Parameter für das restliche notebook gesetzt, um neben einer klaren Übersicht dieser Konfigurationsparameter auch einen konsistenten Code zu sichern."
   ]
  },
  {
   "cell_type": "code",
   "execution_count": 135,
   "id": "4dd60fa2",
   "metadata": {},
   "outputs": [],
   "source": [
    "# configuration values\n",
    "URL = \"https://de.wikipedia.org/w/api.php\"\n",
    "\n",
    "# search criteria for wikipedia articles to process\n",
    "SR_SEARCH_VALUE = \"incategory:Wikipedia:Exzellent\"\n",
    "\n",
    "# set params to request pageid\n",
    "params_pageid = {\n",
    "    \"action\": \"query\",\n",
    "    \"prop\": \"revisions\",\n",
    "    \"rvprop\": \"content\",\n",
    "    \"rvslots\": \"*\",\n",
    "    \"format\": \"json\",\n",
    "    \"formatversion\": 2,\n",
    "    \"srsearch\": SR_SEARCH_VALUE,\n",
    "    \"list\": \"search\",\n",
    "    \"sroffset\": 0\n",
    "}\n",
    "\n",
    "# set params to request articles (based on id)\n",
    "# Source: https://stackoverflow.com/questions/4452102/how-to-get-plain-text-out-of-wikipedia\n",
    "# Source: https://www.mediawiki.org/wiki/API:Parsing_wikitext\n",
    "params_content = {\n",
    "    \"action\": \"query\",\n",
    "    \"prop\": \"extracts\",\n",
    "    \"format\": \"json\",\n",
    "    \"formatversion\": 2,\n",
    "    \"pageids\": 0,\n",
    "    \"explaintext\": True\n",
    "}\n",
    "\n",
    "# set off for base calculation used in calculating propability of keywords.\n",
    "#   1.05 is used, because this way no propability of any keyword \n",
    "#   can be 0.0% (keyword is 100% true for article) \n",
    "BASE_SETOFF = 1.05\n",
    "# number of keywords\n",
    "top_keywords = 10"
   ]
  },
  {
   "cell_type": "markdown",
   "id": "be62c591",
   "metadata": {},
   "source": [
    "Die folgenden Konfigurationsparameter dienen dazu, nur Teile des Codes genauer zu betrachten. Mit Hilfe dieser booleaschen Parameter lassen sich die Anfragen an die deutsche Wikipedia-API, die Durchführung der einzelnen Keyword Extractor und die Durchführung des selbstgeschriebenen Counters überspringen.  \n",
    "Außerdem kann hier auch ausgewählt werden, dass anstatt aller exzellenten Artikel nur die ersten 100 genutzt werden können, um das gesamte Notebook zu Test-Zwecken schneller ausführen zu können.\n",
    "\n",
    "Diese Variablen können entsprechend angepasst werden."
   ]
  },
  {
   "cell_type": "code",
   "execution_count": null,
   "id": "18690cce",
   "metadata": {},
   "outputs": [],
   "source": [
    "# configuration values (adjust as needed)\n",
    "# if True skip wiki-API request\n",
    "skip_request = True\n",
    "\n",
    "# if True use only 100 articles for notebook\n",
    "use_dump = False\n",
    "if use_dump:\n",
    "    skip_request = False\n",
    "    \n",
    "# if True skip keyword extraction\n",
    "skip_kw_extraction = False\n",
    "\n",
    "# if True skip counter\n",
    "skip_counter = False"
   ]
  },
  {
   "cell_type": "code",
   "execution_count": 24,
   "id": "ae3a8ccf",
   "metadata": {},
   "outputs": [],
   "source": [
    "# source: internal IBM source\n",
    "def update_progress(progress):\n",
    "    \"\"\"\n",
    "    calculate progress of task\n",
    "    \n",
    "    Params:\n",
    "        progress (float): progress in decimal (current iteration / all iterations)\n",
    "    \"\"\"\n",
    "    bar_length = 50\n",
    "    if isinstance(progress, int):\n",
    "        progress = float(progress)\n",
    "    if not isinstance(progress, float):\n",
    "        progress = 0\n",
    "    if progress < 0:\n",
    "        progress = 0\n",
    "    if progress >= 1:\n",
    "        progress = 1\n",
    "\n",
    "    block = int(round(bar_length * progress))\n",
    "\n",
    "    clear_output(wait = True)\n",
    "    text = \"Progress: [{0}] {1:.1f}%\".format( \"#\" * block + \"-\" * (bar_length - block), progress * 100)\n",
    "    print(text)"
   ]
  },
  {
   "cell_type": "code",
   "execution_count": null,
   "id": "dd05111c",
   "metadata": {},
   "outputs": [],
   "source": [
    "global_start = time.time()"
   ]
  },
  {
   "cell_type": "markdown",
   "id": "d72323da",
   "metadata": {},
   "source": [
    "## 1. Exzellente Artikel vom deutschen Wikipedia abfragen\n",
    "<a name=\"wiki\"/>\n",
    "\n",
    "[Zurück zum Inhaltsverzeichnis](#content)\n",
    "\n",
    "Für die Bearbeitung des Aufgabenstellung werden alle exzellente Artikel des deutschen Wikipedias benötigt. Diese werden mit Hilfe mehrerer Anfragen an die API des deutschen Wikipedias gesammelt. "
   ]
  },
  {
   "cell_type": "code",
   "execution_count": 26,
   "id": "2a282c9e",
   "metadata": {},
   "outputs": [],
   "source": [
    "def get_pages_by_id(id):\n",
    "    request_params = params_content.copy()\n",
    "    request_params.update({\"pageids\": id})\n",
    "    response = S.get(url = URL, params = request_params)\n",
    "    page = response.json()\n",
    "    content.update({id: page[\"query\"][\"pages\"][0][\"extract\"]})\n",
    "    if len(content) % 10 == 0:\n",
    "        update_progress(len(content) / len(ids))"
   ]
  },
  {
   "cell_type": "code",
   "execution_count": 27,
   "id": "1c087d0c",
   "metadata": {},
   "outputs": [],
   "source": [
    "S = requests.Session()"
   ]
  },
  {
   "cell_type": "markdown",
   "id": "7e0b0504",
   "metadata": {},
   "source": [
    "Im ersten Schritt werden alle *pageid*s der Artikel angefragt, welche die Voraussetzung erfüllen, dass sie die Kategorie *Exzellenter Artikel** haben. Dabei ist es hier nur möglich 10 *pageid*s auf einmal anzufragen. Deshalb werden hier mehrere Anfragen abgeschickt, welche alle pageids zu allen exzellenten Artikel sammeln. Dafür wird der Parameter *sroffset* bei jeder Anfrage um 10 erhöht."
   ]
  },
  {
   "cell_type": "code",
   "execution_count": 28,
   "id": "a207aeed",
   "metadata": {},
   "outputs": [
    {
     "name": "stdout",
     "output_type": "stream",
     "text": [
      "SKIPPED REQUEST FOR IDS\n"
     ]
    }
   ],
   "source": [
    "if not skip_request:\n",
    "    # request excellent arictles from german wikipedia via wiki api (10 at a time)\n",
    "    response = S.get(url = URL, params = params_pageid)\n",
    "    data = response.json()\n",
    "\n",
    "    # get ids from excellent articles\n",
    "    ids = []\n",
    "\n",
    "    for entry in data[\"query\"][\"search\"]:\n",
    "        ids.append(entry[\"pageid\"])\n",
    "\n",
    "    while data.get(\"continue\"):\n",
    "        params_pageid.update({\"sroffset\": data[\"continue\"][\"sroffset\"]})\n",
    "\n",
    "        #print(\"\\n%s\" % (PARAMS))\n",
    "        response = S.get(url = URL, params = params_pageid)\n",
    "        data = response.json()\n",
    "\n",
    "        for entry in data[\"query\"][\"search\"]:\n",
    "            ids.append(entry[\"pageid\"])\n",
    "\n",
    "    print(\"Anzahl gesammelter Exzellenter Artikel: %s\" %(len(ids)))\n",
    "else:\n",
    "    print(\"SKIPPED REQUEST FOR IDS\")"
   ]
  },
  {
   "cell_type": "markdown",
   "id": "66d119fd",
   "metadata": {},
   "source": [
    "Im zweiten Schritt wird für jede ID der exzellenten Artikel eine separate Anfrage abgeschickt, um den gesamten Inhalt des dazugehörigen Artikels zusammeln. Dabei werden hier die Parameter so gesetzt, dass Artikel nahe zu im Klartextformat steht. Das erleichtert das Preprocessing der Artikel im nächsten Schritt."
   ]
  },
  {
   "cell_type": "code",
   "execution_count": 30,
   "id": "564f8762",
   "metadata": {},
   "outputs": [
    {
     "name": "stdout",
     "output_type": "stream",
     "text": [
      "SKIPPED REQUEST FOR ARTICLES\n"
     ]
    }
   ],
   "source": [
    "if not skip_request:\n",
    "    content = {}\n",
    "    start = time.time()\n",
    "    if use_dump:\n",
    "        ids = ids[:100]\n",
    "    with concurrent.futures.ThreadPoolExecutor() as executor:\n",
    "        executor.map(get_pages_by_id, ids)\n",
    "\n",
    "    end = time.time()\n",
    "    dur = end - start\n",
    "    print(\"DUR: %s\" % (dur))\n",
    "    \n",
    "    # save requested data (wikipage content) in df\n",
    "    data = pd.DataFrame(content.items())\n",
    "    data = data.rename({0: \"pageid\", 1:\"content\"}, axis = 1)\n",
    "    \n",
    "    # save data to csv for faster loading\n",
    "    if not use_dump:\n",
    "        data.to_csv(\"./data/excellent_article_extract.csv\")\n",
    "else:\n",
    "    print(\"SKIPPED REQUEST FOR ARTICLES\")"
   ]
  },
  {
   "cell_type": "markdown",
   "id": "4d10b30b",
   "metadata": {},
   "source": [
    "<font color=\"red\">TODO:</font> Einige Statistiken der Daten aufzeigen (Wie viele Artikel?, Wie lang sind die Artikel (im Durchschnitt)?, Duplikate, etc.)"
   ]
  },
  {
   "cell_type": "markdown",
   "id": "201dce61",
   "metadata": {},
   "source": [
    "Die angefragten Daten können auch vom filesystem geladen werden"
   ]
  },
  {
   "cell_type": "code",
   "execution_count": 31,
   "id": "585c20f6",
   "metadata": {},
   "outputs": [],
   "source": [
    "if skip_request:\n",
    "    # load data from file\n",
    "    data = pd.read_csv(\"./2783_excellent_article_extract.csv\")\n",
    "    #data = pd.read_csv(\"./data/excellent_article_extract.csv\")\n",
    "    data = data[[\"pageid\", \"content\"]]\n",
    "    data.head()"
   ]
  },
  {
   "cell_type": "markdown",
   "id": "7a23cbaf",
   "metadata": {},
   "source": [
    "## 2. Preprocessing\n",
    "<a name=\"preprocessing\"/>\n",
    "\n",
    "[Zurück zum Inhaltsverzeichnis](#content)\n",
    "\n",
    "Die zuvor angefragten Texte müssen - auch wenn diese schon nahezu in einem anwendbaren Format sind - ein wenig vorverarbeitet werden, damit die Modelle die besten Ergebnisse liefern.\n",
    "\n",
    "Unter der Nutzung von **Regular Expression** (RegEx) werden die einzelnen Artikel entsprechend vorverarbeitet. Damit werden Zeilenumbrüche, einige Formatierungen (wie z.B. die Formatierung von Überschriften) und Sonderzeichen entfernt. Dabei werden die betroffenen Zeichen entsprechend ersetzt."
   ]
  },
  {
   "cell_type": "code",
   "execution_count": 32,
   "id": "760f12be",
   "metadata": {},
   "outputs": [],
   "source": [
    "def preprocess_data(text, idx):\n",
    "    text = re.sub(r\"\\n\", \"\", text)\n",
    "    text = re.sub(r\"\\(=.*?\\)\", \"\", text)\n",
    "    text = re.sub(r\"--+\", \"\", text)\n",
    "    text = re.sub(r\"==.*?==\", \"\", text)\n",
    "    text = re.sub(r\"=\", \"\", text)\n",
    "    \n",
    "    #source: https://stackoverflow.com/questions/2077897/substitute-multiple-whitespace-with-single-whitespace-in-python\n",
    "    _RE_COMBINE_WHITESPACE = re.compile(r\"\\s+\")\n",
    "    text = _RE_COMBINE_WHITESPACE.sub(\" \", text).strip()\n",
    "    \n",
    "    preprocessed_content.update({idx: text})\n",
    "    \n",
    "    if len(preprocessed_content) % 10 == 0:\n",
    "        update_progress(len(preprocessed_content) / len(ids))"
   ]
  },
  {
   "cell_type": "markdown",
   "id": "9b1216b1",
   "metadata": {},
   "source": [
    "<font color=\"red\">TODO:</font> Warum kein Lemma und Stemming? Was genau ist das?\n",
    "\n",
    "Dabei werden hier für die Vorbereitung der Artikel weder Lemmatization noch Stemming verwendet. Das liegt daran, wie die in diesem Notebook verwendeten Modelle die Daten erwarten.  \n",
    "Bei jedem der verwendeten Modelle werden ganz normale Klartexte erwartet, die keine Wortanpassungen habe, wie sie bei Lemmatization oder Stemming auftreten würden.\n",
    "\n",
    "#### Was ist Lemmatization?\n",
    "#### Was ist Stemming?\n",
    "\n",
    "<font color=\"red\">TODO:</font> Warum diese Stopwords und was sind Alternativen?    \n",
    "Ebenfalls werden im Rahmen des Notebooks auch Stopwords verwender. Stopwords sind dabei Wörter die in Texten (häufig) vorkommen, dabei allerdings nur wenig bis gar keinen Inhalt vermitteln und dementsprechend bei der Analyse ignoriert werden können. Das hilft dabei auch den einzelnen Modellen, da sie zum einen durch weniger inhaltslose Informationen zum verarbeiten kommen und zum anderen schneller zu Ergebnissen kommen.\n",
    "\n",
    "Diese Stopwords werden dabei hier in der Vorverarbeitung nicht verwendet. Das liegt daran, dass die einzelnen Modelle selbst die Stopwords aus den übergebenen Texten selbstständig entfernen. Diese Stopwords werden trotzdem in einem späteren Schritt verwendet. Hier wird dabei die deutsche Stopword-Liste von YAKE verwendet, die entsprechend von [hier](https://github.com/LIAAD/yake/blob/master/yake/StopwordsList/stopwords_de.txt) erhalten wurden."
   ]
  },
  {
   "cell_type": "code",
   "execution_count": 33,
   "id": "7f5691f3",
   "metadata": {},
   "outputs": [],
   "source": [
    "german_stopwords = pd.read_csv(\"./yake_de-stopwords.csv\")\n",
    "german_stopwords = list(german_stopwords[\"stopwords\"])"
   ]
  },
  {
   "cell_type": "code",
   "execution_count": 34,
   "id": "58db5efc",
   "metadata": {},
   "outputs": [
    {
     "name": "stdout",
     "output_type": "stream",
     "text": [
      "DUR: 6.135132074356079\n"
     ]
    }
   ],
   "source": [
    "preprocessed_content = {}\n",
    "start = time.time()\n",
    "with concurrent.futures.ThreadPoolExecutor() as executor:\n",
    "    executor.map(preprocess_data, data[\"content\"], data[\"pageid\"])\n",
    "\n",
    "end = time.time()\n",
    "dur = end - start\n",
    "print(\"DUR: %s\" % (dur))"
   ]
  },
  {
   "cell_type": "code",
   "execution_count": 35,
   "id": "9437cf20",
   "metadata": {},
   "outputs": [
    {
     "data": {
      "text/html": [
       "<div>\n",
       "<style scoped>\n",
       "    .dataframe tbody tr th:only-of-type {\n",
       "        vertical-align: middle;\n",
       "    }\n",
       "\n",
       "    .dataframe tbody tr th {\n",
       "        vertical-align: top;\n",
       "    }\n",
       "\n",
       "    .dataframe thead th {\n",
       "        text-align: right;\n",
       "    }\n",
       "</style>\n",
       "<table border=\"1\" class=\"dataframe\">\n",
       "  <thead>\n",
       "    <tr style=\"text-align: right;\">\n",
       "      <th></th>\n",
       "      <th>pageid</th>\n",
       "      <th>content</th>\n",
       "    </tr>\n",
       "  </thead>\n",
       "  <tbody>\n",
       "    <tr>\n",
       "      <th>0</th>\n",
       "      <td>2677</td>\n",
       "      <td>Kanada (englisch und französisch Canada) ist e...</td>\n",
       "    </tr>\n",
       "    <tr>\n",
       "      <th>1</th>\n",
       "      <td>490244</td>\n",
       "      <td>In der Philosophie (altgriechisch φιλοσοφία ph...</td>\n",
       "    </tr>\n",
       "    <tr>\n",
       "      <th>2</th>\n",
       "      <td>16565</td>\n",
       "      <td>Frankfurt am Main () ist mit 759.224 Einwohner...</td>\n",
       "    </tr>\n",
       "    <tr>\n",
       "      <th>3</th>\n",
       "      <td>1200964</td>\n",
       "      <td>Australien (amtlicher deutscher Name; englisch...</td>\n",
       "    </tr>\n",
       "    <tr>\n",
       "      <th>4</th>\n",
       "      <td>3221050</td>\n",
       "      <td>Moskau (russisch Москва́ [mɐskˈva] , Moskwa) i...</td>\n",
       "    </tr>\n",
       "  </tbody>\n",
       "</table>\n",
       "</div>"
      ],
      "text/plain": [
       "    pageid                                            content\n",
       "0     2677  Kanada (englisch und französisch Canada) ist e...\n",
       "1   490244  In der Philosophie (altgriechisch φιλοσοφία ph...\n",
       "2    16565  Frankfurt am Main () ist mit 759.224 Einwohner...\n",
       "3  1200964  Australien (amtlicher deutscher Name; englisch...\n",
       "4  3221050  Moskau (russisch Москва́ [mɐskˈva] , Moskwa) i..."
      ]
     },
     "execution_count": 35,
     "metadata": {},
     "output_type": "execute_result"
    }
   ],
   "source": [
    "preprocessed_df = pd.DataFrame(preprocessed_content.items())\n",
    "preprocessed_df = preprocessed_df.rename({0: \"pageid\", 1:\"content\"}, axis = 1)\n",
    "\n",
    "preprocessed_df.head()"
   ]
  },
  {
   "cell_type": "markdown",
   "id": "8f4130f3",
   "metadata": {},
   "source": [
    "needed?\n",
    "```python\n",
    "# save preproessed wiki pages to filesystem\n",
    "preprocessed_df.to_csv(\"./data/preprocessed_wiki_pages.csv\")\n",
    "```"
   ]
  },
  {
   "cell_type": "markdown",
   "id": "80c7f01d",
   "metadata": {},
   "source": [
    "## 3. Extract Keywords\n",
    "<a name=\"keywords\"/>\n",
    "\n",
    "[Zurück zum Inhaltsverzeichnis](#content)\n",
    "\n",
    "<font color=\"red\">TODO:</font> Was ist Keyword Extraction?"
   ]
  },
  {
   "cell_type": "code",
   "execution_count": 36,
   "id": "8c910aeb",
   "metadata": {},
   "outputs": [],
   "source": [
    "preprocessed_df = pd.read_csv(\"./data/preprocessed_wiki_pages.csv\")\n",
    "preprocessed_df = preprocessed_df[[\"pageid\", \"content\"]]"
   ]
  },
  {
   "cell_type": "code",
   "execution_count": 37,
   "id": "e7d2ae88",
   "metadata": {},
   "outputs": [
    {
     "data": {
      "text/html": [
       "<div>\n",
       "<style scoped>\n",
       "    .dataframe tbody tr th:only-of-type {\n",
       "        vertical-align: middle;\n",
       "    }\n",
       "\n",
       "    .dataframe tbody tr th {\n",
       "        vertical-align: top;\n",
       "    }\n",
       "\n",
       "    .dataframe thead th {\n",
       "        text-align: right;\n",
       "    }\n",
       "</style>\n",
       "<table border=\"1\" class=\"dataframe\">\n",
       "  <thead>\n",
       "    <tr style=\"text-align: right;\">\n",
       "      <th></th>\n",
       "      <th>pageid</th>\n",
       "      <th>content</th>\n",
       "    </tr>\n",
       "  </thead>\n",
       "  <tbody>\n",
       "    <tr>\n",
       "      <th>0</th>\n",
       "      <td>2677</td>\n",
       "      <td>Kanada (englisch und französisch Canada) ist e...</td>\n",
       "    </tr>\n",
       "    <tr>\n",
       "      <th>1</th>\n",
       "      <td>490244</td>\n",
       "      <td>In der Philosophie (altgriechisch φιλοσοφία ph...</td>\n",
       "    </tr>\n",
       "    <tr>\n",
       "      <th>2</th>\n",
       "      <td>3221050</td>\n",
       "      <td>Moskau (russisch Москва́ [mɐskˈva] , Moskwa) i...</td>\n",
       "    </tr>\n",
       "    <tr>\n",
       "      <th>3</th>\n",
       "      <td>1200964</td>\n",
       "      <td>Australien (amtlicher deutscher Name; englisch...</td>\n",
       "    </tr>\n",
       "    <tr>\n",
       "      <th>4</th>\n",
       "      <td>880316</td>\n",
       "      <td>Finnland (finnisch [ˈsuɔmi], schwedisch Finlan...</td>\n",
       "    </tr>\n",
       "  </tbody>\n",
       "</table>\n",
       "</div>"
      ],
      "text/plain": [
       "    pageid                                            content\n",
       "0     2677  Kanada (englisch und französisch Canada) ist e...\n",
       "1   490244  In der Philosophie (altgriechisch φιλοσοφία ph...\n",
       "2  3221050  Moskau (russisch Москва́ [mɐskˈva] , Moskwa) i...\n",
       "3  1200964  Australien (amtlicher deutscher Name; englisch...\n",
       "4   880316  Finnland (finnisch [ˈsuɔmi], schwedisch Finlan..."
      ]
     },
     "execution_count": 37,
     "metadata": {},
     "output_type": "execute_result"
    }
   ],
   "source": [
    "preprocessed_df.head()"
   ]
  },
  {
   "cell_type": "markdown",
   "id": "a6d8a5f6",
   "metadata": {},
   "source": [
    "### 3.1. YAKE\n",
    "<a name=\"yake\"></a>\n",
    "\n",
    "<font color=\"red\">TODO:</font> YAKE erklären\n",
    "\n",
    "using yakes keyword extractor  \n",
    "(https://liaad.github.io/yake/)\n",
    "\n",
    "yake hat eine eigene stopwords liste (https://github.com/LIAAD/yake/blob/master/yake/StopwordsList/stopwords_de.txt)  \n",
    "--> Keine weitere Stopwords suche benötigt\n",
    "\n",
    "YAKE ist sehr schnell (und leichter) Ansatz (https://towardsdatascience.com/unsupervised-keyphrase-extraction-with-patternrank-28ec3ca737f0)\n",
    "\n",
    "Lemma wird auch nicht benötigt, weil Yake ohne entsprechend trainiert wurde  \n",
    "\n",
    "Je geringer der Wahrscheinlichkeitswert, desto relevanter das Keyword (https://liaad.github.io/yake/docs/getting_started.html#output)\n",
    "\n",
    "<font color=\"red\">TODO:</font> Was bedeuten die Werte der Initialisierung?"
   ]
  },
  {
   "cell_type": "code",
   "execution_count": 38,
   "id": "754df521",
   "metadata": {},
   "outputs": [],
   "source": [
    "# initialize YAKE keyword extractor\n",
    "yake_model = yake.KeywordExtractor(\n",
    "    lan = \"de\",\n",
    "    dedupLim = 0.99,\n",
    "    top = top_keywords,\n",
    "    dedupFunc = \"seqm\", # default: seqm, alternative: jaro\n",
    "    n = 2,\n",
    "    windowsSize = 1\n",
    ")"
   ]
  },
  {
   "cell_type": "code",
   "execution_count": 39,
   "id": "e5f8f9e5",
   "metadata": {},
   "outputs": [
    {
     "name": "stdout",
     "output_type": "stream",
     "text": [
      "Progress: [##################################################] 100.0%\n",
      "DUR: 837.2417452335358\n"
     ]
    }
   ],
   "source": [
    "if not skip_kw_extraction:\n",
    "    yake_keywords = {}\n",
    "    start = time.time()\n",
    "\n",
    "    for wiki_page, idx in zip(preprocessed_df[\"content\"], preprocessed_df[\"pageid\"]):\n",
    "        keywords = yake_model.extract_keywords(wiki_page)\n",
    "        yake_keywords.update({idx: keywords})\n",
    "\n",
    "        update_progress(len(yake_keywords) / preprocessed_df.shape[0])\n",
    "\n",
    "    end = time.time()\n",
    "\n",
    "    print(\"DUR: %s\" % (end - start))\n",
    "    yake_df = pd.DataFrame(yake_keywords.items())\n",
    "    yake_df = yake_df.rename({0: \"pageid\", 1:\"YAKE_keywords\"}, axis = 1)\n",
    "    \n",
    "    if not use_dump:\n",
    "        # save keywords with coresponding page id\n",
    "        yake_df.to_csv(\"./data/wikipage_keywords-YAKE.csv\")\n",
    "else:\n",
    "    print(\"SKIPPED KEYWORD EXTRACTION WITH YAKE\")"
   ]
  },
  {
   "cell_type": "code",
   "execution_count": 120,
   "id": "eb0e7544",
   "metadata": {},
   "outputs": [
    {
     "name": "stdout",
     "output_type": "stream",
     "text": [
      "SKIPPED LOADING\n"
     ]
    }
   ],
   "source": [
    "if skip_kw_extraction:\n",
    "    yake_df = pd.read_csv(\"./data/wikipage_keywords-YAKE.csv\")\n",
    "    #yake_df = yake_df[[\"pageid\", \"YAKE_keywords\"]]\n",
    "    yake_df = yake_df[[\"pageid\", \"keywords\"]]\n",
    "    yake_df = yake_df.rename({\"keywords\": \"YAKE_keywords\"}, axis = 1)\n",
    "    yake_df.head()\n",
    "else:\n",
    "    print(\"SKIPPED LOADING\")"
   ]
  },
  {
   "cell_type": "markdown",
   "id": "8154350f",
   "metadata": {},
   "source": [
    "### 3.2. RAKE\n",
    "<a name=\"rake\"></a>\n",
    "\n",
    "<font color=\"red\">TODO:</font> RAKE erklären  \n",
    "<font color=\"red\">TODO:</font> Was bedeuten die Werte der Initialisierung?"
   ]
  },
  {
   "cell_type": "code",
   "execution_count": 41,
   "id": "de3cc3bd",
   "metadata": {},
   "outputs": [],
   "source": [
    "# initialize RAKE model\n",
    "rake_model = Rake(\n",
    "    language = \"german\",\n",
    "    stopwords = german_stopwords,\n",
    "    ranking_metric = Metric.WORD_FREQUENCY,\n",
    "    max_length = 2,\n",
    "    include_repeated_phrases = False,\n",
    "    punctuations = \".,-;)\"\n",
    ")"
   ]
  },
  {
   "cell_type": "code",
   "execution_count": 42,
   "id": "c930a39a",
   "metadata": {},
   "outputs": [
    {
     "name": "stdout",
     "output_type": "stream",
     "text": [
      "Progress: [##################################################] 100.0%\n",
      "DUR: 46.937079191207886\n"
     ]
    }
   ],
   "source": [
    "if not skip_kw_extraction:\n",
    "    rake_keywords = {}\n",
    "    start = time.time()\n",
    "\n",
    "    for wiki_page, idx in zip(preprocessed_df[\"content\"], preprocessed_df[\"pageid\"]):\n",
    "        rake_model.extract_keywords_from_text(wiki_page)\n",
    "        # get top 10 keyowords for wiki page\n",
    "        ranking = rake_model.get_ranked_phrases_with_scores()[:top_keywords]\n",
    "        # recalculate propability\n",
    "        keyword_ranking = []\n",
    "        base = ranking[0][0] * BASE_SETOFF\n",
    "        for rank in ranking:\n",
    "            kw = rank[1]\n",
    "            prop = rank[0]\n",
    "            keyword_ranking.append((kw, (1 - (prop / base)) / 100))\n",
    "\n",
    "        rake_keywords.update({idx: keyword_ranking})\n",
    "        update_progress(len(rake_keywords) / preprocessed_df.shape[0])\n",
    "\n",
    "    end = time.time()\n",
    "    dur = end - start\n",
    "    print(\"DUR: %s\" % (dur))\n",
    "    \n",
    "    rake_df = pd.DataFrame(rake_keywords.items())\n",
    "    rake_df = rake_df.rename({0: \"pageid\", 1:\"RAKE_keywords\"}, axis = 1)\n",
    "    \n",
    "    if not use_dump:\n",
    "        # save keywords with coresponding page id\n",
    "        rake_df.to_csv(\"./data/wikipage_keywords-RAKE.csv\")\n",
    "else:\n",
    "    print(\"SKIPPED KEYWORD EXTRACTION WITH RAKE\")"
   ]
  },
  {
   "cell_type": "code",
   "execution_count": 121,
   "id": "ae5114c2",
   "metadata": {},
   "outputs": [
    {
     "name": "stdout",
     "output_type": "stream",
     "text": [
      "SKIPPED LOADING\n"
     ]
    }
   ],
   "source": [
    "if skip_kw_extraction:\n",
    "    # read rake keywords\n",
    "    rake_df = pd.read_csv(\"./data/wikipage_keywords-RAKE.csv\")\n",
    "    #rake_df = rake_df[[\"pageid\", \"RAKE_keywords\"]]\n",
    "    rake_df = rake_df[[\"pageid\", \"keywords\"]]\n",
    "    rake_df = rake_df.rename({\"keywords\": \"RAKE_keywords\"}, axis = 1)\n",
    "    rake_df.head()\n",
    "else:\n",
    "    print(\"SKIPPED LOADING\")"
   ]
  },
  {
   "cell_type": "markdown",
   "id": "d3d9d9e5",
   "metadata": {},
   "source": [
    "### 3.3. KeyBERT\n",
    "<a name=\"bert\"></a>\n",
    "\n",
    "\n",
    "<font color=\"red\">TODO:</font> KeyBERT erklären.  \n",
    "<font color=\"red\">TODO:</font> Was bedeuten die Werte bei Aufrufen der *extract_keywords()*-Methode?"
   ]
  },
  {
   "cell_type": "code",
   "execution_count": 44,
   "id": "82c9c9ea",
   "metadata": {},
   "outputs": [],
   "source": [
    "# initialize KeyBERT model\n",
    "kw_model = KeyBERT()"
   ]
  },
  {
   "cell_type": "code",
   "execution_count": 45,
   "id": "8093d4b4",
   "metadata": {},
   "outputs": [
    {
     "name": "stdout",
     "output_type": "stream",
     "text": [
      "Progress: [##################################################] 100.0%\n",
      "DUR: 7680.418473005295\n"
     ]
    }
   ],
   "source": [
    "if not skip_kw_extraction:\n",
    "    bert_keywords = {}\n",
    "    start = time.time()\n",
    "\n",
    "    for wiki_page, idx in zip(preprocessed_df[\"content\"], preprocessed_df[\"pageid\"]): \n",
    "        # get top 10 keywords from wiki page\n",
    "        ranking = kw_model.extract_keywords(\n",
    "            wiki_page, \n",
    "            keyphrase_ngram_range = (1, 1), \n",
    "            stop_words = german_stopwords,\n",
    "            top_n = top_keywords,\n",
    "            use_mmr = True,\n",
    "            diversity = 0.3\n",
    "        )\n",
    "        # recalculate propability\n",
    "        keyword_ranking = []\n",
    "        base = ranking[0][1] * BASE_SETOFF\n",
    "        for rank in ranking:\n",
    "            kw = rank[0]\n",
    "            prop = rank[1]\n",
    "            keyword_ranking.append((kw, (1 - (prop / base)) / 100))\n",
    "\n",
    "        bert_keywords.update({idx: keyword_ranking})\n",
    "        update_progress(len(bert_keywords) / preprocessed_df.shape[0])\n",
    "\n",
    "    end = time.time()\n",
    "    dur = end - start\n",
    "    print(\"DUR: %s\" % (dur))\n",
    "    \n",
    "    bert_df = pd.DataFrame(bert_keywords.items())\n",
    "    bert_df = bert_df.rename({0: \"pageid\", 1:\"KeyBERT_keywords\"}, axis = 1)\n",
    "    \n",
    "    if not use_dump:\n",
    "        # save keywords with coresponding page id\n",
    "        bert_df.to_csv(\"./data/wikipage_keywords-BERT.csv\")\n",
    "else:\n",
    "    print(\"SKIPPED KEYWORD EXTRACTION WITH KeyBERT\")"
   ]
  },
  {
   "cell_type": "code",
   "execution_count": 122,
   "id": "a02394d6",
   "metadata": {},
   "outputs": [
    {
     "name": "stdout",
     "output_type": "stream",
     "text": [
      "SKIPPED LOADING\n"
     ]
    }
   ],
   "source": [
    "if skip_kw_extraction:\n",
    "    bert_df = pd.read_csv(\"./data/wikipage_keywords-BERT.csv\")\n",
    "    #bert_df = bert_df[[\"pageid\", \"KeyBERT_keywords\"]]\n",
    "    bert_df = bert_df[[\"pageid\", \"keywords\"]]\n",
    "    bert_df = bert_df.rename({\"keywords\": \"KeyBERT_keywords\"}, axis = 1)\n",
    "    bert_df.head()\n",
    "else:\n",
    "    print(\"SKIPPED LOADING\")"
   ]
  },
  {
   "cell_type": "markdown",
   "id": "425f52a5",
   "metadata": {},
   "source": [
    "### 3.4. Results from Keyword Extraction\n",
    "<a name=\"results\"></a>\n",
    "\n",
    "<font color=\"red\">TODO:</font> Was passiert hier?"
   ]
  },
  {
   "cell_type": "code",
   "execution_count": 47,
   "id": "7f3fa167",
   "metadata": {},
   "outputs": [
    {
     "data": {
      "text/html": [
       "<div>\n",
       "<style scoped>\n",
       "    .dataframe tbody tr th:only-of-type {\n",
       "        vertical-align: middle;\n",
       "    }\n",
       "\n",
       "    .dataframe tbody tr th {\n",
       "        vertical-align: top;\n",
       "    }\n",
       "\n",
       "    .dataframe thead th {\n",
       "        text-align: right;\n",
       "    }\n",
       "</style>\n",
       "<table border=\"1\" class=\"dataframe\">\n",
       "  <thead>\n",
       "    <tr style=\"text-align: right;\">\n",
       "      <th></th>\n",
       "      <th>pageid</th>\n",
       "      <th>content</th>\n",
       "      <th>YAKE_keywords</th>\n",
       "      <th>RAKE_keywords</th>\n",
       "      <th>KeyBERT_keywords</th>\n",
       "    </tr>\n",
       "  </thead>\n",
       "  <tbody>\n",
       "    <tr>\n",
       "      <th>0</th>\n",
       "      <td>2677</td>\n",
       "      <td>Kanada (englisch und französisch Canada) ist e...</td>\n",
       "      <td>[(Kanada, 0.0005525449347212504), (Kanadas, 0....</td>\n",
       "      <td>[(provinz kanada, 0.0004761904761904778), (kan...</td>\n",
       "      <td>[(kanada, 0.0004761904761904756), (kanadiern, ...</td>\n",
       "    </tr>\n",
       "    <tr>\n",
       "      <th>1</th>\n",
       "      <td>490244</td>\n",
       "      <td>In der Philosophie (altgriechisch φιλοσοφία ph...</td>\n",
       "      <td>[(Philosophie, 0.00024914998570791535), (ISBN,...</td>\n",
       "      <td>[(philosophie –, 0.00047619047619047673), (phi...</td>\n",
       "      <td>[(philosophisches, 0.00047619047619047673), (p...</td>\n",
       "    </tr>\n",
       "    <tr>\n",
       "      <th>2</th>\n",
       "      <td>3221050</td>\n",
       "      <td>Moskau (russisch Москва́ [mɐskˈva] , Moskwa) i...</td>\n",
       "      <td>[(Moskau, 0.00024187077106055336), (Stadt Mosk...</td>\n",
       "      <td>[(stadt moskau, 0.00047619047619047673), (mosk...</td>\n",
       "      <td>[(moskau, 0.0004761904761904756), (moskausmosk...</td>\n",
       "    </tr>\n",
       "    <tr>\n",
       "      <th>3</th>\n",
       "      <td>1200964</td>\n",
       "      <td>Australien (amtlicher deutscher Name; englisch...</td>\n",
       "      <td>[(Australien, 0.0006737985774128164), (Austral...</td>\n",
       "      <td>[(australischen regierung, 0.00047619047619047...</td>\n",
       "      <td>[(australiens, 0.00047619047619047673), (austr...</td>\n",
       "    </tr>\n",
       "    <tr>\n",
       "      <th>4</th>\n",
       "      <td>880316</td>\n",
       "      <td>Finnland (finnisch [ˈsuɔmi], schwedisch Finlan...</td>\n",
       "      <td>[(Finnland, 0.000695009528347298), (Finnlands,...</td>\n",
       "      <td>[(sowjetunion finnland, 0.00047619047619047673...</td>\n",
       "      <td>[(finnland, 0.0004761904761904756), (finnlandi...</td>\n",
       "    </tr>\n",
       "  </tbody>\n",
       "</table>\n",
       "</div>"
      ],
      "text/plain": [
       "    pageid                                            content  \\\n",
       "0     2677  Kanada (englisch und französisch Canada) ist e...   \n",
       "1   490244  In der Philosophie (altgriechisch φιλοσοφία ph...   \n",
       "2  3221050  Moskau (russisch Москва́ [mɐskˈva] , Moskwa) i...   \n",
       "3  1200964  Australien (amtlicher deutscher Name; englisch...   \n",
       "4   880316  Finnland (finnisch [ˈsuɔmi], schwedisch Finlan...   \n",
       "\n",
       "                                       YAKE_keywords  \\\n",
       "0  [(Kanada, 0.0005525449347212504), (Kanadas, 0....   \n",
       "1  [(Philosophie, 0.00024914998570791535), (ISBN,...   \n",
       "2  [(Moskau, 0.00024187077106055336), (Stadt Mosk...   \n",
       "3  [(Australien, 0.0006737985774128164), (Austral...   \n",
       "4  [(Finnland, 0.000695009528347298), (Finnlands,...   \n",
       "\n",
       "                                       RAKE_keywords  \\\n",
       "0  [(provinz kanada, 0.0004761904761904778), (kan...   \n",
       "1  [(philosophie –, 0.00047619047619047673), (phi...   \n",
       "2  [(stadt moskau, 0.00047619047619047673), (mosk...   \n",
       "3  [(australischen regierung, 0.00047619047619047...   \n",
       "4  [(sowjetunion finnland, 0.00047619047619047673...   \n",
       "\n",
       "                                    KeyBERT_keywords  \n",
       "0  [(kanada, 0.0004761904761904756), (kanadiern, ...  \n",
       "1  [(philosophisches, 0.00047619047619047673), (p...  \n",
       "2  [(moskau, 0.0004761904761904756), (moskausmosk...  \n",
       "3  [(australiens, 0.00047619047619047673), (austr...  \n",
       "4  [(finnland, 0.0004761904761904756), (finnlandi...  "
      ]
     },
     "execution_count": 47,
     "metadata": {},
     "output_type": "execute_result"
    }
   ],
   "source": [
    "# join wikipages with (predicted) keywords on pageid\n",
    "results_kw_extraction = pd.concat(\n",
    "    [\n",
    "        preprocessed_df.set_index(\"pageid\"), \n",
    "        yake_df.set_index(\"pageid\"), \n",
    "        rake_df.set_index(\"pageid\"),\n",
    "        bert_df.set_index(\"pageid\")\n",
    "    ], axis = 1, join = \"inner\"\n",
    ").reset_index()\n",
    "results_kw_extraction.head()"
   ]
  },
  {
   "cell_type": "markdown",
   "id": "2d87ea53",
   "metadata": {},
   "source": [
    "## 4. Evaluation\n",
    "<a name=\"eval\"></a>\n",
    "\n",
    "[Zurück zum Inhaltsverzeichnis](#content)\n",
    "\n",
    "<font color=\"red\">TODO:</font> Wie wird evaluiert?\n",
    "\n",
    "### 4.1. Ground Truth\n",
    "<a name=\"ground_truth\"></a>\n",
    "\n",
    "<font color=\"red\">TODO:</font> Wie wird die Ground Truth generiert?"
   ]
  },
  {
   "cell_type": "code",
   "execution_count": 49,
   "id": "301661cc",
   "metadata": {},
   "outputs": [
    {
     "name": "stdout",
     "output_type": "stream",
     "text": [
      "Progress: [##################################################] 100.0%\n",
      "DUR: 99.65982794761658\n"
     ]
    }
   ],
   "source": [
    "if not skip_counter:\n",
    "    # count words (excluding german stopwords) in text\n",
    "    counter_keywords = {}\n",
    "    start = time.time()\n",
    "    for idx, content in zip(preprocessed_df[\"pageid\"], preprocessed_df[\"content\"]):\n",
    "        counter = {}\n",
    "        text = content.lower()\n",
    "        text = text.translate(str.maketrans('', '', string.punctuation))\n",
    "        text = text.split(\" \")\n",
    "\n",
    "        for word in text:\n",
    "            if word not in german_stopwords and len(word) != 0:\n",
    "                if word in counter.keys():\n",
    "                    counter.update({word: counter.get(word) + 1})\n",
    "                else:\n",
    "                    counter.update({word: 1})\n",
    "\n",
    "        sorted_counter = dict(sorted(counter.items(), key = lambda item: item[1], reverse = True))\n",
    "\n",
    "        # calculate propability that these words are keywords\n",
    "        # base for propability calculations -- occurance of most occuring word with 5% addition to it, \n",
    "        #   so propability isn't 1 for most occuring word\n",
    "        base = list(sorted_counter.items())[0][1]\n",
    "        base = base * BASE_SETOFF # TODO: rework explaination why \"* 1.05\" (5% addition to max occurance of most occuring word)\n",
    "        counts = []\n",
    "        for key, val in sorted_counter.items():\n",
    "            # append word with coresponding propability -- the lower the prop-value the bigger the propabiliy to be\n",
    "            #   an important keyword\n",
    "            counts.append((key, (1 - (val / base)) / 100))\n",
    "\n",
    "        counter_keywords.update({idx: counts[:50]})\n",
    "\n",
    "        update_progress(len(counter_keywords) / preprocessed_df.shape[0])\n",
    "\n",
    "    end = time.time()\n",
    "    dur = end - start\n",
    "    print(\"DUR: %s\" % (dur))\n",
    "    \n",
    "    results_counter = pd.DataFrame(counter_keywords.items())\n",
    "    results_counter = results_counter.rename({0: \"pageid\", 1: \"counter_keywords\"}, axis = 1)\n",
    "    \n",
    "    if not use_dump:\n",
    "        # save counter results\n",
    "        results_counter.to_csv(\"./data/counter_keywords.csv\")\n",
    "else:\n",
    "    print(\"SKIPPED COUNTER\")"
   ]
  },
  {
   "cell_type": "code",
   "execution_count": 123,
   "id": "394b53c3",
   "metadata": {},
   "outputs": [
    {
     "name": "stdout",
     "output_type": "stream",
     "text": [
      "SKIPPED LOADING\n"
     ]
    }
   ],
   "source": [
    "if skip_counter:\n",
    "    results_counter = pd.read_csv(\"./data/counter_keywords.csv\")\n",
    "    results_counter = results_counter[[\"pageid\", \"counter_keywords\"]]\n",
    "    results_counter.head()\n",
    "else:\n",
    "    print(\"SKIPPED LOADING\")"
   ]
  },
  {
   "cell_type": "markdown",
   "id": "8165809a",
   "metadata": {},
   "source": [
    "<font color=\"red\">TODO:</font> Hier sind alle Ergebnisse"
   ]
  },
  {
   "cell_type": "code",
   "execution_count": 51,
   "id": "78dbbf0b",
   "metadata": {},
   "outputs": [
    {
     "data": {
      "text/html": [
       "<div>\n",
       "<style scoped>\n",
       "    .dataframe tbody tr th:only-of-type {\n",
       "        vertical-align: middle;\n",
       "    }\n",
       "\n",
       "    .dataframe tbody tr th {\n",
       "        vertical-align: top;\n",
       "    }\n",
       "\n",
       "    .dataframe thead th {\n",
       "        text-align: right;\n",
       "    }\n",
       "</style>\n",
       "<table border=\"1\" class=\"dataframe\">\n",
       "  <thead>\n",
       "    <tr style=\"text-align: right;\">\n",
       "      <th></th>\n",
       "      <th>pageid</th>\n",
       "      <th>content</th>\n",
       "      <th>YAKE_keywords</th>\n",
       "      <th>RAKE_keywords</th>\n",
       "      <th>KeyBERT_keywords</th>\n",
       "      <th>GROUND_TRUTH</th>\n",
       "    </tr>\n",
       "  </thead>\n",
       "  <tbody>\n",
       "    <tr>\n",
       "      <th>0</th>\n",
       "      <td>2677</td>\n",
       "      <td>Kanada (englisch und französisch Canada) ist e...</td>\n",
       "      <td>[(Kanada, 0.0005525449347212504), (Kanadas, 0....</td>\n",
       "      <td>[(provinz kanada, 0.0004761904761904778), (kan...</td>\n",
       "      <td>[(kanada, 0.0004761904761904756), (kanadiern, ...</td>\n",
       "      <td>[(kanada, 0.00047619047619047673), (québec, 0....</td>\n",
       "    </tr>\n",
       "    <tr>\n",
       "      <th>1</th>\n",
       "      <td>490244</td>\n",
       "      <td>In der Philosophie (altgriechisch φιλοσοφία ph...</td>\n",
       "      <td>[(Philosophie, 0.00024914998570791535), (ISBN,...</td>\n",
       "      <td>[(philosophie –, 0.00047619047619047673), (phi...</td>\n",
       "      <td>[(philosophisches, 0.00047619047619047673), (p...</td>\n",
       "      <td>[(philosophie, 0.00047619047619047673), (–, 0....</td>\n",
       "    </tr>\n",
       "    <tr>\n",
       "      <th>2</th>\n",
       "      <td>3221050</td>\n",
       "      <td>Moskau (russisch Москва́ [mɐskˈva] , Moskwa) i...</td>\n",
       "      <td>[(Moskau, 0.00024187077106055336), (Stadt Mosk...</td>\n",
       "      <td>[(stadt moskau, 0.00047619047619047673), (mosk...</td>\n",
       "      <td>[(moskau, 0.0004761904761904756), (moskausmosk...</td>\n",
       "      <td>[(moskau, 0.00047619047619047673), (stadt, 0.0...</td>\n",
       "    </tr>\n",
       "    <tr>\n",
       "      <th>3</th>\n",
       "      <td>1200964</td>\n",
       "      <td>Australien (amtlicher deutscher Name; englisch...</td>\n",
       "      <td>[(Australien, 0.0006737985774128164), (Austral...</td>\n",
       "      <td>[(australischen regierung, 0.00047619047619047...</td>\n",
       "      <td>[(australiens, 0.00047619047619047673), (austr...</td>\n",
       "      <td>[(australien, 0.00047619047619047673), (austra...</td>\n",
       "    </tr>\n",
       "    <tr>\n",
       "      <th>4</th>\n",
       "      <td>880316</td>\n",
       "      <td>Finnland (finnisch [ˈsuɔmi], schwedisch Finlan...</td>\n",
       "      <td>[(Finnland, 0.000695009528347298), (Finnlands,...</td>\n",
       "      <td>[(sowjetunion finnland, 0.00047619047619047673...</td>\n",
       "      <td>[(finnland, 0.0004761904761904756), (finnlandi...</td>\n",
       "      <td>[(finnland, 0.00047619047619047673), (finnland...</td>\n",
       "    </tr>\n",
       "  </tbody>\n",
       "</table>\n",
       "</div>"
      ],
      "text/plain": [
       "    pageid                                            content  \\\n",
       "0     2677  Kanada (englisch und französisch Canada) ist e...   \n",
       "1   490244  In der Philosophie (altgriechisch φιλοσοφία ph...   \n",
       "2  3221050  Moskau (russisch Москва́ [mɐskˈva] , Moskwa) i...   \n",
       "3  1200964  Australien (amtlicher deutscher Name; englisch...   \n",
       "4   880316  Finnland (finnisch [ˈsuɔmi], schwedisch Finlan...   \n",
       "\n",
       "                                       YAKE_keywords  \\\n",
       "0  [(Kanada, 0.0005525449347212504), (Kanadas, 0....   \n",
       "1  [(Philosophie, 0.00024914998570791535), (ISBN,...   \n",
       "2  [(Moskau, 0.00024187077106055336), (Stadt Mosk...   \n",
       "3  [(Australien, 0.0006737985774128164), (Austral...   \n",
       "4  [(Finnland, 0.000695009528347298), (Finnlands,...   \n",
       "\n",
       "                                       RAKE_keywords  \\\n",
       "0  [(provinz kanada, 0.0004761904761904778), (kan...   \n",
       "1  [(philosophie –, 0.00047619047619047673), (phi...   \n",
       "2  [(stadt moskau, 0.00047619047619047673), (mosk...   \n",
       "3  [(australischen regierung, 0.00047619047619047...   \n",
       "4  [(sowjetunion finnland, 0.00047619047619047673...   \n",
       "\n",
       "                                    KeyBERT_keywords  \\\n",
       "0  [(kanada, 0.0004761904761904756), (kanadiern, ...   \n",
       "1  [(philosophisches, 0.00047619047619047673), (p...   \n",
       "2  [(moskau, 0.0004761904761904756), (moskausmosk...   \n",
       "3  [(australiens, 0.00047619047619047673), (austr...   \n",
       "4  [(finnland, 0.0004761904761904756), (finnlandi...   \n",
       "\n",
       "                                        GROUND_TRUTH  \n",
       "0  [(kanada, 0.00047619047619047673), (québec, 0....  \n",
       "1  [(philosophie, 0.00047619047619047673), (–, 0....  \n",
       "2  [(moskau, 0.00047619047619047673), (stadt, 0.0...  \n",
       "3  [(australien, 0.00047619047619047673), (austra...  \n",
       "4  [(finnland, 0.00047619047619047673), (finnland...  "
      ]
     },
     "execution_count": 51,
     "metadata": {},
     "output_type": "execute_result"
    }
   ],
   "source": [
    "results = pd.concat(\n",
    "    [\n",
    "        results_kw_extraction.set_index(\"pageid\"), \n",
    "        results_counter.set_index(\"pageid\")\n",
    "    ], axis = 1, join = \"inner\"\n",
    ").reset_index()\n",
    "results = results.rename({\"counter_keywords\": \"GROUND_TRUTH\"}, axis = 1)\n",
    "results.head()"
   ]
  },
  {
   "cell_type": "markdown",
   "id": "8be34943",
   "metadata": {},
   "source": [
    "### 4.2. Calc Metrics\n",
    "<a name=\"metrics\"></a>\n",
    "\n",
    "<font color=\"red\">TODO:</font> Was passiert hier?"
   ]
  },
  {
   "cell_type": "code",
   "execution_count": 52,
   "id": "f6fbde21",
   "metadata": {},
   "outputs": [
    {
     "name": "stdout",
     "output_type": "stream",
     "text": [
      "Progress: [##################################################] 100.0%\n",
      "KeyBERT done\n",
      "DUR: 14.078214883804321\n"
     ]
    }
   ],
   "source": [
    "eval = {}\n",
    "dataframes = [yake_df, rake_df, bert_df]\n",
    "#dataframes = [rake_df]\n",
    "start = time.time()\n",
    "for df in dataframes:\n",
    "    kw_column = df.columns[1]\n",
    "    model_name = kw_column[:-9]\n",
    "    print(model_name)\n",
    "    eval.update({model_name: {}})\n",
    "    for idx, kw_results, ground_truth in zip(df[\"pageid\"], df[kw_column], results[\"GROUND_TRUTH\"]):\n",
    "        comparison = {}\n",
    "        selected_keywords = []\n",
    "        \n",
    "        # set respective model keywords propability in order of occurance\n",
    "        for keyword in kw_results:\n",
    "            # if keyword is build from multiple words check each word separatly\n",
    "            for kw in keyword[0].split(\" \"):\n",
    "                comparison.update({\n",
    "                    kw.lower(): {\n",
    "                        model_name: keyword[1],\n",
    "                        \"counter\": 1.0 # propabilitx gets updated later on\n",
    "                    }\n",
    "                })\n",
    "        \n",
    "        # set counter keywords propability in order of occurance\n",
    "        for keyword in ground_truth:\n",
    "            if keyword[0] in comparison.keys():\n",
    "                comparison.update({\n",
    "                    keyword[0]: {\n",
    "                        model_name: comparison[keyword[0]].get(model_name),\n",
    "                        \"counter\": keyword[1] \n",
    "                    }\n",
    "                })\n",
    "        \n",
    "        # get keyword prediction and ground truth values\n",
    "        pred = []\n",
    "        true = []\n",
    "        for key, val in comparison.items():\n",
    "            pred.append(val.get(model_name))\n",
    "            true.append(val.get(\"counter\"))\n",
    "            \n",
    "        # calc metrics\n",
    "        mse = mean_squared_error(true, pred)\n",
    "        mae = mean_absolute_error(true, pred)\n",
    "        mape = mean_absolute_percentage_error(true, pred)\n",
    "        \n",
    "        # save metrics results\n",
    "        eval.get(model_name).update({\n",
    "            idx: [mse, mae, mape]\n",
    "        })\n",
    "        \n",
    "        update_progress(len(eval.get(model_name)) / df.shape[0])\n",
    "    print(\"%s done\" % (model_name))\n",
    "\n",
    "end = time.time()\n",
    "dur = end - start\n",
    "print(\"DUR: %s\" % (dur))"
   ]
  },
  {
   "cell_type": "code",
   "execution_count": 53,
   "id": "5c6bf477",
   "metadata": {},
   "outputs": [],
   "source": [
    "eval_df = pd.DataFrame()\n",
    "eval_df[\"pageid\"] = results[\"pageid\"]\n",
    "for model_results in eval.keys():\n",
    "    temp_df = pd.DataFrame(eval.get(model_results).items())\n",
    "    temp_df = temp_df.rename({0: \"pageid\", 1:\"metrics\"}, axis = 1)\n",
    "\n",
    "    mse = []\n",
    "    mae = []\n",
    "    mape = []\n",
    "    for metrics in temp_df[\"metrics\"]:\n",
    "        mse.append(metrics[0])\n",
    "        mae.append(metrics[1])\n",
    "        mape.append(metrics[2])\n",
    "\n",
    "    eval_df[\"%s_MSE\" % (model_results)] = mse\n",
    "    eval_df[\"%s_MAE\" % (model_results)] = mae\n",
    "    eval_df[\"%s_MAPE\" % (model_results)] = mape"
   ]
  },
  {
   "cell_type": "markdown",
   "id": "3e1e7239",
   "metadata": {},
   "source": [
    "<font color=\"red\">TODO:</font> Alle Metriken pro Artikel"
   ]
  },
  {
   "cell_type": "code",
   "execution_count": 54,
   "id": "90044dbd",
   "metadata": {},
   "outputs": [
    {
     "data": {
      "text/html": [
       "<div>\n",
       "<style scoped>\n",
       "    .dataframe tbody tr th:only-of-type {\n",
       "        vertical-align: middle;\n",
       "    }\n",
       "\n",
       "    .dataframe tbody tr th {\n",
       "        vertical-align: top;\n",
       "    }\n",
       "\n",
       "    .dataframe thead th {\n",
       "        text-align: right;\n",
       "    }\n",
       "</style>\n",
       "<table border=\"1\" class=\"dataframe\">\n",
       "  <thead>\n",
       "    <tr style=\"text-align: right;\">\n",
       "      <th></th>\n",
       "      <th>pageid</th>\n",
       "      <th>YAKE_MSE</th>\n",
       "      <th>YAKE_MAE</th>\n",
       "      <th>YAKE_MAPE</th>\n",
       "      <th>RAKE_MSE</th>\n",
       "      <th>RAKE_MAE</th>\n",
       "      <th>RAKE_MAPE</th>\n",
       "      <th>KeyBERT_MSE</th>\n",
       "      <th>KeyBERT_MAE</th>\n",
       "      <th>KeyBERT_MAPE</th>\n",
       "    </tr>\n",
       "  </thead>\n",
       "  <tbody>\n",
       "    <tr>\n",
       "      <th>0</th>\n",
       "      <td>2677</td>\n",
       "      <td>0.000014</td>\n",
       "      <td>0.003521</td>\n",
       "      <td>1.028242</td>\n",
       "      <td>0.724973</td>\n",
       "      <td>0.727668</td>\n",
       "      <td>1.184364</td>\n",
       "      <td>0.794376</td>\n",
       "      <td>0.797679</td>\n",
       "      <td>0.856190</td>\n",
       "    </tr>\n",
       "    <tr>\n",
       "      <th>1</th>\n",
       "      <td>490244</td>\n",
       "      <td>0.180500</td>\n",
       "      <td>0.183986</td>\n",
       "      <td>1.208090</td>\n",
       "      <td>0.498320</td>\n",
       "      <td>0.502233</td>\n",
       "      <td>1.165619</td>\n",
       "      <td>0.994648</td>\n",
       "      <td>0.997319</td>\n",
       "      <td>0.997319</td>\n",
       "    </tr>\n",
       "    <tr>\n",
       "      <th>2</th>\n",
       "      <td>3221050</td>\n",
       "      <td>0.297929</td>\n",
       "      <td>0.302346</td>\n",
       "      <td>1.442702</td>\n",
       "      <td>0.632491</td>\n",
       "      <td>0.636324</td>\n",
       "      <td>1.364198</td>\n",
       "      <td>0.895196</td>\n",
       "      <td>0.897595</td>\n",
       "      <td>0.897595</td>\n",
       "    </tr>\n",
       "    <tr>\n",
       "      <th>3</th>\n",
       "      <td>1200964</td>\n",
       "      <td>0.000015</td>\n",
       "      <td>0.003316</td>\n",
       "      <td>0.495245</td>\n",
       "      <td>0.536364</td>\n",
       "      <td>0.539496</td>\n",
       "      <td>1.100422</td>\n",
       "      <td>0.796120</td>\n",
       "      <td>0.798508</td>\n",
       "      <td>0.918838</td>\n",
       "    </tr>\n",
       "    <tr>\n",
       "      <th>4</th>\n",
       "      <td>880316</td>\n",
       "      <td>0.109024</td>\n",
       "      <td>0.112092</td>\n",
       "      <td>2.361748</td>\n",
       "      <td>0.581319</td>\n",
       "      <td>0.584775</td>\n",
       "      <td>1.092797</td>\n",
       "      <td>0.698049</td>\n",
       "      <td>0.700266</td>\n",
       "      <td>0.849942</td>\n",
       "    </tr>\n",
       "  </tbody>\n",
       "</table>\n",
       "</div>"
      ],
      "text/plain": [
       "    pageid  YAKE_MSE  YAKE_MAE  YAKE_MAPE  RAKE_MSE  RAKE_MAE  RAKE_MAPE  \\\n",
       "0     2677  0.000014  0.003521   1.028242  0.724973  0.727668   1.184364   \n",
       "1   490244  0.180500  0.183986   1.208090  0.498320  0.502233   1.165619   \n",
       "2  3221050  0.297929  0.302346   1.442702  0.632491  0.636324   1.364198   \n",
       "3  1200964  0.000015  0.003316   0.495245  0.536364  0.539496   1.100422   \n",
       "4   880316  0.109024  0.112092   2.361748  0.581319  0.584775   1.092797   \n",
       "\n",
       "   KeyBERT_MSE  KeyBERT_MAE  KeyBERT_MAPE  \n",
       "0     0.794376     0.797679      0.856190  \n",
       "1     0.994648     0.997319      0.997319  \n",
       "2     0.895196     0.897595      0.897595  \n",
       "3     0.796120     0.798508      0.918838  \n",
       "4     0.698049     0.700266      0.849942  "
      ]
     },
     "execution_count": 54,
     "metadata": {},
     "output_type": "execute_result"
    }
   ],
   "source": [
    "eval_df.head()"
   ]
  },
  {
   "cell_type": "code",
   "execution_count": 55,
   "id": "aef8dc9f",
   "metadata": {},
   "outputs": [],
   "source": [
    "if not use_dump:\n",
    "    eval_df.to_csv(\"./data/results_eval_metrics.csv\")"
   ]
  },
  {
   "cell_type": "markdown",
   "id": "7dcac189",
   "metadata": {},
   "source": [
    "### 4.3. Vergleich\n",
    "<a name=\"comp\"></a>\n",
    "\n",
    "<font color=\"red\">TODO:</font> Was passiert hier?"
   ]
  },
  {
   "cell_type": "code",
   "execution_count": 108,
   "id": "93b11ff8",
   "metadata": {},
   "outputs": [],
   "source": [
    "metrics_df = pd.DataFrame(columns = [\n",
    "    \"max_MSE\", \"max_MAE\", \"max_MAPE\",\n",
    "    \"min_MSE\", \"min_MAE\", \"min_MAPE\",\n",
    "    \"mean_MSE\", \"mean_MAE\", \"mean_MAPE\"\n",
    "])\n",
    "for model_name in eval.keys():\n",
    "    metrics_df.loc[model_name] = [\n",
    "        round(np.max(eval_df[\"%s_MSE\" % (model_name)]), 4), \n",
    "        round(np.max(eval_df[\"%s_MAE\" % (model_name)]), 4), \n",
    "        round(np.max(eval_df[\"%s_MAPE\" % (model_name)]), 4),\n",
    "        \n",
    "        round(np.min(eval_df[\"%s_MSE\" % (model_name)]), 4), \n",
    "        round(np.min(eval_df[\"%s_MAE\" % (model_name)]), 4), \n",
    "        round(np.min(eval_df[\"%s_MAPE\" % (model_name)]), 4),\n",
    "        \n",
    "        round(np.mean(eval_df[\"%s_MSE\" % (model_name)]), 4), \n",
    "        round(np.mean(eval_df[\"%s_MAE\" % (model_name)]), 4), \n",
    "        round(np.mean(eval_df[\"%s_MAPE\" % (model_name)]), 4),\n",
    "    ]"
   ]
  },
  {
   "cell_type": "code",
   "execution_count": 109,
   "id": "5a29864b",
   "metadata": {},
   "outputs": [
    {
     "data": {
      "text/html": [
       "<div>\n",
       "<style scoped>\n",
       "    .dataframe tbody tr th:only-of-type {\n",
       "        vertical-align: middle;\n",
       "    }\n",
       "\n",
       "    .dataframe tbody tr th {\n",
       "        vertical-align: top;\n",
       "    }\n",
       "\n",
       "    .dataframe thead th {\n",
       "        text-align: right;\n",
       "    }\n",
       "</style>\n",
       "<table border=\"1\" class=\"dataframe\">\n",
       "  <thead>\n",
       "    <tr style=\"text-align: right;\">\n",
       "      <th></th>\n",
       "      <th>max_MSE</th>\n",
       "      <th>max_MAE</th>\n",
       "      <th>max_MAPE</th>\n",
       "      <th>min_MSE</th>\n",
       "      <th>min_MAE</th>\n",
       "      <th>min_MAPE</th>\n",
       "      <th>mean_MSE</th>\n",
       "      <th>mean_MAE</th>\n",
       "      <th>mean_MAPE</th>\n",
       "    </tr>\n",
       "  </thead>\n",
       "  <tbody>\n",
       "    <tr>\n",
       "      <th>YAKE</th>\n",
       "      <td>0.7369</td>\n",
       "      <td>0.7549</td>\n",
       "      <td>28.3641</td>\n",
       "      <td>0.0</td>\n",
       "      <td>0.0008</td>\n",
       "      <td>0.1460</td>\n",
       "      <td>0.0897</td>\n",
       "      <td>0.0961</td>\n",
       "      <td>2.2854</td>\n",
       "    </tr>\n",
       "    <tr>\n",
       "      <th>RAKE</th>\n",
       "      <td>0.9985</td>\n",
       "      <td>0.9993</td>\n",
       "      <td>2.1823</td>\n",
       "      <td>0.0</td>\n",
       "      <td>0.0015</td>\n",
       "      <td>0.5334</td>\n",
       "      <td>0.5800</td>\n",
       "      <td>0.5832</td>\n",
       "      <td>1.1132</td>\n",
       "    </tr>\n",
       "    <tr>\n",
       "      <th>KeyBERT</th>\n",
       "      <td>0.9983</td>\n",
       "      <td>0.9992</td>\n",
       "      <td>2.0884</td>\n",
       "      <td>0.0</td>\n",
       "      <td>0.0045</td>\n",
       "      <td>0.6111</td>\n",
       "      <td>0.8304</td>\n",
       "      <td>0.8335</td>\n",
       "      <td>0.9830</td>\n",
       "    </tr>\n",
       "  </tbody>\n",
       "</table>\n",
       "</div>"
      ],
      "text/plain": [
       "         max_MSE  max_MAE  max_MAPE  min_MSE  min_MAE  min_MAPE  mean_MSE  \\\n",
       "YAKE      0.7369   0.7549   28.3641      0.0   0.0008    0.1460    0.0897   \n",
       "RAKE      0.9985   0.9993    2.1823      0.0   0.0015    0.5334    0.5800   \n",
       "KeyBERT   0.9983   0.9992    2.0884      0.0   0.0045    0.6111    0.8304   \n",
       "\n",
       "         mean_MAE  mean_MAPE  \n",
       "YAKE       0.0961     2.2854  \n",
       "RAKE       0.5832     1.1132  \n",
       "KeyBERT    0.8335     0.9830  "
      ]
     },
     "execution_count": 109,
     "metadata": {},
     "output_type": "execute_result"
    }
   ],
   "source": [
    "metrics_df"
   ]
  },
  {
   "cell_type": "code",
   "execution_count": 136,
   "id": "dd01664c",
   "metadata": {
    "scrolled": false
   },
   "outputs": [
    {
     "data": {
      "application/vnd.plotly.v1+json": {
       "config": {
        "plotlyServerURL": "https://plot.ly"
       },
       "data": [
        {
         "line": {
          "color": "#3d405b",
          "width": 3
         },
         "name": "MSE",
         "type": "scatter",
         "x": [
          "YAKE",
          "RAKE",
          "KeyBERT"
         ],
         "y": [
          0.0897,
          0.58,
          0.8304
         ]
        },
        {
         "line": {
          "color": "#81b29a",
          "width": 3
         },
         "name": "MAE",
         "type": "scatter",
         "x": [
          "YAKE",
          "RAKE",
          "KeyBERT"
         ],
         "y": [
          0.0961,
          0.5832,
          0.8335
         ]
        },
        {
         "line": {
          "color": "#f2cc8f",
          "width": 3
         },
         "name": "MAPE",
         "type": "scatter",
         "x": [
          "YAKE",
          "RAKE",
          "KeyBERT"
         ],
         "y": [
          2.2854,
          1.1132,
          0.983
         ]
        }
       ],
       "layout": {
        "template": {
         "data": {
          "bar": [
           {
            "error_x": {
             "color": "#2a3f5f"
            },
            "error_y": {
             "color": "#2a3f5f"
            },
            "marker": {
             "line": {
              "color": "#E5ECF6",
              "width": 0.5
             },
             "pattern": {
              "fillmode": "overlay",
              "size": 10,
              "solidity": 0.2
             }
            },
            "type": "bar"
           }
          ],
          "barpolar": [
           {
            "marker": {
             "line": {
              "color": "#E5ECF6",
              "width": 0.5
             },
             "pattern": {
              "fillmode": "overlay",
              "size": 10,
              "solidity": 0.2
             }
            },
            "type": "barpolar"
           }
          ],
          "carpet": [
           {
            "aaxis": {
             "endlinecolor": "#2a3f5f",
             "gridcolor": "white",
             "linecolor": "white",
             "minorgridcolor": "white",
             "startlinecolor": "#2a3f5f"
            },
            "baxis": {
             "endlinecolor": "#2a3f5f",
             "gridcolor": "white",
             "linecolor": "white",
             "minorgridcolor": "white",
             "startlinecolor": "#2a3f5f"
            },
            "type": "carpet"
           }
          ],
          "choropleth": [
           {
            "colorbar": {
             "outlinewidth": 0,
             "ticks": ""
            },
            "type": "choropleth"
           }
          ],
          "contour": [
           {
            "colorbar": {
             "outlinewidth": 0,
             "ticks": ""
            },
            "colorscale": [
             [
              0,
              "#0d0887"
             ],
             [
              0.1111111111111111,
              "#46039f"
             ],
             [
              0.2222222222222222,
              "#7201a8"
             ],
             [
              0.3333333333333333,
              "#9c179e"
             ],
             [
              0.4444444444444444,
              "#bd3786"
             ],
             [
              0.5555555555555556,
              "#d8576b"
             ],
             [
              0.6666666666666666,
              "#ed7953"
             ],
             [
              0.7777777777777778,
              "#fb9f3a"
             ],
             [
              0.8888888888888888,
              "#fdca26"
             ],
             [
              1,
              "#f0f921"
             ]
            ],
            "type": "contour"
           }
          ],
          "contourcarpet": [
           {
            "colorbar": {
             "outlinewidth": 0,
             "ticks": ""
            },
            "type": "contourcarpet"
           }
          ],
          "heatmap": [
           {
            "colorbar": {
             "outlinewidth": 0,
             "ticks": ""
            },
            "colorscale": [
             [
              0,
              "#0d0887"
             ],
             [
              0.1111111111111111,
              "#46039f"
             ],
             [
              0.2222222222222222,
              "#7201a8"
             ],
             [
              0.3333333333333333,
              "#9c179e"
             ],
             [
              0.4444444444444444,
              "#bd3786"
             ],
             [
              0.5555555555555556,
              "#d8576b"
             ],
             [
              0.6666666666666666,
              "#ed7953"
             ],
             [
              0.7777777777777778,
              "#fb9f3a"
             ],
             [
              0.8888888888888888,
              "#fdca26"
             ],
             [
              1,
              "#f0f921"
             ]
            ],
            "type": "heatmap"
           }
          ],
          "heatmapgl": [
           {
            "colorbar": {
             "outlinewidth": 0,
             "ticks": ""
            },
            "colorscale": [
             [
              0,
              "#0d0887"
             ],
             [
              0.1111111111111111,
              "#46039f"
             ],
             [
              0.2222222222222222,
              "#7201a8"
             ],
             [
              0.3333333333333333,
              "#9c179e"
             ],
             [
              0.4444444444444444,
              "#bd3786"
             ],
             [
              0.5555555555555556,
              "#d8576b"
             ],
             [
              0.6666666666666666,
              "#ed7953"
             ],
             [
              0.7777777777777778,
              "#fb9f3a"
             ],
             [
              0.8888888888888888,
              "#fdca26"
             ],
             [
              1,
              "#f0f921"
             ]
            ],
            "type": "heatmapgl"
           }
          ],
          "histogram": [
           {
            "marker": {
             "pattern": {
              "fillmode": "overlay",
              "size": 10,
              "solidity": 0.2
             }
            },
            "type": "histogram"
           }
          ],
          "histogram2d": [
           {
            "colorbar": {
             "outlinewidth": 0,
             "ticks": ""
            },
            "colorscale": [
             [
              0,
              "#0d0887"
             ],
             [
              0.1111111111111111,
              "#46039f"
             ],
             [
              0.2222222222222222,
              "#7201a8"
             ],
             [
              0.3333333333333333,
              "#9c179e"
             ],
             [
              0.4444444444444444,
              "#bd3786"
             ],
             [
              0.5555555555555556,
              "#d8576b"
             ],
             [
              0.6666666666666666,
              "#ed7953"
             ],
             [
              0.7777777777777778,
              "#fb9f3a"
             ],
             [
              0.8888888888888888,
              "#fdca26"
             ],
             [
              1,
              "#f0f921"
             ]
            ],
            "type": "histogram2d"
           }
          ],
          "histogram2dcontour": [
           {
            "colorbar": {
             "outlinewidth": 0,
             "ticks": ""
            },
            "colorscale": [
             [
              0,
              "#0d0887"
             ],
             [
              0.1111111111111111,
              "#46039f"
             ],
             [
              0.2222222222222222,
              "#7201a8"
             ],
             [
              0.3333333333333333,
              "#9c179e"
             ],
             [
              0.4444444444444444,
              "#bd3786"
             ],
             [
              0.5555555555555556,
              "#d8576b"
             ],
             [
              0.6666666666666666,
              "#ed7953"
             ],
             [
              0.7777777777777778,
              "#fb9f3a"
             ],
             [
              0.8888888888888888,
              "#fdca26"
             ],
             [
              1,
              "#f0f921"
             ]
            ],
            "type": "histogram2dcontour"
           }
          ],
          "mesh3d": [
           {
            "colorbar": {
             "outlinewidth": 0,
             "ticks": ""
            },
            "type": "mesh3d"
           }
          ],
          "parcoords": [
           {
            "line": {
             "colorbar": {
              "outlinewidth": 0,
              "ticks": ""
             }
            },
            "type": "parcoords"
           }
          ],
          "pie": [
           {
            "automargin": true,
            "type": "pie"
           }
          ],
          "scatter": [
           {
            "fillpattern": {
             "fillmode": "overlay",
             "size": 10,
             "solidity": 0.2
            },
            "type": "scatter"
           }
          ],
          "scatter3d": [
           {
            "line": {
             "colorbar": {
              "outlinewidth": 0,
              "ticks": ""
             }
            },
            "marker": {
             "colorbar": {
              "outlinewidth": 0,
              "ticks": ""
             }
            },
            "type": "scatter3d"
           }
          ],
          "scattercarpet": [
           {
            "marker": {
             "colorbar": {
              "outlinewidth": 0,
              "ticks": ""
             }
            },
            "type": "scattercarpet"
           }
          ],
          "scattergeo": [
           {
            "marker": {
             "colorbar": {
              "outlinewidth": 0,
              "ticks": ""
             }
            },
            "type": "scattergeo"
           }
          ],
          "scattergl": [
           {
            "marker": {
             "colorbar": {
              "outlinewidth": 0,
              "ticks": ""
             }
            },
            "type": "scattergl"
           }
          ],
          "scattermapbox": [
           {
            "marker": {
             "colorbar": {
              "outlinewidth": 0,
              "ticks": ""
             }
            },
            "type": "scattermapbox"
           }
          ],
          "scatterpolar": [
           {
            "marker": {
             "colorbar": {
              "outlinewidth": 0,
              "ticks": ""
             }
            },
            "type": "scatterpolar"
           }
          ],
          "scatterpolargl": [
           {
            "marker": {
             "colorbar": {
              "outlinewidth": 0,
              "ticks": ""
             }
            },
            "type": "scatterpolargl"
           }
          ],
          "scatterternary": [
           {
            "marker": {
             "colorbar": {
              "outlinewidth": 0,
              "ticks": ""
             }
            },
            "type": "scatterternary"
           }
          ],
          "surface": [
           {
            "colorbar": {
             "outlinewidth": 0,
             "ticks": ""
            },
            "colorscale": [
             [
              0,
              "#0d0887"
             ],
             [
              0.1111111111111111,
              "#46039f"
             ],
             [
              0.2222222222222222,
              "#7201a8"
             ],
             [
              0.3333333333333333,
              "#9c179e"
             ],
             [
              0.4444444444444444,
              "#bd3786"
             ],
             [
              0.5555555555555556,
              "#d8576b"
             ],
             [
              0.6666666666666666,
              "#ed7953"
             ],
             [
              0.7777777777777778,
              "#fb9f3a"
             ],
             [
              0.8888888888888888,
              "#fdca26"
             ],
             [
              1,
              "#f0f921"
             ]
            ],
            "type": "surface"
           }
          ],
          "table": [
           {
            "cells": {
             "fill": {
              "color": "#EBF0F8"
             },
             "line": {
              "color": "white"
             }
            },
            "header": {
             "fill": {
              "color": "#C8D4E3"
             },
             "line": {
              "color": "white"
             }
            },
            "type": "table"
           }
          ]
         },
         "layout": {
          "annotationdefaults": {
           "arrowcolor": "#2a3f5f",
           "arrowhead": 0,
           "arrowwidth": 1
          },
          "autotypenumbers": "strict",
          "coloraxis": {
           "colorbar": {
            "outlinewidth": 0,
            "ticks": ""
           }
          },
          "colorscale": {
           "diverging": [
            [
             0,
             "#8e0152"
            ],
            [
             0.1,
             "#c51b7d"
            ],
            [
             0.2,
             "#de77ae"
            ],
            [
             0.3,
             "#f1b6da"
            ],
            [
             0.4,
             "#fde0ef"
            ],
            [
             0.5,
             "#f7f7f7"
            ],
            [
             0.6,
             "#e6f5d0"
            ],
            [
             0.7,
             "#b8e186"
            ],
            [
             0.8,
             "#7fbc41"
            ],
            [
             0.9,
             "#4d9221"
            ],
            [
             1,
             "#276419"
            ]
           ],
           "sequential": [
            [
             0,
             "#0d0887"
            ],
            [
             0.1111111111111111,
             "#46039f"
            ],
            [
             0.2222222222222222,
             "#7201a8"
            ],
            [
             0.3333333333333333,
             "#9c179e"
            ],
            [
             0.4444444444444444,
             "#bd3786"
            ],
            [
             0.5555555555555556,
             "#d8576b"
            ],
            [
             0.6666666666666666,
             "#ed7953"
            ],
            [
             0.7777777777777778,
             "#fb9f3a"
            ],
            [
             0.8888888888888888,
             "#fdca26"
            ],
            [
             1,
             "#f0f921"
            ]
           ],
           "sequentialminus": [
            [
             0,
             "#0d0887"
            ],
            [
             0.1111111111111111,
             "#46039f"
            ],
            [
             0.2222222222222222,
             "#7201a8"
            ],
            [
             0.3333333333333333,
             "#9c179e"
            ],
            [
             0.4444444444444444,
             "#bd3786"
            ],
            [
             0.5555555555555556,
             "#d8576b"
            ],
            [
             0.6666666666666666,
             "#ed7953"
            ],
            [
             0.7777777777777778,
             "#fb9f3a"
            ],
            [
             0.8888888888888888,
             "#fdca26"
            ],
            [
             1,
             "#f0f921"
            ]
           ]
          },
          "colorway": [
           "#636efa",
           "#EF553B",
           "#00cc96",
           "#ab63fa",
           "#FFA15A",
           "#19d3f3",
           "#FF6692",
           "#B6E880",
           "#FF97FF",
           "#FECB52"
          ],
          "font": {
           "color": "#2a3f5f"
          },
          "geo": {
           "bgcolor": "white",
           "lakecolor": "white",
           "landcolor": "#E5ECF6",
           "showlakes": true,
           "showland": true,
           "subunitcolor": "white"
          },
          "hoverlabel": {
           "align": "left"
          },
          "hovermode": "closest",
          "mapbox": {
           "style": "light"
          },
          "paper_bgcolor": "white",
          "plot_bgcolor": "#E5ECF6",
          "polar": {
           "angularaxis": {
            "gridcolor": "white",
            "linecolor": "white",
            "ticks": ""
           },
           "bgcolor": "#E5ECF6",
           "radialaxis": {
            "gridcolor": "white",
            "linecolor": "white",
            "ticks": ""
           }
          },
          "scene": {
           "xaxis": {
            "backgroundcolor": "#E5ECF6",
            "gridcolor": "white",
            "gridwidth": 2,
            "linecolor": "white",
            "showbackground": true,
            "ticks": "",
            "zerolinecolor": "white"
           },
           "yaxis": {
            "backgroundcolor": "#E5ECF6",
            "gridcolor": "white",
            "gridwidth": 2,
            "linecolor": "white",
            "showbackground": true,
            "ticks": "",
            "zerolinecolor": "white"
           },
           "zaxis": {
            "backgroundcolor": "#E5ECF6",
            "gridcolor": "white",
            "gridwidth": 2,
            "linecolor": "white",
            "showbackground": true,
            "ticks": "",
            "zerolinecolor": "white"
           }
          },
          "shapedefaults": {
           "line": {
            "color": "#2a3f5f"
           }
          },
          "ternary": {
           "aaxis": {
            "gridcolor": "white",
            "linecolor": "white",
            "ticks": ""
           },
           "baxis": {
            "gridcolor": "white",
            "linecolor": "white",
            "ticks": ""
           },
           "bgcolor": "#E5ECF6",
           "caxis": {
            "gridcolor": "white",
            "linecolor": "white",
            "ticks": ""
           }
          },
          "title": {
           "x": 0.05
          },
          "xaxis": {
           "automargin": true,
           "gridcolor": "white",
           "linecolor": "white",
           "ticks": "",
           "title": {
            "standoff": 15
           },
           "zerolinecolor": "white",
           "zerolinewidth": 2
          },
          "yaxis": {
           "automargin": true,
           "gridcolor": "white",
           "linecolor": "white",
           "ticks": "",
           "title": {
            "standoff": 15
           },
           "zerolinecolor": "white",
           "zerolinewidth": 2
          }
         }
        },
        "title": {
         "text": "Durchschnittliche Metriken über alle Exzellente Artikel"
        }
       }
      },
      "text/html": [
       "<div>                            <div id=\"4a7141ea-8746-4f4a-a302-debd4f0324c6\" class=\"plotly-graph-div\" style=\"height:525px; width:100%;\"></div>            <script type=\"text/javascript\">                require([\"plotly\"], function(Plotly) {                    window.PLOTLYENV=window.PLOTLYENV || {};                                    if (document.getElementById(\"4a7141ea-8746-4f4a-a302-debd4f0324c6\")) {                    Plotly.newPlot(                        \"4a7141ea-8746-4f4a-a302-debd4f0324c6\",                        [{\"line\":{\"color\":\"#3d405b\",\"width\":3},\"name\":\"MSE\",\"x\":[\"YAKE\",\"RAKE\",\"KeyBERT\"],\"y\":[0.0897,0.58,0.8304],\"type\":\"scatter\"},{\"line\":{\"color\":\"#81b29a\",\"width\":3},\"name\":\"MAE\",\"x\":[\"YAKE\",\"RAKE\",\"KeyBERT\"],\"y\":[0.0961,0.5832,0.8335],\"type\":\"scatter\"},{\"line\":{\"color\":\"#f2cc8f\",\"width\":3},\"name\":\"MAPE\",\"x\":[\"YAKE\",\"RAKE\",\"KeyBERT\"],\"y\":[2.2854,1.1132,0.983],\"type\":\"scatter\"}],                        {\"template\":{\"data\":{\"histogram2dcontour\":[{\"type\":\"histogram2dcontour\",\"colorbar\":{\"outlinewidth\":0,\"ticks\":\"\"},\"colorscale\":[[0.0,\"#0d0887\"],[0.1111111111111111,\"#46039f\"],[0.2222222222222222,\"#7201a8\"],[0.3333333333333333,\"#9c179e\"],[0.4444444444444444,\"#bd3786\"],[0.5555555555555556,\"#d8576b\"],[0.6666666666666666,\"#ed7953\"],[0.7777777777777778,\"#fb9f3a\"],[0.8888888888888888,\"#fdca26\"],[1.0,\"#f0f921\"]]}],\"choropleth\":[{\"type\":\"choropleth\",\"colorbar\":{\"outlinewidth\":0,\"ticks\":\"\"}}],\"histogram2d\":[{\"type\":\"histogram2d\",\"colorbar\":{\"outlinewidth\":0,\"ticks\":\"\"},\"colorscale\":[[0.0,\"#0d0887\"],[0.1111111111111111,\"#46039f\"],[0.2222222222222222,\"#7201a8\"],[0.3333333333333333,\"#9c179e\"],[0.4444444444444444,\"#bd3786\"],[0.5555555555555556,\"#d8576b\"],[0.6666666666666666,\"#ed7953\"],[0.7777777777777778,\"#fb9f3a\"],[0.8888888888888888,\"#fdca26\"],[1.0,\"#f0f921\"]]}],\"heatmap\":[{\"type\":\"heatmap\",\"colorbar\":{\"outlinewidth\":0,\"ticks\":\"\"},\"colorscale\":[[0.0,\"#0d0887\"],[0.1111111111111111,\"#46039f\"],[0.2222222222222222,\"#7201a8\"],[0.3333333333333333,\"#9c179e\"],[0.4444444444444444,\"#bd3786\"],[0.5555555555555556,\"#d8576b\"],[0.6666666666666666,\"#ed7953\"],[0.7777777777777778,\"#fb9f3a\"],[0.8888888888888888,\"#fdca26\"],[1.0,\"#f0f921\"]]}],\"heatmapgl\":[{\"type\":\"heatmapgl\",\"colorbar\":{\"outlinewidth\":0,\"ticks\":\"\"},\"colorscale\":[[0.0,\"#0d0887\"],[0.1111111111111111,\"#46039f\"],[0.2222222222222222,\"#7201a8\"],[0.3333333333333333,\"#9c179e\"],[0.4444444444444444,\"#bd3786\"],[0.5555555555555556,\"#d8576b\"],[0.6666666666666666,\"#ed7953\"],[0.7777777777777778,\"#fb9f3a\"],[0.8888888888888888,\"#fdca26\"],[1.0,\"#f0f921\"]]}],\"contourcarpet\":[{\"type\":\"contourcarpet\",\"colorbar\":{\"outlinewidth\":0,\"ticks\":\"\"}}],\"contour\":[{\"type\":\"contour\",\"colorbar\":{\"outlinewidth\":0,\"ticks\":\"\"},\"colorscale\":[[0.0,\"#0d0887\"],[0.1111111111111111,\"#46039f\"],[0.2222222222222222,\"#7201a8\"],[0.3333333333333333,\"#9c179e\"],[0.4444444444444444,\"#bd3786\"],[0.5555555555555556,\"#d8576b\"],[0.6666666666666666,\"#ed7953\"],[0.7777777777777778,\"#fb9f3a\"],[0.8888888888888888,\"#fdca26\"],[1.0,\"#f0f921\"]]}],\"surface\":[{\"type\":\"surface\",\"colorbar\":{\"outlinewidth\":0,\"ticks\":\"\"},\"colorscale\":[[0.0,\"#0d0887\"],[0.1111111111111111,\"#46039f\"],[0.2222222222222222,\"#7201a8\"],[0.3333333333333333,\"#9c179e\"],[0.4444444444444444,\"#bd3786\"],[0.5555555555555556,\"#d8576b\"],[0.6666666666666666,\"#ed7953\"],[0.7777777777777778,\"#fb9f3a\"],[0.8888888888888888,\"#fdca26\"],[1.0,\"#f0f921\"]]}],\"mesh3d\":[{\"type\":\"mesh3d\",\"colorbar\":{\"outlinewidth\":0,\"ticks\":\"\"}}],\"scatter\":[{\"fillpattern\":{\"fillmode\":\"overlay\",\"size\":10,\"solidity\":0.2},\"type\":\"scatter\"}],\"parcoords\":[{\"type\":\"parcoords\",\"line\":{\"colorbar\":{\"outlinewidth\":0,\"ticks\":\"\"}}}],\"scatterpolargl\":[{\"type\":\"scatterpolargl\",\"marker\":{\"colorbar\":{\"outlinewidth\":0,\"ticks\":\"\"}}}],\"bar\":[{\"error_x\":{\"color\":\"#2a3f5f\"},\"error_y\":{\"color\":\"#2a3f5f\"},\"marker\":{\"line\":{\"color\":\"#E5ECF6\",\"width\":0.5},\"pattern\":{\"fillmode\":\"overlay\",\"size\":10,\"solidity\":0.2}},\"type\":\"bar\"}],\"scattergeo\":[{\"type\":\"scattergeo\",\"marker\":{\"colorbar\":{\"outlinewidth\":0,\"ticks\":\"\"}}}],\"scatterpolar\":[{\"type\":\"scatterpolar\",\"marker\":{\"colorbar\":{\"outlinewidth\":0,\"ticks\":\"\"}}}],\"histogram\":[{\"marker\":{\"pattern\":{\"fillmode\":\"overlay\",\"size\":10,\"solidity\":0.2}},\"type\":\"histogram\"}],\"scattergl\":[{\"type\":\"scattergl\",\"marker\":{\"colorbar\":{\"outlinewidth\":0,\"ticks\":\"\"}}}],\"scatter3d\":[{\"type\":\"scatter3d\",\"line\":{\"colorbar\":{\"outlinewidth\":0,\"ticks\":\"\"}},\"marker\":{\"colorbar\":{\"outlinewidth\":0,\"ticks\":\"\"}}}],\"scattermapbox\":[{\"type\":\"scattermapbox\",\"marker\":{\"colorbar\":{\"outlinewidth\":0,\"ticks\":\"\"}}}],\"scatterternary\":[{\"type\":\"scatterternary\",\"marker\":{\"colorbar\":{\"outlinewidth\":0,\"ticks\":\"\"}}}],\"scattercarpet\":[{\"type\":\"scattercarpet\",\"marker\":{\"colorbar\":{\"outlinewidth\":0,\"ticks\":\"\"}}}],\"carpet\":[{\"aaxis\":{\"endlinecolor\":\"#2a3f5f\",\"gridcolor\":\"white\",\"linecolor\":\"white\",\"minorgridcolor\":\"white\",\"startlinecolor\":\"#2a3f5f\"},\"baxis\":{\"endlinecolor\":\"#2a3f5f\",\"gridcolor\":\"white\",\"linecolor\":\"white\",\"minorgridcolor\":\"white\",\"startlinecolor\":\"#2a3f5f\"},\"type\":\"carpet\"}],\"table\":[{\"cells\":{\"fill\":{\"color\":\"#EBF0F8\"},\"line\":{\"color\":\"white\"}},\"header\":{\"fill\":{\"color\":\"#C8D4E3\"},\"line\":{\"color\":\"white\"}},\"type\":\"table\"}],\"barpolar\":[{\"marker\":{\"line\":{\"color\":\"#E5ECF6\",\"width\":0.5},\"pattern\":{\"fillmode\":\"overlay\",\"size\":10,\"solidity\":0.2}},\"type\":\"barpolar\"}],\"pie\":[{\"automargin\":true,\"type\":\"pie\"}]},\"layout\":{\"autotypenumbers\":\"strict\",\"colorway\":[\"#636efa\",\"#EF553B\",\"#00cc96\",\"#ab63fa\",\"#FFA15A\",\"#19d3f3\",\"#FF6692\",\"#B6E880\",\"#FF97FF\",\"#FECB52\"],\"font\":{\"color\":\"#2a3f5f\"},\"hovermode\":\"closest\",\"hoverlabel\":{\"align\":\"left\"},\"paper_bgcolor\":\"white\",\"plot_bgcolor\":\"#E5ECF6\",\"polar\":{\"bgcolor\":\"#E5ECF6\",\"angularaxis\":{\"gridcolor\":\"white\",\"linecolor\":\"white\",\"ticks\":\"\"},\"radialaxis\":{\"gridcolor\":\"white\",\"linecolor\":\"white\",\"ticks\":\"\"}},\"ternary\":{\"bgcolor\":\"#E5ECF6\",\"aaxis\":{\"gridcolor\":\"white\",\"linecolor\":\"white\",\"ticks\":\"\"},\"baxis\":{\"gridcolor\":\"white\",\"linecolor\":\"white\",\"ticks\":\"\"},\"caxis\":{\"gridcolor\":\"white\",\"linecolor\":\"white\",\"ticks\":\"\"}},\"coloraxis\":{\"colorbar\":{\"outlinewidth\":0,\"ticks\":\"\"}},\"colorscale\":{\"sequential\":[[0.0,\"#0d0887\"],[0.1111111111111111,\"#46039f\"],[0.2222222222222222,\"#7201a8\"],[0.3333333333333333,\"#9c179e\"],[0.4444444444444444,\"#bd3786\"],[0.5555555555555556,\"#d8576b\"],[0.6666666666666666,\"#ed7953\"],[0.7777777777777778,\"#fb9f3a\"],[0.8888888888888888,\"#fdca26\"],[1.0,\"#f0f921\"]],\"sequentialminus\":[[0.0,\"#0d0887\"],[0.1111111111111111,\"#46039f\"],[0.2222222222222222,\"#7201a8\"],[0.3333333333333333,\"#9c179e\"],[0.4444444444444444,\"#bd3786\"],[0.5555555555555556,\"#d8576b\"],[0.6666666666666666,\"#ed7953\"],[0.7777777777777778,\"#fb9f3a\"],[0.8888888888888888,\"#fdca26\"],[1.0,\"#f0f921\"]],\"diverging\":[[0,\"#8e0152\"],[0.1,\"#c51b7d\"],[0.2,\"#de77ae\"],[0.3,\"#f1b6da\"],[0.4,\"#fde0ef\"],[0.5,\"#f7f7f7\"],[0.6,\"#e6f5d0\"],[0.7,\"#b8e186\"],[0.8,\"#7fbc41\"],[0.9,\"#4d9221\"],[1,\"#276419\"]]},\"xaxis\":{\"gridcolor\":\"white\",\"linecolor\":\"white\",\"ticks\":\"\",\"title\":{\"standoff\":15},\"zerolinecolor\":\"white\",\"automargin\":true,\"zerolinewidth\":2},\"yaxis\":{\"gridcolor\":\"white\",\"linecolor\":\"white\",\"ticks\":\"\",\"title\":{\"standoff\":15},\"zerolinecolor\":\"white\",\"automargin\":true,\"zerolinewidth\":2},\"scene\":{\"xaxis\":{\"backgroundcolor\":\"#E5ECF6\",\"gridcolor\":\"white\",\"linecolor\":\"white\",\"showbackground\":true,\"ticks\":\"\",\"zerolinecolor\":\"white\",\"gridwidth\":2},\"yaxis\":{\"backgroundcolor\":\"#E5ECF6\",\"gridcolor\":\"white\",\"linecolor\":\"white\",\"showbackground\":true,\"ticks\":\"\",\"zerolinecolor\":\"white\",\"gridwidth\":2},\"zaxis\":{\"backgroundcolor\":\"#E5ECF6\",\"gridcolor\":\"white\",\"linecolor\":\"white\",\"showbackground\":true,\"ticks\":\"\",\"zerolinecolor\":\"white\",\"gridwidth\":2}},\"shapedefaults\":{\"line\":{\"color\":\"#2a3f5f\"}},\"annotationdefaults\":{\"arrowcolor\":\"#2a3f5f\",\"arrowhead\":0,\"arrowwidth\":1},\"geo\":{\"bgcolor\":\"white\",\"landcolor\":\"#E5ECF6\",\"subunitcolor\":\"white\",\"showland\":true,\"showlakes\":true,\"lakecolor\":\"white\"},\"title\":{\"x\":0.05},\"mapbox\":{\"style\":\"light\"}}},\"title\":{\"text\":\"Durchschnittliche Metriken \\u00fcber alle Exzellente Artikel\"}},                        {\"responsive\": true}                    ).then(function(){\n",
       "                            \n",
       "var gd = document.getElementById('4a7141ea-8746-4f4a-a302-debd4f0324c6');\n",
       "var x = new MutationObserver(function (mutations, observer) {{\n",
       "        var display = window.getComputedStyle(gd).display;\n",
       "        if (!display || display === 'none') {{\n",
       "            console.log([gd, 'removed!']);\n",
       "            Plotly.purge(gd);\n",
       "            observer.disconnect();\n",
       "        }}\n",
       "}});\n",
       "\n",
       "// Listen for the removal of the full notebook cells\n",
       "var notebookContainer = gd.closest('#notebook-container');\n",
       "if (notebookContainer) {{\n",
       "    x.observe(notebookContainer, {childList: true});\n",
       "}}\n",
       "\n",
       "// Listen for the clearing of the current output cell\n",
       "var outputEl = gd.closest('.output');\n",
       "if (outputEl) {{\n",
       "    x.observe(outputEl, {childList: true});\n",
       "}}\n",
       "\n",
       "                        })                };                });            </script>        </div>"
      ]
     },
     "metadata": {},
     "output_type": "display_data"
    }
   ],
   "source": [
    "# plot metrics\n",
    "fig = go.Figure()\n",
    "\n",
    "fig.add_trace(\n",
    "    go.Scatter(\n",
    "        x = metrics_df.index, y = metrics_df[\"mean_MSE\"], \n",
    "        name = \"MSE\", line = dict(color = \"#3d405b\", width = 3)\n",
    "    )\n",
    ")\n",
    "\n",
    "fig.add_trace(\n",
    "    go.Scatter(\n",
    "        x = metrics_df.index, y = metrics_df[\"mean_MAE\"], \n",
    "        name = \"MAE\", line = dict(color = \"#81b29a\", width = 3)\n",
    "    )\n",
    ")\n",
    "\n",
    "fig.add_trace(\n",
    "    go.Scatter(\n",
    "        x = metrics_df.index, y = metrics_df[\"mean_MAPE\"], \n",
    "        name = \"MAPE\", line = dict(color = \"#f2cc8f\", width = 3)\n",
    "    )\n",
    ")\n",
    "\n",
    "fig.update_layout(\n",
    "    title = \"Durchschnittliche Metriken über alle Exzellente Artikel\"\n",
    ")\n",
    "\n",
    "fig.show()"
   ]
  },
  {
   "cell_type": "markdown",
   "id": "de900fd5",
   "metadata": {},
   "source": [
    "<font color=\"red\">TODO:</font> Ordentlichen Text schreiben\n",
    "\n",
    "Yake ist schon ziemlich gut, weil MSE und MAE echt sehr gut sind. MAPE ist ebenfalls sehr gut, aber am schlechtesten von llen drei Modellen.\n",
    "\n",
    "RAKE ist auch okay-gut, da hier der MAPE-Wert fast < 1% ist. MAE und MSE sind schlechter als bei YAKE und da es schon über 0,5 ist es so semi. \n",
    "\n",
    "Beim KeyBERT ist MAPE noch etwas besser und damit der beste Wert. MAE und MSE sind allerdings noch schlechter.\n",
    "\n",
    "Auch unter Betrachtung der vorhergesagten Schlagwörter der einzelnen Modelle, würde ich YAKE als bestes Modell einstufen.  \n",
    "Lässt man die vorhergesagten Schlagwörter außer Sicht, so würde ich sagen, dass RAKE am besten geeignet ist, da hier das Mittelmaß zwischen MSE und MAE und MAPE ist."
   ]
  },
  {
   "cell_type": "markdown",
   "id": "c29c1016",
   "metadata": {},
   "source": [
    "## 5. Fazit\n",
    "<a name=\"fazit\"/>\n",
    "\n",
    "[Zurück zum Inhaltsverzeichnis](#content)\n",
    "\n",
    "<font color=\"red\">TODO:</font> Fazit"
   ]
  },
  {
   "cell_type": "code",
   "execution_count": 106,
   "id": "a08bc93d",
   "metadata": {},
   "outputs": [
    {
     "name": "stdout",
     "output_type": "stream",
     "text": [
      "GLOBALE DUR: 247.987 Minuten\n"
     ]
    }
   ],
   "source": [
    "global_end = time.time()\n",
    "global_dur = round((global_end - global_start) / 60, 3)\n",
    "print(\"GLOBALE DUR: %s Minuten\" % (global_dur))"
   ]
  },
  {
   "cell_type": "markdown",
   "id": "10ee7dda",
   "metadata": {},
   "source": [
    "Dauer: ~ 2 - 2 1/2 Stunden"
   ]
  },
  {
   "cell_type": "code",
   "execution_count": null,
   "id": "e0bc7b4d",
   "metadata": {},
   "outputs": [],
   "source": []
  }
 ],
 "metadata": {
  "kernelspec": {
   "display_name": "Python 3.10.8 64-bit",
   "language": "python",
   "name": "python3108jvsc74a57bd0b0fa6594d8f4cbf19f97940f81e996739fb7646882a419484c72d19e05852a7e"
  },
  "language_info": {
   "codemirror_mode": {
    "name": "ipython",
    "version": 3
   },
   "file_extension": ".py",
   "mimetype": "text/x-python",
   "name": "python",
   "nbconvert_exporter": "python",
   "pygments_lexer": "ipython3",
   "version": "3.10.8"
  }
 },
 "nbformat": 4,
 "nbformat_minor": 5
}
