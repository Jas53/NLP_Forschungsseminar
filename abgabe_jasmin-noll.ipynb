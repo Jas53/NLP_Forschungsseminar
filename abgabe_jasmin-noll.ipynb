{
 "cells": [
  {
   "cell_type": "markdown",
   "id": "9d3462ab",
   "metadata": {},
   "source": [
    "# Abgabe zur Vorlesung \"Forschungsthemen Informatik\" von Jasmin Noll\n",
    "\n",
    "In diesem Notebook wird der **2. Shared Task: Top Modelling auf Artikel aus DE-Wikipedia** bearbeitet.  \n",
    "<Kurze Erläuterung der Aufgabe und was in diesem Notebook erwartet wird>"
   ]
  },
  {
   "cell_type": "code",
   "execution_count": 1,
   "id": "02c76de7",
   "metadata": {},
   "outputs": [],
   "source": [
    "import pandas as pd\n",
    "import numpy as np\n",
    "import time\n",
    "import requests\n",
    "import concurrent.futures\n",
    "import re\n",
    "import string\n",
    "import spacy\n",
    "import gensim\n",
    "import yake\n",
    "from gensim import corpora\n",
    "from nltk.corpus import stopwords\n",
    "from IPython.display import clear_output\n",
    "from sklearn.metrics import mean_squared_error, mean_absolute_error, mean_absolute_percentage_error\n",
    "from rake_nltk import Rake, Metric\n",
    "from keybert import KeyBERT\n",
    "#nltk.download(\"stopwords\")\n",
    "\n",
    "import warnings\n",
    "warnings.filterwarnings(\"ignore\")"
   ]
  },
  {
   "cell_type": "markdown",
   "id": "b2926052",
   "metadata": {},
   "source": [
    "Konfigurationsvariablen/-werte setzten (API-Params, Magicnumbers, Parameter der Algorithmen, etc.)"
   ]
  },
  {
   "cell_type": "code",
   "execution_count": 52,
   "id": "4dd60fa2",
   "metadata": {},
   "outputs": [],
   "source": [
    "# Configuration values (adjust as needed)\n",
    "URL = \"https://de.wikipedia.org/w/api.php\"\n",
    "\n",
    "# search criteria for wikipedia articles to process\n",
    "SR_SEARCH_VALUE = \"incategory:Wikipedia:Exzellent\"\n",
    "\n",
    "skip_request = True\n",
    "skip_kw_extraction = False\n",
    "skip_counter = False"
   ]
  },
  {
   "cell_type": "code",
   "execution_count": 3,
   "id": "ae3a8ccf",
   "metadata": {},
   "outputs": [],
   "source": [
    "# source: IBM internal\n",
    "def update_progress(progress):\n",
    "    bar_length = 50\n",
    "    if isinstance(progress, int):\n",
    "        progress = float(progress)\n",
    "    if not isinstance(progress, float):\n",
    "        progress = 0\n",
    "    if progress < 0:\n",
    "        progress = 0\n",
    "    if progress >= 1:\n",
    "        progress = 1\n",
    "\n",
    "    block = int(round(bar_length * progress))\n",
    "\n",
    "    clear_output(wait = True)\n",
    "    text = \"Progress: [{0}] {1:.1f}%\".format( \"#\" * block + \"-\" * (bar_length - block), progress * 100)\n",
    "    print(text)"
   ]
  },
  {
   "cell_type": "markdown",
   "id": "d72323da",
   "metadata": {},
   "source": [
    "## 1. Exzellente Artikel vom deutschen Wikipedia abfragen"
   ]
  },
  {
   "cell_type": "code",
   "execution_count": 15,
   "id": "2a282c9e",
   "metadata": {},
   "outputs": [],
   "source": [
    "def get_pages_by_id(id):\n",
    "    request_params = params_content.copy()\n",
    "    request_params.update({\"pageids\": id})\n",
    "    response = S.get(url = URL, params = request_params)\n",
    "    page = response.json()\n",
    "    content.update({id: page[\"query\"][\"pages\"][0][\"extract\"]})\n",
    "    if len(content) % 10 == 0:\n",
    "        update_progress(len(content) / len(ids))"
   ]
  },
  {
   "cell_type": "code",
   "execution_count": 11,
   "id": "1c087d0c",
   "metadata": {},
   "outputs": [],
   "source": [
    "S = requests.Session()"
   ]
  },
  {
   "cell_type": "code",
   "execution_count": 14,
   "id": "a207aeed",
   "metadata": {},
   "outputs": [
    {
     "name": "stdout",
     "output_type": "stream",
     "text": [
      "SKIPPED REQUEST FOR IDS\n"
     ]
    }
   ],
   "source": [
    "if not skip_request:\n",
    "    # request excellent arictles from german wikipedia via wiki api (10 at a time)\n",
    "    params_pageid = {\n",
    "        \"action\": \"query\",\n",
    "        \"prop\": \"revisions\",\n",
    "        \"rvprop\": \"content\",\n",
    "        \"rvslots\": \"*\",\n",
    "        \"format\": \"json\",\n",
    "        \"formatversion\": 2,\n",
    "        #\"srsearch\": \"incategory:Wikipedia:Exzellent\",\n",
    "        \"srsearch\": SR_SEARCH_VALUE,\n",
    "        \"list\": \"search\",\n",
    "        \"sroffset\": 0\n",
    "    }\n",
    "\n",
    "    response = S.get(url = URL, params = params_pageid)\n",
    "    data = response.json()\n",
    "\n",
    "    # get ids from excellent articles\n",
    "    ids = []\n",
    "\n",
    "    for entry in data[\"query\"][\"search\"]:\n",
    "        ids.append(entry[\"pageid\"])\n",
    "\n",
    "    while data.get(\"continue\"):\n",
    "        params_pageid.update({\"sroffset\": data[\"continue\"][\"sroffset\"]})\n",
    "\n",
    "        #print(\"\\n%s\" % (PARAMS))\n",
    "        response = S.get(url = URL, params = params_pageid)\n",
    "        data = response.json()\n",
    "\n",
    "        for entry in data[\"query\"][\"search\"]:\n",
    "            ids.append(entry[\"pageid\"])\n",
    "\n",
    "    print(\"Anzahl gesammelter Exzellenter Artikel: %s\" %(len(ids)))\n",
    "else:\n",
    "    print(\"SKIPPED REQUEST FOR IDS\")"
   ]
  },
  {
   "cell_type": "code",
   "execution_count": 6,
   "id": "c5396f99",
   "metadata": {},
   "outputs": [],
   "source": [
    "# Source: https://stackoverflow.com/questions/4452102/how-to-get-plain-text-out-of-wikipedia\n",
    "# Source: https://www.mediawiki.org/wiki/API:Parsing_wikitext\n",
    "params_content = {\n",
    "    \"action\": \"query\",\n",
    "    \"prop\": \"extracts\",\n",
    "    \"format\": \"json\",\n",
    "    \"formatversion\": 2,\n",
    "    \"pageids\": 0,\n",
    "    \"explaintext\": True\n",
    "}"
   ]
  },
  {
   "cell_type": "code",
   "execution_count": 16,
   "id": "564f8762",
   "metadata": {},
   "outputs": [
    {
     "name": "stdout",
     "output_type": "stream",
     "text": [
      "SKIPPED REQUEST FOR ARTICLES\n"
     ]
    }
   ],
   "source": [
    "if not skip_request:\n",
    "    content = {}\n",
    "    start = time.time()\n",
    "    with concurrent.futures.ThreadPoolExecutor() as executor:\n",
    "        executor.map(get_pages_by_id, ids)\n",
    "\n",
    "    end = time.time()\n",
    "    dur = end - start\n",
    "    print(\"DUR: %s\" % (dur))\n",
    "    \n",
    "    # save requested data (wikipage content) in df\n",
    "    df = pd.DataFrame(content.items())\n",
    "    df = df.rename({0: \"pageid\", 1:\"content\"}, axis = 1)\n",
    "    \n",
    "    # save data to csv for faster loading\n",
    "    df.to_csv(\"./data/excellent_article_extract.csv\")\n",
    "else:\n",
    "    print(\"SKIPPED REQUEST FOR ARTICLES\")"
   ]
  },
  {
   "cell_type": "markdown",
   "id": "4d10b30b",
   "metadata": {},
   "source": [
    "TODO: Einige Statistiken der Daten aufzeigen (Wie viele Artikel?, Wie lang sind die Artikel (im Durchschnitt)?, Duplikate, etc.)"
   ]
  },
  {
   "cell_type": "markdown",
   "id": "201dce61",
   "metadata": {},
   "source": [
    "Die angefragten Daten können auch vom filesystem geladen werden"
   ]
  },
  {
   "cell_type": "code",
   "execution_count": 19,
   "id": "585c20f6",
   "metadata": {},
   "outputs": [],
   "source": [
    "# load data from file\n",
    "data = pd.read_csv(\"./2783_excellent_article_extract.csv\")\n",
    "#data = pd.read_csv(\"./data/excellent_article_extract.csv\")\n",
    "data = data[[\"pageid\", \"content\"]]"
   ]
  },
  {
   "cell_type": "code",
   "execution_count": 18,
   "id": "b201ade1",
   "metadata": {
    "scrolled": true
   },
   "outputs": [
    {
     "data": {
      "text/html": [
       "<div>\n",
       "<style scoped>\n",
       "    .dataframe tbody tr th:only-of-type {\n",
       "        vertical-align: middle;\n",
       "    }\n",
       "\n",
       "    .dataframe tbody tr th {\n",
       "        vertical-align: top;\n",
       "    }\n",
       "\n",
       "    .dataframe thead th {\n",
       "        text-align: right;\n",
       "    }\n",
       "</style>\n",
       "<table border=\"1\" class=\"dataframe\">\n",
       "  <thead>\n",
       "    <tr style=\"text-align: right;\">\n",
       "      <th></th>\n",
       "      <th>pageid</th>\n",
       "      <th>content</th>\n",
       "    </tr>\n",
       "  </thead>\n",
       "  <tbody>\n",
       "    <tr>\n",
       "      <th>0</th>\n",
       "      <td>2677</td>\n",
       "      <td>Kanada (englisch und französisch Canada) ist e...</td>\n",
       "    </tr>\n",
       "    <tr>\n",
       "      <th>1</th>\n",
       "      <td>490244</td>\n",
       "      <td>In der Philosophie (altgriechisch φιλοσοφία ph...</td>\n",
       "    </tr>\n",
       "    <tr>\n",
       "      <th>2</th>\n",
       "      <td>3221050</td>\n",
       "      <td>Moskau (russisch Москва́ [mɐskˈva] , Moskwa) i...</td>\n",
       "    </tr>\n",
       "    <tr>\n",
       "      <th>3</th>\n",
       "      <td>16565</td>\n",
       "      <td>Frankfurt am Main () ist mit 759.224 Einwohner...</td>\n",
       "    </tr>\n",
       "    <tr>\n",
       "      <th>4</th>\n",
       "      <td>1200964</td>\n",
       "      <td>Australien (amtlicher deutscher Name; englisch...</td>\n",
       "    </tr>\n",
       "  </tbody>\n",
       "</table>\n",
       "</div>"
      ],
      "text/plain": [
       "    pageid                                            content\n",
       "0     2677  Kanada (englisch und französisch Canada) ist e...\n",
       "1   490244  In der Philosophie (altgriechisch φιλοσοφία ph...\n",
       "2  3221050  Moskau (russisch Москва́ [mɐskˈva] , Moskwa) i...\n",
       "3    16565  Frankfurt am Main () ist mit 759.224 Einwohner...\n",
       "4  1200964  Australien (amtlicher deutscher Name; englisch..."
      ]
     },
     "execution_count": 18,
     "metadata": {},
     "output_type": "execute_result"
    }
   ],
   "source": [
    "data.head()"
   ]
  },
  {
   "cell_type": "markdown",
   "id": "7a23cbaf",
   "metadata": {},
   "source": [
    "## 2. Preprocessing"
   ]
  },
  {
   "cell_type": "code",
   "execution_count": 20,
   "id": "760f12be",
   "metadata": {},
   "outputs": [],
   "source": [
    "def preprocess_data(text, idx):\n",
    "    text = re.sub(r\"\\n\", \"\", text)\n",
    "    text = re.sub(r\"\\(=.*?\\)\", \"\", text)\n",
    "    text = re.sub(r\"--+\", \"\", text)\n",
    "    text = re.sub(r\"==.*?==\", \"\", text)\n",
    "    text = re.sub(r\"=\", \"\", text)\n",
    "    \n",
    "    #source: https://stackoverflow.com/questions/2077897/substitute-multiple-whitespace-with-single-whitespace-in-python\n",
    "    _RE_COMBINE_WHITESPACE = re.compile(r\"\\s+\")\n",
    "    text = _RE_COMBINE_WHITESPACE.sub(\" \", text).strip()\n",
    "    \n",
    "    preprocessed_content.update({idx: text})\n",
    "    \n",
    "    if len(preprocessed_content) % 10 == 0:\n",
    "        update_progress(len(preprocessed_content) / len(ids))"
   ]
  },
  {
   "cell_type": "code",
   "execution_count": 26,
   "id": "7f5691f3",
   "metadata": {},
   "outputs": [],
   "source": [
    "german_stopwords = pd.read_csv(\"./yake_de-stopwords.csv\")\n",
    "german_stopwords = list(german_stopwords[\"stopwords\"])"
   ]
  },
  {
   "cell_type": "code",
   "execution_count": 21,
   "id": "58db5efc",
   "metadata": {},
   "outputs": [
    {
     "name": "stdout",
     "output_type": "stream",
     "text": [
      "DUR: 6.0949578285217285\n"
     ]
    }
   ],
   "source": [
    "preprocessed_content = {}\n",
    "start = time.time()\n",
    "with concurrent.futures.ThreadPoolExecutor() as executor:\n",
    "    executor.map(preprocess_data, data[\"content\"], data[\"pageid\"])\n",
    "\n",
    "end = time.time()\n",
    "dur = end - start\n",
    "print(\"DUR: %s\" % (dur))"
   ]
  },
  {
   "cell_type": "code",
   "execution_count": 22,
   "id": "9437cf20",
   "metadata": {},
   "outputs": [
    {
     "data": {
      "text/html": [
       "<div>\n",
       "<style scoped>\n",
       "    .dataframe tbody tr th:only-of-type {\n",
       "        vertical-align: middle;\n",
       "    }\n",
       "\n",
       "    .dataframe tbody tr th {\n",
       "        vertical-align: top;\n",
       "    }\n",
       "\n",
       "    .dataframe thead th {\n",
       "        text-align: right;\n",
       "    }\n",
       "</style>\n",
       "<table border=\"1\" class=\"dataframe\">\n",
       "  <thead>\n",
       "    <tr style=\"text-align: right;\">\n",
       "      <th></th>\n",
       "      <th>pageid</th>\n",
       "      <th>content</th>\n",
       "    </tr>\n",
       "  </thead>\n",
       "  <tbody>\n",
       "    <tr>\n",
       "      <th>0</th>\n",
       "      <td>2677</td>\n",
       "      <td>Kanada (englisch und französisch Canada) ist e...</td>\n",
       "    </tr>\n",
       "    <tr>\n",
       "      <th>1</th>\n",
       "      <td>490244</td>\n",
       "      <td>In der Philosophie (altgriechisch φιλοσοφία ph...</td>\n",
       "    </tr>\n",
       "    <tr>\n",
       "      <th>2</th>\n",
       "      <td>3221050</td>\n",
       "      <td>Moskau (russisch Москва́ [mɐskˈva] , Moskwa) i...</td>\n",
       "    </tr>\n",
       "    <tr>\n",
       "      <th>3</th>\n",
       "      <td>1200964</td>\n",
       "      <td>Australien (amtlicher deutscher Name; englisch...</td>\n",
       "    </tr>\n",
       "    <tr>\n",
       "      <th>4</th>\n",
       "      <td>880316</td>\n",
       "      <td>Finnland (finnisch [ˈsuɔmi], schwedisch Finlan...</td>\n",
       "    </tr>\n",
       "  </tbody>\n",
       "</table>\n",
       "</div>"
      ],
      "text/plain": [
       "    pageid                                            content\n",
       "0     2677  Kanada (englisch und französisch Canada) ist e...\n",
       "1   490244  In der Philosophie (altgriechisch φιλοσοφία ph...\n",
       "2  3221050  Moskau (russisch Москва́ [mɐskˈva] , Moskwa) i...\n",
       "3  1200964  Australien (amtlicher deutscher Name; englisch...\n",
       "4   880316  Finnland (finnisch [ˈsuɔmi], schwedisch Finlan..."
      ]
     },
     "execution_count": 22,
     "metadata": {},
     "output_type": "execute_result"
    }
   ],
   "source": [
    "preprocessed_df = pd.DataFrame(preprocessed_content.items())\n",
    "preprocessed_df = preprocessed_df.rename({0: \"pageid\", 1:\"content\"}, axis = 1)\n",
    "\n",
    "preprocessed_df.head()"
   ]
  },
  {
   "cell_type": "code",
   "execution_count": 23,
   "id": "2d0b2f32",
   "metadata": {},
   "outputs": [],
   "source": [
    "# save preproessed wiki pages to filesystem\n",
    "preprocessed_df.to_csv(\"./data/preprocessed_wiki_pages.csv\")"
   ]
  },
  {
   "cell_type": "markdown",
   "id": "80c7f01d",
   "metadata": {},
   "source": [
    "## 3. Extract Keywords"
   ]
  },
  {
   "cell_type": "code",
   "execution_count": 24,
   "id": "8c910aeb",
   "metadata": {},
   "outputs": [],
   "source": [
    "preprocessed_df = pd.read_csv(\"./data/preprocessed_wiki_pages.csv\")\n",
    "preprocessed_df = preprocessed_df[[\"pageid\", \"content\"]]"
   ]
  },
  {
   "cell_type": "code",
   "execution_count": 25,
   "id": "e7d2ae88",
   "metadata": {},
   "outputs": [
    {
     "data": {
      "text/html": [
       "<div>\n",
       "<style scoped>\n",
       "    .dataframe tbody tr th:only-of-type {\n",
       "        vertical-align: middle;\n",
       "    }\n",
       "\n",
       "    .dataframe tbody tr th {\n",
       "        vertical-align: top;\n",
       "    }\n",
       "\n",
       "    .dataframe thead th {\n",
       "        text-align: right;\n",
       "    }\n",
       "</style>\n",
       "<table border=\"1\" class=\"dataframe\">\n",
       "  <thead>\n",
       "    <tr style=\"text-align: right;\">\n",
       "      <th></th>\n",
       "      <th>pageid</th>\n",
       "      <th>content</th>\n",
       "    </tr>\n",
       "  </thead>\n",
       "  <tbody>\n",
       "    <tr>\n",
       "      <th>0</th>\n",
       "      <td>2677</td>\n",
       "      <td>Kanada (englisch und französisch Canada) ist e...</td>\n",
       "    </tr>\n",
       "    <tr>\n",
       "      <th>1</th>\n",
       "      <td>490244</td>\n",
       "      <td>In der Philosophie (altgriechisch φιλοσοφία ph...</td>\n",
       "    </tr>\n",
       "    <tr>\n",
       "      <th>2</th>\n",
       "      <td>3221050</td>\n",
       "      <td>Moskau (russisch Москва́ [mɐskˈva] , Moskwa) i...</td>\n",
       "    </tr>\n",
       "    <tr>\n",
       "      <th>3</th>\n",
       "      <td>1200964</td>\n",
       "      <td>Australien (amtlicher deutscher Name; englisch...</td>\n",
       "    </tr>\n",
       "    <tr>\n",
       "      <th>4</th>\n",
       "      <td>880316</td>\n",
       "      <td>Finnland (finnisch [ˈsuɔmi], schwedisch Finlan...</td>\n",
       "    </tr>\n",
       "  </tbody>\n",
       "</table>\n",
       "</div>"
      ],
      "text/plain": [
       "    pageid                                            content\n",
       "0     2677  Kanada (englisch und französisch Canada) ist e...\n",
       "1   490244  In der Philosophie (altgriechisch φιλοσοφία ph...\n",
       "2  3221050  Moskau (russisch Москва́ [mɐskˈva] , Moskwa) i...\n",
       "3  1200964  Australien (amtlicher deutscher Name; englisch...\n",
       "4   880316  Finnland (finnisch [ˈsuɔmi], schwedisch Finlan..."
      ]
     },
     "execution_count": 25,
     "metadata": {},
     "output_type": "execute_result"
    }
   ],
   "source": [
    "preprocessed_df.head()"
   ]
  },
  {
   "cell_type": "markdown",
   "id": "a6d8a5f6",
   "metadata": {},
   "source": [
    "### 3.1. YAKE\n",
    "\n",
    "using yakes keyword extractor  \n",
    "(https://liaad.github.io/yake/)\n",
    "\n",
    "yake hat eine eigene stopwords liste (https://github.com/LIAAD/yake/blob/master/yake/StopwordsList/stopwords_de.txt)  \n",
    "--> Keine weitere Stopwords suche benötigt\n",
    "\n",
    "YAKE ist sehr schnell (und leichter) Ansatz (https://towardsdatascience.com/unsupervised-keyphrase-extraction-with-patternrank-28ec3ca737f0)\n",
    "\n",
    "Lemma wird auch nicht benötigt, weil Yake ohne entsprechend trainiert wurde  \n",
    "\n",
    "Je geringer der Wahrscheinlichkeitswert, desto relevanter das Keyword (https://liaad.github.io/yake/docs/getting_started.html#output)"
   ]
  },
  {
   "cell_type": "code",
   "execution_count": 104,
   "id": "754df521",
   "metadata": {},
   "outputs": [],
   "source": [
    "# initialize YAKE keyword extractor\n",
    "yake_model = yake.KeywordExtractor(\n",
    "    lan = \"de\",\n",
    "    dedupLim = 0.99,\n",
    "    top = 10,\n",
    "    dedupFunc = \"seqm\", # default: seqm, alternative: jaro\n",
    "    n = 2,\n",
    "    windowsSize = 1\n",
    ")"
   ]
  },
  {
   "cell_type": "code",
   "execution_count": 29,
   "id": "e5f8f9e5",
   "metadata": {},
   "outputs": [
    {
     "name": "stdout",
     "output_type": "stream",
     "text": [
      "SKIPPED KEYWORD EXTRACTION WITH YAKE\n"
     ]
    }
   ],
   "source": [
    "if not skip_kw_extraction:\n",
    "    yake_keywords = {}\n",
    "    start = time.time()\n",
    "\n",
    "    for wiki_page, idx in zip(preprocessed_df[\"content\"], preprocessed_df[\"pageid\"]):\n",
    "        keywords = yake_model.extract_keywords(wiki_page)\n",
    "        yake_keywords.update({idx: keywords})\n",
    "\n",
    "        update_progress(len(yake_keywords) / preprocessed_df.shape[0])\n",
    "\n",
    "    end = time.time()\n",
    "\n",
    "    print(\"DUR: %s\" % (end - start))\n",
    "    yake_df = pd.DataFrame(yake_keywords.items())\n",
    "    yake_df = yake_df.rename({0: \"pageid\", 1:\"YAKE_keywords\"}, axis = 1)\n",
    "    \n",
    "    # save keywords with coresponding page id\n",
    "    yake_df.to_csv(\"./data/wikipage_keywords-YAKE.csv\")\n",
    "else:\n",
    "    print(\"SKIPPED KEYWORD EXTRACTION WITH YAKE\")"
   ]
  },
  {
   "cell_type": "code",
   "execution_count": 75,
   "id": "eb0e7544",
   "metadata": {},
   "outputs": [],
   "source": [
    "if not skip_kw_extraction:\n",
    "    yake_df = pd.read_csv(\"./data/wikipage_keywords-YAKE.csv\")\n",
    "    #yake_df = yake_df[[\"pageid\", \"YAKE_keywords\"]]\n",
    "    yake_df = yake_df[[\"pageid\", \"keywords\"]]\n",
    "    yake_df = yake_df.rename({\"keywords\": \"YAKE_keywords\"}, axis = 1)\n",
    "    yake_df.head()"
   ]
  },
  {
   "cell_type": "markdown",
   "id": "8154350f",
   "metadata": {},
   "source": [
    "### 3.2. RAKE"
   ]
  },
  {
   "cell_type": "code",
   "execution_count": 69,
   "id": "de3cc3bd",
   "metadata": {},
   "outputs": [],
   "source": [
    "# initialize RAKE model\n",
    "rake_model = Rake(\n",
    "    language = \"german\",\n",
    "    stopwords = german_stopwords,\n",
    "    ranking_metric = Metric.WORD_FREQUENCY,\n",
    "    max_length = 2,\n",
    "    include_repeated_phrases = False,\n",
    "    punctuations = \".,-;)\"\n",
    ")"
   ]
  },
  {
   "cell_type": "code",
   "execution_count": 79,
   "id": "c930a39a",
   "metadata": {},
   "outputs": [
    {
     "name": "stdout",
     "output_type": "stream",
     "text": [
      "Progress: [##################################################] 100.0%\n",
      "DUR: 48.029067039489746\n"
     ]
    }
   ],
   "source": [
    "if skip_kw_extraction:\n",
    "    rake_keywords = {}\n",
    "    start = time.time()\n",
    "\n",
    "    for wiki_page, idx in zip(preprocessed_df[\"content\"], preprocessed_df[\"pageid\"]):\n",
    "        rake_model.extract_keywords_from_text(wiki_page)\n",
    "        # get top 10 keyowords for wiki page\n",
    "        ranking = rake_model.get_ranked_phrases_with_scores()[:10]\n",
    "        # recalculate propability\n",
    "        keyword_ranking = []\n",
    "        base = ranking[0][0] * 1.05\n",
    "        for rank in ranking:\n",
    "            kw = rank[1]\n",
    "            prop = rank[0]\n",
    "            keyword_ranking.append((kw, (1 - (prop / base)) / 100))\n",
    "\n",
    "        rake_keywords.update({idx: keyword_ranking})\n",
    "        update_progress(len(rake_keywords) / preprocessed_df.shape[0])\n",
    "\n",
    "    end = time.time()\n",
    "    dur = end - start\n",
    "    print(\"DUR: %s\" % (dur))\n",
    "    \n",
    "    rake_df = pd.DataFrame(rake_keywords.items())\n",
    "    rake_df = rake_df.rename({0: \"pageid\", 1:\"RAKE_keywords\"}, axis = 1)\n",
    "    \n",
    "    # save keywords with coresponding page id\n",
    "    rake_df.to_csv(\"./data/wikipage_keywords-RAKE.csv\")\n",
    "else:\n",
    "    print(\"SKIPPED KEYWORD EXTRACTION WITH RAKE\")"
   ]
  },
  {
   "cell_type": "code",
   "execution_count": 73,
   "id": "ae5114c2",
   "metadata": {},
   "outputs": [],
   "source": [
    "if skip_kw_extraction:\n",
    "    # read rake keywords\n",
    "    rake_df = pd.read_csv(\"./data/wikipage_keywords-RAKE.csv\")\n",
    "    #rake_df = rake_df[[\"pageid\", \"RAKE_keywords\"]]\n",
    "    rake_df = rake_df[[\"pageid\", \"keywords\"]]\n",
    "    rake_df = rake_df.rename({\"keywords\": \"RAKE_keywords\"}, axis = 1)\n",
    "    rake_df.head()"
   ]
  },
  {
   "cell_type": "markdown",
   "id": "d3d9d9e5",
   "metadata": {},
   "source": [
    "### 3.3. KeyBERT"
   ]
  },
  {
   "cell_type": "code",
   "execution_count": 322,
   "id": "82c9c9ea",
   "metadata": {},
   "outputs": [],
   "source": [
    "# initialize KeyBERT model\n",
    "kw_model = KeyBERT()"
   ]
  },
  {
   "cell_type": "code",
   "execution_count": 323,
   "id": "8093d4b4",
   "metadata": {},
   "outputs": [
    {
     "name": "stdout",
     "output_type": "stream",
     "text": [
      "Progress: [##################################################] 100.0%\n",
      "DUR: 7350.769551038742\n"
     ]
    }
   ],
   "source": [
    "if not skip_kw_extraction:\n",
    "    bert_keywords = {}\n",
    "    start = time.time()\n",
    "\n",
    "    for wiki_page, idx in zip(preprocessed_df[\"content\"], preprocessed_df[\"pageid\"]): \n",
    "        # get top 10 keywords from wiki page\n",
    "        ranking = kw_model.extract_keywords(\n",
    "            wiki_page, \n",
    "            keyphrase_ngram_range = (1, 1), \n",
    "            stop_words = german_stopwords,\n",
    "            top_n = 10,\n",
    "            use_mmr = True,\n",
    "            diversity = 0.3\n",
    "        )\n",
    "        # recalculate propability\n",
    "        keyword_ranking = []\n",
    "        base = ranking[0][1] * 1.05\n",
    "        for rank in ranking:\n",
    "            kw = rank[0]\n",
    "            prop = rank[1]\n",
    "            keyword_ranking.append((kw, (1 - (prop / base)) / 100))\n",
    "\n",
    "        bert_keywords.update({idx: keyword_ranking})\n",
    "        update_progress(len(bert_keywords) / preprocessed_df.shape[0])\n",
    "\n",
    "    end = time.time()\n",
    "    dur = end - start\n",
    "    print(\"DUR: %s\" % (dur))\n",
    "    \n",
    "    bert_df = pd.DataFrame(bert_keywords.items())\n",
    "    bert_df = bert_df.rename({0: \"pageid\", 1:\"KeyBERT_keywords\"}, axis = 1)\n",
    "    \n",
    "    # save keywords with coresponding page id\n",
    "    bert_df.to_csv(\"./data/wikipage_keywords-BERT.csv\")\n",
    "else:\n",
    "    print(\"SKIPPED KEYWORD EXTRACTION WITH KeyBERT\")"
   ]
  },
  {
   "cell_type": "code",
   "execution_count": 72,
   "id": "a02394d6",
   "metadata": {},
   "outputs": [],
   "source": [
    "if skip_kw_extraction:\n",
    "    bert_df = pd.read_csv(\"./data/wikipage_keywords-BERT.csv\")\n",
    "    #bert_df = bert_df[[\"pageid\", \"KeyBERT_keywords\"]]\n",
    "    bert_df = bert_df[[\"pageid\", \"keywords\"]]\n",
    "    bert_df = bert_df.rename({\"keywords\": \"KeyBERT_keywords\"}, axis = 1)\n",
    "    bert_df.head()"
   ]
  },
  {
   "cell_type": "markdown",
   "id": "425f52a5",
   "metadata": {},
   "source": [
    "### 3.4. Results from Keyword Extraction"
   ]
  },
  {
   "cell_type": "code",
   "execution_count": 80,
   "id": "7f3fa167",
   "metadata": {},
   "outputs": [
    {
     "data": {
      "text/html": [
       "<div>\n",
       "<style scoped>\n",
       "    .dataframe tbody tr th:only-of-type {\n",
       "        vertical-align: middle;\n",
       "    }\n",
       "\n",
       "    .dataframe tbody tr th {\n",
       "        vertical-align: top;\n",
       "    }\n",
       "\n",
       "    .dataframe thead th {\n",
       "        text-align: right;\n",
       "    }\n",
       "</style>\n",
       "<table border=\"1\" class=\"dataframe\">\n",
       "  <thead>\n",
       "    <tr style=\"text-align: right;\">\n",
       "      <th></th>\n",
       "      <th>pageid</th>\n",
       "      <th>content</th>\n",
       "      <th>YAKE_keywords</th>\n",
       "      <th>RAKE_keywords</th>\n",
       "      <th>KeyBERT_keywords</th>\n",
       "    </tr>\n",
       "  </thead>\n",
       "  <tbody>\n",
       "    <tr>\n",
       "      <th>0</th>\n",
       "      <td>2677</td>\n",
       "      <td>Kanada (englisch und französisch Canada) ist e...</td>\n",
       "      <td>[('Kanada', 0.0005525449347212504), ('Kanadas'...</td>\n",
       "      <td>[(provinz kanada, 0.0004761904761904778), (kan...</td>\n",
       "      <td>[('kanada', 0.0004761904761904756), ('kanadier...</td>\n",
       "    </tr>\n",
       "    <tr>\n",
       "      <th>1</th>\n",
       "      <td>490244</td>\n",
       "      <td>In der Philosophie (altgriechisch φιλοσοφία ph...</td>\n",
       "      <td>[('Philosophie', 0.00024914998570791535), ('IS...</td>\n",
       "      <td>[(philosophie –, 0.00047619047619047673), (phi...</td>\n",
       "      <td>[('philosophisches', 0.00047619047619047673), ...</td>\n",
       "    </tr>\n",
       "    <tr>\n",
       "      <th>2</th>\n",
       "      <td>3221050</td>\n",
       "      <td>Moskau (russisch Москва́ [mɐskˈva] , Moskwa) i...</td>\n",
       "      <td>[('Moskau', 0.00024187077106055336), ('Stadt M...</td>\n",
       "      <td>[(stadt moskau, 0.00047619047619047673), (mosk...</td>\n",
       "      <td>[('moskau', 0.0004761904761904756), ('moskausm...</td>\n",
       "    </tr>\n",
       "    <tr>\n",
       "      <th>3</th>\n",
       "      <td>1200964</td>\n",
       "      <td>Australien (amtlicher deutscher Name; englisch...</td>\n",
       "      <td>[('Australien', 0.0006737985774128164), ('Aust...</td>\n",
       "      <td>[(australischen regierung, 0.00047619047619047...</td>\n",
       "      <td>[('australiens', 0.00047619047619047673), ('au...</td>\n",
       "    </tr>\n",
       "    <tr>\n",
       "      <th>4</th>\n",
       "      <td>880316</td>\n",
       "      <td>Finnland (finnisch [ˈsuɔmi], schwedisch Finlan...</td>\n",
       "      <td>[('Finnland', 0.000695009528347298), ('Finnlan...</td>\n",
       "      <td>[(sowjetunion finnland, 0.00047619047619047673...</td>\n",
       "      <td>[('finnland', 0.0004761904761904756), ('finnla...</td>\n",
       "    </tr>\n",
       "  </tbody>\n",
       "</table>\n",
       "</div>"
      ],
      "text/plain": [
       "    pageid                                            content  \\\n",
       "0     2677  Kanada (englisch und französisch Canada) ist e...   \n",
       "1   490244  In der Philosophie (altgriechisch φιλοσοφία ph...   \n",
       "2  3221050  Moskau (russisch Москва́ [mɐskˈva] , Moskwa) i...   \n",
       "3  1200964  Australien (amtlicher deutscher Name; englisch...   \n",
       "4   880316  Finnland (finnisch [ˈsuɔmi], schwedisch Finlan...   \n",
       "\n",
       "                                       YAKE_keywords  \\\n",
       "0  [('Kanada', 0.0005525449347212504), ('Kanadas'...   \n",
       "1  [('Philosophie', 0.00024914998570791535), ('IS...   \n",
       "2  [('Moskau', 0.00024187077106055336), ('Stadt M...   \n",
       "3  [('Australien', 0.0006737985774128164), ('Aust...   \n",
       "4  [('Finnland', 0.000695009528347298), ('Finnlan...   \n",
       "\n",
       "                                       RAKE_keywords  \\\n",
       "0  [(provinz kanada, 0.0004761904761904778), (kan...   \n",
       "1  [(philosophie –, 0.00047619047619047673), (phi...   \n",
       "2  [(stadt moskau, 0.00047619047619047673), (mosk...   \n",
       "3  [(australischen regierung, 0.00047619047619047...   \n",
       "4  [(sowjetunion finnland, 0.00047619047619047673...   \n",
       "\n",
       "                                    KeyBERT_keywords  \n",
       "0  [('kanada', 0.0004761904761904756), ('kanadier...  \n",
       "1  [('philosophisches', 0.00047619047619047673), ...  \n",
       "2  [('moskau', 0.0004761904761904756), ('moskausm...  \n",
       "3  [('australiens', 0.00047619047619047673), ('au...  \n",
       "4  [('finnland', 0.0004761904761904756), ('finnla...  "
      ]
     },
     "execution_count": 80,
     "metadata": {},
     "output_type": "execute_result"
    }
   ],
   "source": [
    "# join wikipages with (predicted) keywords on pageid\n",
    "results_kw_extraction = pd.concat(\n",
    "    [\n",
    "        preprocessed_df.set_index(\"pageid\"), \n",
    "        yake_df.set_index(\"pageid\"), \n",
    "        rake_df.set_index(\"pageid\"),\n",
    "        bert_df.set_index(\"pageid\")\n",
    "    ], axis = 1, join = \"inner\"\n",
    ").reset_index()\n",
    "results_kw_extraction.head()"
   ]
  },
  {
   "cell_type": "markdown",
   "id": "2d87ea53",
   "metadata": {},
   "source": [
    "## 4. Evaluation\n",
    "\n",
    "### 4.1. Ground Truth"
   ]
  },
  {
   "cell_type": "code",
   "execution_count": 84,
   "id": "301661cc",
   "metadata": {},
   "outputs": [
    {
     "name": "stdout",
     "output_type": "stream",
     "text": [
      "Progress: [##################################################] 100.0%\n",
      "DUR: 98.47466993331909\n"
     ]
    }
   ],
   "source": [
    "if skip_counter:\n",
    "    # count words (excluding german stopwords) in text\n",
    "    counter_keywords = {}\n",
    "    start = time.time()\n",
    "    for idx, content in zip(preprocessed_df[\"pageid\"], preprocessed_df[\"content\"]):\n",
    "        counter = {}\n",
    "        text = content.lower()\n",
    "        text = text.translate(str.maketrans('', '', string.punctuation))\n",
    "        text = text.split(\" \")\n",
    "\n",
    "        for word in text:\n",
    "            if word not in german_stopwords and len(word) != 0:\n",
    "                if word in counter.keys():\n",
    "                    counter.update({word: counter.get(word) + 1})\n",
    "                else:\n",
    "                    counter.update({word: 1})\n",
    "\n",
    "        sorted_counter = dict(sorted(counter.items(), key = lambda item: item[1], reverse = True))\n",
    "\n",
    "        # calculate propability that these words are keywords\n",
    "        # base for propability calculations -- occurance of most occuring word with 5% addition to it, \n",
    "        #   so propability isn't 1 for most occuring word\n",
    "        base = list(sorted_counter.items())[0][1]\n",
    "        base = base * 1.05 # TODO: rework explaination why \"* 1.05\" (5% addition to max occurance of most occuring word)\n",
    "        counts = []\n",
    "        for key, val in sorted_counter.items():\n",
    "            # append word with coresponding propability -- the lower the prop-value the bigger the propabiliy to be\n",
    "            #   an important keyword\n",
    "            counts.append((key, (1 - (val / base)) / 100))\n",
    "\n",
    "        counter_keywords.update({idx: counts[:50]})\n",
    "\n",
    "        update_progress(len(counter_keywords) / results.shape[0])\n",
    "\n",
    "    end = time.time()\n",
    "    dur = end - start\n",
    "    print(\"DUR: %s\" % (dur))\n",
    "    \n",
    "    results_counter = pd.DataFrame(counter_keywords.items())\n",
    "    results_counter = results_counter.rename({0: \"pageid\", 1: \"counter_keywords\"}, axis = 1)\n",
    "    \n",
    "    results_counter.to_csv(\"./data/counter_keywords.csv\")\n",
    "else:\n",
    "    print(\"SKIPPED COUNTER\")"
   ]
  },
  {
   "cell_type": "code",
   "execution_count": 83,
   "id": "394b53c3",
   "metadata": {},
   "outputs": [],
   "source": [
    "if skip_counter:\n",
    "    results_counter = pd.read_csv(\"./data/counter_keywords.csv\")\n",
    "    results_counter = results_counter[[\"pageid\", \"counter_keywords\"]]\n",
    "    results_counter.head()"
   ]
  },
  {
   "cell_type": "code",
   "execution_count": 85,
   "id": "78dbbf0b",
   "metadata": {},
   "outputs": [
    {
     "data": {
      "text/html": [
       "<div>\n",
       "<style scoped>\n",
       "    .dataframe tbody tr th:only-of-type {\n",
       "        vertical-align: middle;\n",
       "    }\n",
       "\n",
       "    .dataframe tbody tr th {\n",
       "        vertical-align: top;\n",
       "    }\n",
       "\n",
       "    .dataframe thead th {\n",
       "        text-align: right;\n",
       "    }\n",
       "</style>\n",
       "<table border=\"1\" class=\"dataframe\">\n",
       "  <thead>\n",
       "    <tr style=\"text-align: right;\">\n",
       "      <th></th>\n",
       "      <th>pageid</th>\n",
       "      <th>content</th>\n",
       "      <th>YAKE_keywords</th>\n",
       "      <th>RAKE_keywords</th>\n",
       "      <th>KeyBERT_keywords</th>\n",
       "      <th>GROUND_TRUTH</th>\n",
       "    </tr>\n",
       "  </thead>\n",
       "  <tbody>\n",
       "    <tr>\n",
       "      <th>0</th>\n",
       "      <td>2677</td>\n",
       "      <td>Kanada (englisch und französisch Canada) ist e...</td>\n",
       "      <td>[('Kanada', 0.0005525449347212504), ('Kanadas'...</td>\n",
       "      <td>[(provinz kanada, 0.0004761904761904778), (kan...</td>\n",
       "      <td>[('kanada', 0.0004761904761904756), ('kanadier...</td>\n",
       "      <td>[(kanada, 0.00047619047619047673), (québec, 0....</td>\n",
       "    </tr>\n",
       "    <tr>\n",
       "      <th>1</th>\n",
       "      <td>490244</td>\n",
       "      <td>In der Philosophie (altgriechisch φιλοσοφία ph...</td>\n",
       "      <td>[('Philosophie', 0.00024914998570791535), ('IS...</td>\n",
       "      <td>[(philosophie –, 0.00047619047619047673), (phi...</td>\n",
       "      <td>[('philosophisches', 0.00047619047619047673), ...</td>\n",
       "      <td>[(philosophie, 0.00047619047619047673), (–, 0....</td>\n",
       "    </tr>\n",
       "    <tr>\n",
       "      <th>2</th>\n",
       "      <td>3221050</td>\n",
       "      <td>Moskau (russisch Москва́ [mɐskˈva] , Moskwa) i...</td>\n",
       "      <td>[('Moskau', 0.00024187077106055336), ('Stadt M...</td>\n",
       "      <td>[(stadt moskau, 0.00047619047619047673), (mosk...</td>\n",
       "      <td>[('moskau', 0.0004761904761904756), ('moskausm...</td>\n",
       "      <td>[(moskau, 0.00047619047619047673), (stadt, 0.0...</td>\n",
       "    </tr>\n",
       "    <tr>\n",
       "      <th>3</th>\n",
       "      <td>1200964</td>\n",
       "      <td>Australien (amtlicher deutscher Name; englisch...</td>\n",
       "      <td>[('Australien', 0.0006737985774128164), ('Aust...</td>\n",
       "      <td>[(australischen regierung, 0.00047619047619047...</td>\n",
       "      <td>[('australiens', 0.00047619047619047673), ('au...</td>\n",
       "      <td>[(australien, 0.00047619047619047673), (austra...</td>\n",
       "    </tr>\n",
       "    <tr>\n",
       "      <th>4</th>\n",
       "      <td>880316</td>\n",
       "      <td>Finnland (finnisch [ˈsuɔmi], schwedisch Finlan...</td>\n",
       "      <td>[('Finnland', 0.000695009528347298), ('Finnlan...</td>\n",
       "      <td>[(sowjetunion finnland, 0.00047619047619047673...</td>\n",
       "      <td>[('finnland', 0.0004761904761904756), ('finnla...</td>\n",
       "      <td>[(finnland, 0.00047619047619047673), (finnland...</td>\n",
       "    </tr>\n",
       "  </tbody>\n",
       "</table>\n",
       "</div>"
      ],
      "text/plain": [
       "    pageid                                            content  \\\n",
       "0     2677  Kanada (englisch und französisch Canada) ist e...   \n",
       "1   490244  In der Philosophie (altgriechisch φιλοσοφία ph...   \n",
       "2  3221050  Moskau (russisch Москва́ [mɐskˈva] , Moskwa) i...   \n",
       "3  1200964  Australien (amtlicher deutscher Name; englisch...   \n",
       "4   880316  Finnland (finnisch [ˈsuɔmi], schwedisch Finlan...   \n",
       "\n",
       "                                       YAKE_keywords  \\\n",
       "0  [('Kanada', 0.0005525449347212504), ('Kanadas'...   \n",
       "1  [('Philosophie', 0.00024914998570791535), ('IS...   \n",
       "2  [('Moskau', 0.00024187077106055336), ('Stadt M...   \n",
       "3  [('Australien', 0.0006737985774128164), ('Aust...   \n",
       "4  [('Finnland', 0.000695009528347298), ('Finnlan...   \n",
       "\n",
       "                                       RAKE_keywords  \\\n",
       "0  [(provinz kanada, 0.0004761904761904778), (kan...   \n",
       "1  [(philosophie –, 0.00047619047619047673), (phi...   \n",
       "2  [(stadt moskau, 0.00047619047619047673), (mosk...   \n",
       "3  [(australischen regierung, 0.00047619047619047...   \n",
       "4  [(sowjetunion finnland, 0.00047619047619047673...   \n",
       "\n",
       "                                    KeyBERT_keywords  \\\n",
       "0  [('kanada', 0.0004761904761904756), ('kanadier...   \n",
       "1  [('philosophisches', 0.00047619047619047673), ...   \n",
       "2  [('moskau', 0.0004761904761904756), ('moskausm...   \n",
       "3  [('australiens', 0.00047619047619047673), ('au...   \n",
       "4  [('finnland', 0.0004761904761904756), ('finnla...   \n",
       "\n",
       "                                        GROUND_TRUTH  \n",
       "0  [(kanada, 0.00047619047619047673), (québec, 0....  \n",
       "1  [(philosophie, 0.00047619047619047673), (–, 0....  \n",
       "2  [(moskau, 0.00047619047619047673), (stadt, 0.0...  \n",
       "3  [(australien, 0.00047619047619047673), (austra...  \n",
       "4  [(finnland, 0.00047619047619047673), (finnland...  "
      ]
     },
     "execution_count": 85,
     "metadata": {},
     "output_type": "execute_result"
    }
   ],
   "source": [
    "results = pd.concat(\n",
    "    [\n",
    "        results_kw_extraction.set_index(\"pageid\"), \n",
    "        results_counter.set_index(\"pageid\")\n",
    "    ], axis = 1, join = \"inner\"\n",
    ").reset_index()\n",
    "results = results.rename({\"counter_keywords\": \"GROUND_TRUTH\"}, axis = 1)\n",
    "results.head()"
   ]
  },
  {
   "cell_type": "markdown",
   "id": "8be34943",
   "metadata": {},
   "source": [
    "### 4.2. Calc Metrics"
   ]
  },
  {
   "cell_type": "code",
   "execution_count": 116,
   "id": "f6fbde21",
   "metadata": {},
   "outputs": [
    {
     "name": "stdout",
     "output_type": "stream",
     "text": [
      "Progress: [##################################################] 100.0%\n",
      "RAKE done\n",
      "DUR: 8.049978971481323\n"
     ]
    }
   ],
   "source": [
    "eval = {}\n",
    "dataframes = [yake_df, rake_df, bert_df]\n",
    "dataframes = [rake_df]\n",
    "start = time.time()\n",
    "for df in dataframes:\n",
    "    kw_column = df.columns[1]\n",
    "    model_name = kw_column[:-9]\n",
    "    print(model_name)\n",
    "    eval.update({model_name: {}})\n",
    "    for idx, kw_results, ground_truth in zip(df[\"pageid\"], df[kw_column], results[\"GROUND_TRUTH\"]):\n",
    "        comparison = {}\n",
    "        selected_keywords = []\n",
    "        \n",
    "        # set respective model keywords propability in order of occurance\n",
    "        for keyword in kw_results:\n",
    "            # if keyword is build from multiple words check each word separatly\n",
    "            for kw in keyword[0].split(\" \"):\n",
    "                comparison.update({\n",
    "                    kw.lower(): {\n",
    "                        model_name: keyword[1],\n",
    "                        \"counter\": 1.0 # propabilitx gets updated later on\n",
    "                    }\n",
    "                })\n",
    "        \n",
    "        # set counter keywords propability in order of occurance\n",
    "        for keyword in ground_truth:\n",
    "            if keyword[0] in comparison.keys():\n",
    "                comparison.update({\n",
    "                    keyword[0]: {\n",
    "                        model_name: comparison[keyword[0]].get(model_name),\n",
    "                        \"counter\": keyword[1] \n",
    "                    }\n",
    "                })\n",
    "        \n",
    "        # get keyword prediction and ground truth values\n",
    "        pred = []\n",
    "        true = []\n",
    "        for key, val in comparison.items():\n",
    "            pred.append(val.get(model_name))\n",
    "            true.append(val.get(\"counter\"))\n",
    "            \n",
    "        # calc metrics\n",
    "        mse = mean_squared_error(true, pred)\n",
    "        mae = mean_absolute_error(true, pred)\n",
    "        mape = mean_absolute_percentage_error(true, pred)\n",
    "        \n",
    "        # save metrics results\n",
    "        eval.get(model_name).update({\n",
    "            idx: [mse, mae, mape]\n",
    "        })\n",
    "        \n",
    "        update_progress(len(eval.get(model_name)) / df.shape[0])\n",
    "    print(\"%s done\" % (model_name))\n",
    "\n",
    "end = time.time()\n",
    "dur = end - start\n",
    "print(\"DUR: %s\" % (dur))"
   ]
  },
  {
   "cell_type": "code",
   "execution_count": 139,
   "id": "5c6bf477",
   "metadata": {},
   "outputs": [],
   "source": [
    "eval_df = pd.DataFrame()\n",
    "eval_df[\"pageid\"] = results[\"pageid\"]\n",
    "for metrics_results in eval.keys():\n",
    "    temp_df = pd.DataFrame(eval.get(metrics_results).items())\n",
    "    temp_df = temp_df.rename({0: \"pageid\", 1:\"metrics\"}, axis = 1)\n",
    "\n",
    "    mse = []\n",
    "    mae = []\n",
    "    mape = []\n",
    "    for metrics in temp_df[\"metrics\"]:\n",
    "        mse.append(metrics[0])\n",
    "        mae.append(metrics[1])\n",
    "        mape.append(metrics[2])\n",
    "\n",
    "    eval_df[\"%s_MSE\" % (metrics_results)] = mse\n",
    "    eval_df[\"%s_MAE\" % (metrics_results)] = mae\n",
    "    eval_df[\"%s_MAPE\" % (metrics_results)] = mape"
   ]
  },
  {
   "cell_type": "code",
   "execution_count": 141,
   "id": "90044dbd",
   "metadata": {},
   "outputs": [
    {
     "data": {
      "text/html": [
       "<div>\n",
       "<style scoped>\n",
       "    .dataframe tbody tr th:only-of-type {\n",
       "        vertical-align: middle;\n",
       "    }\n",
       "\n",
       "    .dataframe tbody tr th {\n",
       "        vertical-align: top;\n",
       "    }\n",
       "\n",
       "    .dataframe thead th {\n",
       "        text-align: right;\n",
       "    }\n",
       "</style>\n",
       "<table border=\"1\" class=\"dataframe\">\n",
       "  <thead>\n",
       "    <tr style=\"text-align: right;\">\n",
       "      <th></th>\n",
       "      <th>pageid</th>\n",
       "      <th>RAKE_MSE</th>\n",
       "      <th>RAKE_MAE</th>\n",
       "      <th>RAKE_MAPE</th>\n",
       "    </tr>\n",
       "  </thead>\n",
       "  <tbody>\n",
       "    <tr>\n",
       "      <th>0</th>\n",
       "      <td>2677</td>\n",
       "      <td>0.724973</td>\n",
       "      <td>0.727668</td>\n",
       "      <td>1.184364</td>\n",
       "    </tr>\n",
       "    <tr>\n",
       "      <th>1</th>\n",
       "      <td>490244</td>\n",
       "      <td>0.498320</td>\n",
       "      <td>0.502233</td>\n",
       "      <td>1.165619</td>\n",
       "    </tr>\n",
       "    <tr>\n",
       "      <th>2</th>\n",
       "      <td>3221050</td>\n",
       "      <td>0.632491</td>\n",
       "      <td>0.636324</td>\n",
       "      <td>1.364198</td>\n",
       "    </tr>\n",
       "    <tr>\n",
       "      <th>3</th>\n",
       "      <td>1200964</td>\n",
       "      <td>0.536364</td>\n",
       "      <td>0.539496</td>\n",
       "      <td>1.100422</td>\n",
       "    </tr>\n",
       "    <tr>\n",
       "      <th>4</th>\n",
       "      <td>880316</td>\n",
       "      <td>0.581319</td>\n",
       "      <td>0.584775</td>\n",
       "      <td>1.092797</td>\n",
       "    </tr>\n",
       "  </tbody>\n",
       "</table>\n",
       "</div>"
      ],
      "text/plain": [
       "    pageid  RAKE_MSE  RAKE_MAE  RAKE_MAPE\n",
       "0     2677  0.724973  0.727668   1.184364\n",
       "1   490244  0.498320  0.502233   1.165619\n",
       "2  3221050  0.632491  0.636324   1.364198\n",
       "3  1200964  0.536364  0.539496   1.100422\n",
       "4   880316  0.581319  0.584775   1.092797"
      ]
     },
     "execution_count": 141,
     "metadata": {},
     "output_type": "execute_result"
    }
   ],
   "source": [
    "eval_df.head()"
   ]
  },
  {
   "cell_type": "code",
   "execution_count": 148,
   "id": "aef8dc9f",
   "metadata": {},
   "outputs": [],
   "source": [
    "eval_df.to_csv(\"./data/results_eval_metrics.csv\")"
   ]
  },
  {
   "cell_type": "code",
   "execution_count": 147,
   "id": "f422812b",
   "metadata": {},
   "outputs": [
    {
     "name": "stdout",
     "output_type": "stream",
     "text": [
      "####### RAKE #######\n",
      "##### MSE #####\n",
      "max: 0.9985\n",
      "min: 0.0\n",
      "mean: 0.58\n",
      "\n",
      "##### MAE #####\n",
      "max: 0.9993\n",
      "min: 0.0015\n",
      "mean: 0.5832\n",
      "\n",
      "##### MAPE #####\n",
      "max: 2.1823\n",
      "min: 0.5334\n",
      "mean: 1.1132\n"
     ]
    }
   ],
   "source": [
    "# simple overview of quality of prediction\n",
    "for model_name in eval.keys():\n",
    "    print(\"####### %s #######\" % (model_name))\n",
    "    print(\"##### MSE #####\")\n",
    "    print(\"max: %s\\nmin: %s\\nmean: %s\" % (\n",
    "        round(np.max(eval_df[\"%s_MSE\" % (model_name)]), 4), \n",
    "        round(np.min(eval_df[\"%s_MSE\" % (model_name)]), 4), \n",
    "        round(np.mean(eval_df[\"%s_MSE\" % (model_name)]), 4)\n",
    "    ))\n",
    "\n",
    "    print(\"\\n##### MAE #####\")\n",
    "    print(\"max: %s\\nmin: %s\\nmean: %s\" % (\n",
    "        round(np.max(eval_df[\"%s_MAE\" % (model_name)]), 4),\n",
    "        round(np.min(eval_df[\"%s_MAE\" % (model_name)]), 4),\n",
    "        round(np.mean(eval_df[\"%s_MAE\" % (model_name)]), 4)\n",
    "    ))\n",
    "\n",
    "    print(\"\\n##### MAPE #####\")\n",
    "    print(\"max: %s\\nmin: %s\\nmean: %s\" % (\n",
    "        round(np.max(eval_df[\"%s_MAPE\" % (model_name)]), 4), \n",
    "        round(np.min(eval_df[\"%s_MAPE\" % (model_name)]), 4), \n",
    "        round(np.mean(eval_df[\"%s_MAPE\" % (model_name)]), 4)\n",
    "    ))"
   ]
  },
  {
   "cell_type": "code",
   "execution_count": null,
   "id": "304ff13d",
   "metadata": {},
   "outputs": [],
   "source": []
  },
  {
   "cell_type": "code",
   "execution_count": null,
   "id": "08e1c75d",
   "metadata": {},
   "outputs": [],
   "source": []
  }
 ],
 "metadata": {
  "kernelspec": {
   "display_name": "Python 3.10.8 64-bit",
   "language": "python",
   "name": "python3108jvsc74a57bd0b0fa6594d8f4cbf19f97940f81e996739fb7646882a419484c72d19e05852a7e"
  },
  "language_info": {
   "codemirror_mode": {
    "name": "ipython",
    "version": 3
   },
   "file_extension": ".py",
   "mimetype": "text/x-python",
   "name": "python",
   "nbconvert_exporter": "python",
   "pygments_lexer": "ipython3",
   "version": "3.10.8"
  }
 },
 "nbformat": 4,
 "nbformat_minor": 5
}
