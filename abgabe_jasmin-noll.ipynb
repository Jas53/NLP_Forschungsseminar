{
 "cells": [
  {
   "cell_type": "markdown",
   "id": "9d3462ab",
   "metadata": {},
   "source": [
    "# Abgabe zur Vorlesung \"Forschungsthemen Informatik\" von Jasmin Noll\n",
    "\n",
    "In diesem Notebook wird der **2. Shared Task: Top Modelling auf Artikel aus DE-Wikipedia** bearbeitet.  \n",
    "<Kurze Erläuterung der Aufgabe und was in diesem Notebook erwartet wird>"
   ]
  },
  {
   "cell_type": "code",
   "execution_count": 1,
   "id": "02c76de7",
   "metadata": {},
   "outputs": [],
   "source": [
    "import pandas as pd\n",
    "import numpy as np\n",
    "import time\n",
    "import requests\n",
    "import concurrent.futures\n",
    "import re\n",
    "import string\n",
    "import spacy\n",
    "import gensim\n",
    "import yake\n",
    "from gensim import corpora\n",
    "from nltk.corpus import stopwords\n",
    "from IPython.display import clear_output\n",
    "from sklearn.metrics import mean_squared_error\n",
    "#nltk.download(\"stopwords\")\n",
    "\n",
    "import warnings\n",
    "warnings.filterwarnings(\"ignore\")"
   ]
  },
  {
   "cell_type": "code",
   "execution_count": 2,
   "id": "ae3a8ccf",
   "metadata": {},
   "outputs": [],
   "source": [
    "# source: IBM internal\n",
    "def update_progress(progress):\n",
    "    bar_length = 50\n",
    "    if isinstance(progress, int):\n",
    "        progress = float(progress)\n",
    "    if not isinstance(progress, float):\n",
    "        progress = 0\n",
    "    if progress < 0:\n",
    "        progress = 0\n",
    "    if progress >= 1:\n",
    "        progress = 1\n",
    "\n",
    "    block = int(round(bar_length * progress))\n",
    "\n",
    "    clear_output(wait = True)\n",
    "    text = \"Progress: [{0}] {1:.1f}%\".format( \"#\" * block + \"-\" * (bar_length - block), progress * 100)\n",
    "    print(text)"
   ]
  },
  {
   "cell_type": "markdown",
   "id": "d72323da",
   "metadata": {},
   "source": [
    "## request data"
   ]
  },
  {
   "cell_type": "code",
   "execution_count": 3,
   "id": "c8deb2ea",
   "metadata": {},
   "outputs": [],
   "source": [
    "URL = \"https://de.wikipedia.org/w/api.php\""
   ]
  },
  {
   "cell_type": "markdown",
   "id": "1266265d",
   "metadata": {},
   "source": [
    "```python\n",
    "S = requests.Session()\n",
    "```"
   ]
  },
  {
   "cell_type": "markdown",
   "id": "ce72cd1d",
   "metadata": {},
   "source": [
    "```python\n",
    "# request excellent arictles from german wikipedia via wiki api (10 at a time)\n",
    "params_pageid = {\n",
    "    \"action\": \"query\",\n",
    "    \"prop\": \"revisions\",\n",
    "    \"rvprop\": \"content\",\n",
    "    \"rvslots\": \"*\",\n",
    "    \"format\": \"json\",\n",
    "    \"formatversion\": 2,\n",
    "    \"srsearch\": \"incategory:Wikipedia:Exzellent\",\n",
    "    \"list\": \"search\",\n",
    "    \"sroffset\": 0\n",
    "}\n",
    "\n",
    "response = S.get(url = URL, params = params_pageid)\n",
    "data = response.json()\n",
    "\n",
    "# get ids from excellent articles\n",
    "ids = []\n",
    "\n",
    "for entry in data[\"query\"][\"search\"]:\n",
    "    ids.append(entry[\"pageid\"])\n",
    "\n",
    "while data.get(\"continue\"):\n",
    "    params_pageid.update({\"sroffset\": data[\"continue\"][\"sroffset\"]})\n",
    "    \n",
    "    #print(\"\\n%s\" % (PARAMS))\n",
    "    response = S.get(url = URL, params = params_pageid)\n",
    "    data = response.json()\n",
    "    \n",
    "    for entry in data[\"query\"][\"search\"]:\n",
    "        ids.append(entry[\"pageid\"])\n",
    "\n",
    "print(\"Anzahl gesammelter Exzellenter Artikel: %s\" %(len(ids)))\n",
    "```"
   ]
  },
  {
   "cell_type": "code",
   "execution_count": 4,
   "id": "64a18755",
   "metadata": {},
   "outputs": [],
   "source": [
    "def get_pages_by_id(id):\n",
    "    request_params = params_content.copy()\n",
    "    request_params.update({\"pageids\": id})\n",
    "    response = S.get(url = URL, params = request_params)\n",
    "    page = response.json()\n",
    "    content.update({id: page[\"query\"][\"pages\"][0][\"extract\"]})\n",
    "    if len(content) % 10 == 0:\n",
    "        update_progress(len(content) / len(ids))"
   ]
  },
  {
   "cell_type": "code",
   "execution_count": 5,
   "id": "c5396f99",
   "metadata": {},
   "outputs": [],
   "source": [
    "# Source: https://stackoverflow.com/questions/4452102/how-to-get-plain-text-out-of-wikipedia\n",
    "# Source: https://www.mediawiki.org/wiki/API:Parsing_wikitext\n",
    "params_content = {\n",
    "    \"action\": \"query\",\n",
    "    \"prop\": \"extracts\",\n",
    "    \"format\": \"json\",\n",
    "    \"formatversion\": 2,\n",
    "    \"pageids\": 0,\n",
    "    \"explaintext\": True\n",
    "}"
   ]
  },
  {
   "cell_type": "markdown",
   "id": "f515e1e7",
   "metadata": {},
   "source": [
    "```python\n",
    "content = {}\n",
    "start = time.time()\n",
    "with concurrent.futures.ThreadPoolExecutor() as executor:\n",
    "    executor.map(get_pages_by_id, ids)\n",
    "\n",
    "end = time.time()\n",
    "dur = end - start\n",
    "print(\"DUR: %s\" % (dur))\n",
    "```"
   ]
  },
  {
   "cell_type": "code",
   "execution_count": 7,
   "id": "04898c24",
   "metadata": {},
   "outputs": [],
   "source": [
    "#len(content)"
   ]
  },
  {
   "cell_type": "markdown",
   "id": "8fd145a7",
   "metadata": {},
   "source": [
    "```python\n",
    "# save requested data (wikipage content) in df\n",
    "df = pd.DataFrame(content.items())\n",
    "df = df.rename({0: \"pageid\", 1:\"content\"}, axis = 1)\n",
    "```"
   ]
  },
  {
   "cell_type": "markdown",
   "id": "208c6882",
   "metadata": {},
   "source": [
    "```python\n",
    "# save data to csv for faster loading\n",
    "# TODO: Den Dateinamen dynamisch anpassen\n",
    "# --> Die Zahl vorne dynamisch durch die Anzahl an Seiten in content ersetzten\n",
    "df.to_csv(\"./2783_excellent_article_extract.csv\")\n",
    "```"
   ]
  },
  {
   "cell_type": "markdown",
   "id": "4ff8d51a",
   "metadata": {},
   "source": [
    "TODO: Einige Statistiken der Daten aufzeigen (Wie viele Artikel?, Wie lang sind die Artikel (im Durchschnitt)?, Duplikate, etc.)"
   ]
  },
  {
   "cell_type": "markdown",
   "id": "201dce61",
   "metadata": {},
   "source": [
    "Die angefragten Daten können auch vom filesystem geladen werden"
   ]
  },
  {
   "cell_type": "code",
   "execution_count": 8,
   "id": "585c20f6",
   "metadata": {},
   "outputs": [],
   "source": [
    "# load data from file\n",
    "data = pd.read_csv(\"./2783_excellent_article_extract.csv\")\n",
    "\n",
    "data = data[[\"pageid\", \"content\"]]"
   ]
  },
  {
   "cell_type": "code",
   "execution_count": 9,
   "id": "b201ade1",
   "metadata": {},
   "outputs": [
    {
     "data": {
      "text/html": [
       "<div>\n",
       "<style scoped>\n",
       "    .dataframe tbody tr th:only-of-type {\n",
       "        vertical-align: middle;\n",
       "    }\n",
       "\n",
       "    .dataframe tbody tr th {\n",
       "        vertical-align: top;\n",
       "    }\n",
       "\n",
       "    .dataframe thead th {\n",
       "        text-align: right;\n",
       "    }\n",
       "</style>\n",
       "<table border=\"1\" class=\"dataframe\">\n",
       "  <thead>\n",
       "    <tr style=\"text-align: right;\">\n",
       "      <th></th>\n",
       "      <th>pageid</th>\n",
       "      <th>content</th>\n",
       "    </tr>\n",
       "  </thead>\n",
       "  <tbody>\n",
       "    <tr>\n",
       "      <th>0</th>\n",
       "      <td>2677</td>\n",
       "      <td>Kanada (englisch und französisch Canada) ist e...</td>\n",
       "    </tr>\n",
       "    <tr>\n",
       "      <th>1</th>\n",
       "      <td>490244</td>\n",
       "      <td>In der Philosophie (altgriechisch φιλοσοφία ph...</td>\n",
       "    </tr>\n",
       "    <tr>\n",
       "      <th>2</th>\n",
       "      <td>3221050</td>\n",
       "      <td>Moskau (russisch Москва́ [mɐskˈva] , Moskwa) i...</td>\n",
       "    </tr>\n",
       "    <tr>\n",
       "      <th>3</th>\n",
       "      <td>16565</td>\n",
       "      <td>Frankfurt am Main () ist mit 759.224 Einwohner...</td>\n",
       "    </tr>\n",
       "    <tr>\n",
       "      <th>4</th>\n",
       "      <td>1200964</td>\n",
       "      <td>Australien (amtlicher deutscher Name; englisch...</td>\n",
       "    </tr>\n",
       "    <tr>\n",
       "      <th>5</th>\n",
       "      <td>880316</td>\n",
       "      <td>Finnland (finnisch  [ˈsuɔmi], schwedisch Finla...</td>\n",
       "    </tr>\n",
       "    <tr>\n",
       "      <th>6</th>\n",
       "      <td>1428</td>\n",
       "      <td>Eine Enzyklopädie (), früher auch aus dem Fran...</td>\n",
       "    </tr>\n",
       "    <tr>\n",
       "      <th>7</th>\n",
       "      <td>290</td>\n",
       "      <td>Argentinien (spanisch  [aɾxenˈtina]) ist eine ...</td>\n",
       "    </tr>\n",
       "    <tr>\n",
       "      <th>8</th>\n",
       "      <td>29938</td>\n",
       "      <td>Die Republik Südafrika (RSA) ist ein Staat im ...</td>\n",
       "    </tr>\n",
       "    <tr>\n",
       "      <th>9</th>\n",
       "      <td>2391</td>\n",
       "      <td>Indien [ˈɪndi̯ən] (Eigennamen unter anderem Hi...</td>\n",
       "    </tr>\n",
       "    <tr>\n",
       "      <th>10</th>\n",
       "      <td>2996</td>\n",
       "      <td>Leipzig ([ˈlaɪ̯pt͡sɪç]; im sächsischen Dialekt...</td>\n",
       "    </tr>\n",
       "    <tr>\n",
       "      <th>11</th>\n",
       "      <td>1084</td>\n",
       "      <td>Dresden (; obersorbisch Drježdźany; abgeleitet...</td>\n",
       "    </tr>\n",
       "    <tr>\n",
       "      <th>12</th>\n",
       "      <td>18559</td>\n",
       "      <td>Die japanische Schrift besteht aus mehreren Sc...</td>\n",
       "    </tr>\n",
       "    <tr>\n",
       "      <th>13</th>\n",
       "      <td>27231</td>\n",
       "      <td>Das Blatt ist neben der Sprossachse und der Wu...</td>\n",
       "    </tr>\n",
       "    <tr>\n",
       "      <th>14</th>\n",
       "      <td>11281</td>\n",
       "      <td>Die Blüte einer Pflanze ist ein nach Eintritt ...</td>\n",
       "    </tr>\n",
       "  </tbody>\n",
       "</table>\n",
       "</div>"
      ],
      "text/plain": [
       "     pageid                                            content\n",
       "0      2677  Kanada (englisch und französisch Canada) ist e...\n",
       "1    490244  In der Philosophie (altgriechisch φιλοσοφία ph...\n",
       "2   3221050  Moskau (russisch Москва́ [mɐskˈva] , Moskwa) i...\n",
       "3     16565  Frankfurt am Main () ist mit 759.224 Einwohner...\n",
       "4   1200964  Australien (amtlicher deutscher Name; englisch...\n",
       "5    880316  Finnland (finnisch  [ˈsuɔmi], schwedisch Finla...\n",
       "6      1428  Eine Enzyklopädie (), früher auch aus dem Fran...\n",
       "7       290  Argentinien (spanisch  [aɾxenˈtina]) ist eine ...\n",
       "8     29938  Die Republik Südafrika (RSA) ist ein Staat im ...\n",
       "9      2391  Indien [ˈɪndi̯ən] (Eigennamen unter anderem Hi...\n",
       "10     2996  Leipzig ([ˈlaɪ̯pt͡sɪç]; im sächsischen Dialekt...\n",
       "11     1084  Dresden (; obersorbisch Drježdźany; abgeleitet...\n",
       "12    18559  Die japanische Schrift besteht aus mehreren Sc...\n",
       "13    27231  Das Blatt ist neben der Sprossachse und der Wu...\n",
       "14    11281  Die Blüte einer Pflanze ist ein nach Eintritt ..."
      ]
     },
     "execution_count": 9,
     "metadata": {},
     "output_type": "execute_result"
    }
   ],
   "source": [
    "data.head(15)"
   ]
  },
  {
   "cell_type": "markdown",
   "id": "7a23cbaf",
   "metadata": {},
   "source": [
    "## preprocess data"
   ]
  },
  {
   "cell_type": "code",
   "execution_count": 10,
   "id": "760f12be",
   "metadata": {},
   "outputs": [],
   "source": [
    "def preprocess_data(text, idx):\n",
    "    text = re.sub(r\"\\n\", \"\", text)\n",
    "    #t = re.sub(r\"\\{{2}.*?\\}{2}\", \"\", t)\n",
    "    #t = re.sub(r\"\\}{2}\", \"\", t)\n",
    "    #t = re.sub(r\"\\[\\[[0-9A-Za-z\\s()]*?\\|\", \"\", t)\n",
    "    #t = re.sub(r\"\\[\\[\", \"\", t)\n",
    "    #t = re.sub(r\"\\]\\]\", \"\", t)\n",
    "    #t = re.sub(r\"\\[.*?\\]\", \"\", t)\n",
    "    #t = re.sub(r\"<ref.*?/ref>\", \"\", t)\n",
    "    #t = re.sub(r\"<.*?>\", \"\", t)\n",
    "    #t = re.sub(r\"\\|\", \" \", t)\n",
    "    #t = re.sub(r\"\\'\", \"\", t)\n",
    "\n",
    "    # source: url_extract_pattern from https://uibakery.io/regex-library/url-regex-python\n",
    "    #url_extract_pattern = \"https?:\\\\/\\\\/(?:www\\\\.)?[-a-zA-Z0-9@:%._\\\\+~#=]{1,256}\\\\.[a-zA-Z0-9()]{1,6}\\\\b(?:[-a-zA-Z0-9()@:%_\\\\+.~#?&\\\\/=]*)\"\n",
    "    #t = re.sub(url_extract_pattern, '', t)\n",
    "\n",
    "    text = re.sub(r\"\\(=.*?\\)\", \"\", text)\n",
    "    text = re.sub(r\"--+\", \"\", text)\n",
    "    text = re.sub(r\"==.*?==\", \"\", text)\n",
    "    #t = re.sub(r\"==+\", \"\", t)\n",
    "    #t = re.sub(r\"\\&nbsp;\", \"\", t)\n",
    "    # Dateinamen\n",
    "    #t = re.sub(r\"[^ ]*\\..{4}|[^ ]*\\..{3}\", \"\", t)\n",
    "\n",
    "    #source: https://stackoverflow.com/questions/2077897/substitute-multiple-whitespace-with-single-whitespace-in-python\n",
    "    _RE_COMBINE_WHITESPACE = re.compile(r\"\\s+\")\n",
    "    text = _RE_COMBINE_WHITESPACE.sub(\" \", text).strip()\n",
    "    \n",
    "    preprocessed_content.update({idx: text})\n",
    "    \n",
    "    if len(preprocessed_content) % 10 == 0:\n",
    "        update_progress(len(preprocessed_content) / len(ids))"
   ]
  },
  {
   "cell_type": "code",
   "execution_count": 11,
   "id": "58db5efc",
   "metadata": {},
   "outputs": [
    {
     "name": "stdout",
     "output_type": "stream",
     "text": [
      "DUR: 5.79799222946167\n"
     ]
    }
   ],
   "source": [
    "preprocessed_content = {}\n",
    "start = time.time()\n",
    "with concurrent.futures.ThreadPoolExecutor() as executor:\n",
    "    executor.map(preprocess_data, data[\"content\"], data[\"pageid\"])\n",
    "\n",
    "end = time.time()\n",
    "dur = end - start\n",
    "print(\"DUR: %s\" % (dur))"
   ]
  },
  {
   "cell_type": "code",
   "execution_count": 12,
   "id": "122ce502",
   "metadata": {},
   "outputs": [
    {
     "data": {
      "text/plain": [
       "2796"
      ]
     },
     "execution_count": 12,
     "metadata": {},
     "output_type": "execute_result"
    }
   ],
   "source": [
    "len(preprocessed_content)"
   ]
  },
  {
   "cell_type": "code",
   "execution_count": 13,
   "id": "9437cf20",
   "metadata": {},
   "outputs": [
    {
     "data": {
      "text/html": [
       "<div>\n",
       "<style scoped>\n",
       "    .dataframe tbody tr th:only-of-type {\n",
       "        vertical-align: middle;\n",
       "    }\n",
       "\n",
       "    .dataframe tbody tr th {\n",
       "        vertical-align: top;\n",
       "    }\n",
       "\n",
       "    .dataframe thead th {\n",
       "        text-align: right;\n",
       "    }\n",
       "</style>\n",
       "<table border=\"1\" class=\"dataframe\">\n",
       "  <thead>\n",
       "    <tr style=\"text-align: right;\">\n",
       "      <th></th>\n",
       "      <th>pageid</th>\n",
       "      <th>content</th>\n",
       "    </tr>\n",
       "  </thead>\n",
       "  <tbody>\n",
       "    <tr>\n",
       "      <th>0</th>\n",
       "      <td>2677</td>\n",
       "      <td>Kanada (englisch und französisch Canada) ist e...</td>\n",
       "    </tr>\n",
       "    <tr>\n",
       "      <th>1</th>\n",
       "      <td>490244</td>\n",
       "      <td>In der Philosophie (altgriechisch φιλοσοφία ph...</td>\n",
       "    </tr>\n",
       "    <tr>\n",
       "      <th>2</th>\n",
       "      <td>3221050</td>\n",
       "      <td>Moskau (russisch Москва́ [mɐskˈva] , Moskwa) i...</td>\n",
       "    </tr>\n",
       "    <tr>\n",
       "      <th>3</th>\n",
       "      <td>1200964</td>\n",
       "      <td>Australien (amtlicher deutscher Name; englisch...</td>\n",
       "    </tr>\n",
       "    <tr>\n",
       "      <th>4</th>\n",
       "      <td>16565</td>\n",
       "      <td>Frankfurt am Main () ist mit 759.224 Einwohner...</td>\n",
       "    </tr>\n",
       "  </tbody>\n",
       "</table>\n",
       "</div>"
      ],
      "text/plain": [
       "    pageid                                            content\n",
       "0     2677  Kanada (englisch und französisch Canada) ist e...\n",
       "1   490244  In der Philosophie (altgriechisch φιλοσοφία ph...\n",
       "2  3221050  Moskau (russisch Москва́ [mɐskˈva] , Moskwa) i...\n",
       "3  1200964  Australien (amtlicher deutscher Name; englisch...\n",
       "4    16565  Frankfurt am Main () ist mit 759.224 Einwohner..."
      ]
     },
     "execution_count": 13,
     "metadata": {},
     "output_type": "execute_result"
    }
   ],
   "source": [
    "preprocessed_df = pd.DataFrame(preprocessed_content.items())\n",
    "preprocessed_df = preprocessed_df.rename({0: \"pageid\", 1:\"content\"}, axis = 1)\n",
    "\n",
    "preprocessed_df.head()"
   ]
  },
  {
   "cell_type": "code",
   "execution_count": 14,
   "id": "2d0b2f32",
   "metadata": {},
   "outputs": [],
   "source": [
    "# save preproessed wiki pages to filesystem\n",
    "preprocessed_df.to_csv(\"./data/preprocessed_wiki_pages.csv\")"
   ]
  },
  {
   "cell_type": "markdown",
   "id": "c087cf09",
   "metadata": {},
   "source": [
    "backup\n",
    "```python\n",
    "#!python3 -m spacy download de_core_news_md\n",
    "nlp = spacy.load('de_core_news_md')\n",
    "```"
   ]
  },
  {
   "cell_type": "markdown",
   "id": "7794f406",
   "metadata": {},
   "source": [
    "```python\n",
    "t_word_list = t.split(\" \")\n",
    "\n",
    "# lemmatization\n",
    "text_lemma = []\n",
    "\n",
    "for ix, word in enumerate(t_word_list):\n",
    "    doc = nlp(word)\n",
    "    result = ' '.join([x.lemma_ for x in doc]) \n",
    "    text_lemma.append(result)\n",
    "\n",
    "lemma_word_list = [gensim.utils.simple_preprocess(word, deacc = True) for word in text_lemma]\n",
    "\n",
    "# remove stopwords\n",
    "# source: https://stackoverflow.com/questions/5486337/how-to-remove-stop-words-using-nltk-or-python\n",
    "#final = [word for word in lemma_word_list if word not in german_stopwords]\n",
    "\n",
    "final = []\n",
    "for word in lemma_word_list:\n",
    "    if len(word) > 0 and word[0] not in german_stopwords:\n",
    "        final.append(word[0])\n",
    "\n",
    "text_without_stopwords = \" \".join(final)\n",
    "```"
   ]
  },
  {
   "cell_type": "markdown",
   "id": "80c7f01d",
   "metadata": {},
   "source": [
    "## extract keywords"
   ]
  },
  {
   "cell_type": "code",
   "execution_count": 15,
   "id": "51e1e296",
   "metadata": {},
   "outputs": [],
   "source": [
    "preprocessed_df = pd.read_csv(\"./data/preprocessed_wiki_pages.csv\")\n",
    "preprocessed_df = preprocessed_df[[\"pageid\", \"content\"]]"
   ]
  },
  {
   "cell_type": "code",
   "execution_count": 16,
   "id": "7a1088fe",
   "metadata": {},
   "outputs": [
    {
     "data": {
      "text/html": [
       "<div>\n",
       "<style scoped>\n",
       "    .dataframe tbody tr th:only-of-type {\n",
       "        vertical-align: middle;\n",
       "    }\n",
       "\n",
       "    .dataframe tbody tr th {\n",
       "        vertical-align: top;\n",
       "    }\n",
       "\n",
       "    .dataframe thead th {\n",
       "        text-align: right;\n",
       "    }\n",
       "</style>\n",
       "<table border=\"1\" class=\"dataframe\">\n",
       "  <thead>\n",
       "    <tr style=\"text-align: right;\">\n",
       "      <th></th>\n",
       "      <th>pageid</th>\n",
       "      <th>content</th>\n",
       "    </tr>\n",
       "  </thead>\n",
       "  <tbody>\n",
       "    <tr>\n",
       "      <th>0</th>\n",
       "      <td>2677</td>\n",
       "      <td>Kanada (englisch und französisch Canada) ist e...</td>\n",
       "    </tr>\n",
       "    <tr>\n",
       "      <th>1</th>\n",
       "      <td>490244</td>\n",
       "      <td>In der Philosophie (altgriechisch φιλοσοφία ph...</td>\n",
       "    </tr>\n",
       "    <tr>\n",
       "      <th>2</th>\n",
       "      <td>3221050</td>\n",
       "      <td>Moskau (russisch Москва́ [mɐskˈva] , Moskwa) i...</td>\n",
       "    </tr>\n",
       "    <tr>\n",
       "      <th>3</th>\n",
       "      <td>1200964</td>\n",
       "      <td>Australien (amtlicher deutscher Name; englisch...</td>\n",
       "    </tr>\n",
       "    <tr>\n",
       "      <th>4</th>\n",
       "      <td>16565</td>\n",
       "      <td>Frankfurt am Main () ist mit 759.224 Einwohner...</td>\n",
       "    </tr>\n",
       "  </tbody>\n",
       "</table>\n",
       "</div>"
      ],
      "text/plain": [
       "    pageid                                            content\n",
       "0     2677  Kanada (englisch und französisch Canada) ist e...\n",
       "1   490244  In der Philosophie (altgriechisch φιλοσοφία ph...\n",
       "2  3221050  Moskau (russisch Москва́ [mɐskˈva] , Moskwa) i...\n",
       "3  1200964  Australien (amtlicher deutscher Name; englisch...\n",
       "4    16565  Frankfurt am Main () ist mit 759.224 Einwohner..."
      ]
     },
     "execution_count": 16,
     "metadata": {},
     "output_type": "execute_result"
    }
   ],
   "source": [
    "preprocessed_df.head()"
   ]
  },
  {
   "cell_type": "markdown",
   "id": "35c58a21",
   "metadata": {},
   "source": [
    "### YAKE\n",
    "\n",
    "using yakes keyword extractor  \n",
    "(https://liaad.github.io/yake/)\n",
    "\n",
    "yake hat eine eigene stopwords liste (https://github.com/LIAAD/yake/blob/master/yake/StopwordsList/stopwords_de.txt)  \n",
    "--> Keine weitere Stopwords suche benötigt\n",
    "\n",
    "YAKE ist sehr schnell (und leichter) Ansatz (https://towardsdatascience.com/unsupervised-keyphrase-extraction-with-patternrank-28ec3ca737f0)\n",
    "\n",
    "Lemma wird auch nicht benötigt, weil Yake ohne entsprechend trainiert wurde  \n",
    "\n",
    "Je geringer der Wahrscheinlichkeitswert, desto relevanter das Keyword (https://liaad.github.io/yake/docs/getting_started.html#output)"
   ]
  },
  {
   "cell_type": "code",
   "execution_count": 17,
   "id": "9290ba32",
   "metadata": {},
   "outputs": [],
   "source": [
    "#german_stopwords = stopwords.words(\"german\")\n",
    "german_stopwords = pd.read_csv(\"./yake_de-stopwords.csv\")\n",
    "german_stopwords = list(german_stopwords[\"stopwords\"])"
   ]
  },
  {
   "cell_type": "markdown",
   "id": "c481aac1",
   "metadata": {},
   "source": [
    "```python\n",
    "language = \"de\"\n",
    "max_ngram_size = 20\n",
    "deduplication_threshold = 0.9\n",
    "numOfKeywords = 10\n",
    "custom_keyword_extractor = yake.KeywordExtractor(\n",
    "    lan = language, \n",
    "    n = max_ngram_size, \n",
    "    dedupLim = deduplication_threshold, \n",
    "    top = numOfKeywords, \n",
    "    features = None\n",
    ")\n",
    "```"
   ]
  },
  {
   "cell_type": "code",
   "execution_count": 18,
   "id": "754df521",
   "metadata": {},
   "outputs": [],
   "source": [
    "kw_extractor = yake.KeywordExtractor(\n",
    "    lan = \"de\",\n",
    "    dedupLim = 0.99,\n",
    "    top = 10,\n",
    "    dedupFunc = \"seqm\", # default: seqm, alternative: jaro\n",
    "    n = 2,\n",
    "    windowsSize = 1\n",
    ")"
   ]
  },
  {
   "cell_type": "markdown",
   "id": "28eddd22",
   "metadata": {},
   "source": [
    "keyword extraction for the first 10 pages\n",
    "\n",
    "```python\n",
    "start = time.time()\n",
    "for wiki_page in preprocessed_df[\"content\"][:5]:\n",
    "    keywords = kw_extractor.extract_keywords(wiki_page)\n",
    "    prop = 0\n",
    "\n",
    "    for kw in keywords:\n",
    "    #    if kw[0] not in german_stopwords:\n",
    "        print(kw)\n",
    "        prop += kw[1]\n",
    "            \n",
    "    print(\"MEAN: %s\" % (np.mean(prop)))\n",
    "    print(\"#\" * 30 + \"\\n\")\n",
    "end = time.time()\n",
    "\n",
    "print(\"DUR: %s\" % (end - start))\n",
    "```"
   ]
  },
  {
   "cell_type": "code",
   "execution_count": 19,
   "id": "e5f8f9e5",
   "metadata": {},
   "outputs": [
    {
     "name": "stdout",
     "output_type": "stream",
     "text": [
      "Progress: [##################################################] 100.0%\n",
      "DUR: 809.5952770709991\n"
     ]
    }
   ],
   "source": [
    "wikipage_keywords = {}\n",
    "start = time.time()\n",
    "\n",
    "for wiki_page, idx in zip(preprocessed_df[\"content\"], preprocessed_df[\"pageid\"]):\n",
    "    keywords = kw_extractor.extract_keywords(wiki_page)\n",
    "    wikipage_keywords.update({idx: keywords})\n",
    "    \n",
    "    update_progress(len(wikipage_keywords) / preprocessed_df.shape[0])\n",
    "    \n",
    "end = time.time()\n",
    "\n",
    "print(\"DUR: %s\" % (end - start))"
   ]
  },
  {
   "cell_type": "markdown",
   "id": "7eb18242",
   "metadata": {},
   "source": [
    "BACKUP\n",
    "```python\n",
    "def extract_keywords(text, idx):\n",
    "    keywords = []\n",
    "    kw_extractor = yake.KeywordExtractor(\n",
    "        lan = \"de\",\n",
    "        dedupLim = 0.99,\n",
    "        top = 10,\n",
    "        dedupFunc = \"seqm\", # default: seqm, alternative: jaro\n",
    "        n = 2,\n",
    "        windowsSize = 1\n",
    "    )\n",
    "    \n",
    "    extracted_keywords = kw_extractor.extract_keywords(text)\n",
    "    wikipage_keywords.update({idx: extracted_keywords})\n",
    "    #if len(wikipage_keywords) % 10 == 0:\n",
    "    update_progress(len(wikipage_keywords) / len(ids))\n",
    "\n",
    "    \n",
    "wikipage_keywords = {}\n",
    "start = time.time()\n",
    "with concurrent.futures.ThreadPoolExecutor() as executor:\n",
    "    executor.map(extract_keywords, preprocessed_df[\"content\"], preprocessed_df[\"pageid\"])\n",
    "\n",
    "end = time.time()\n",
    "dur = end - start\n",
    "print(\"DUR: %s\" % (dur))\n",
    "```"
   ]
  },
  {
   "cell_type": "code",
   "execution_count": 20,
   "id": "9564e2cb",
   "metadata": {},
   "outputs": [
    {
     "data": {
      "text/plain": [
       "2796"
      ]
     },
     "execution_count": 20,
     "metadata": {},
     "output_type": "execute_result"
    }
   ],
   "source": [
    "len(wikipage_keywords)"
   ]
  },
  {
   "cell_type": "code",
   "execution_count": 21,
   "id": "dda8153d",
   "metadata": {},
   "outputs": [],
   "source": [
    "keywords_df = pd.DataFrame(wikipage_keywords.items())\n",
    "keywords_df = keywords_df.rename({0: \"pageid\", 1:\"keywords\"}, axis = 1)"
   ]
  },
  {
   "cell_type": "code",
   "execution_count": 22,
   "id": "9fec8976",
   "metadata": {},
   "outputs": [
    {
     "data": {
      "text/html": [
       "<div>\n",
       "<style scoped>\n",
       "    .dataframe tbody tr th:only-of-type {\n",
       "        vertical-align: middle;\n",
       "    }\n",
       "\n",
       "    .dataframe tbody tr th {\n",
       "        vertical-align: top;\n",
       "    }\n",
       "\n",
       "    .dataframe thead th {\n",
       "        text-align: right;\n",
       "    }\n",
       "</style>\n",
       "<table border=\"1\" class=\"dataframe\">\n",
       "  <thead>\n",
       "    <tr style=\"text-align: right;\">\n",
       "      <th></th>\n",
       "      <th>pageid</th>\n",
       "      <th>keywords</th>\n",
       "    </tr>\n",
       "  </thead>\n",
       "  <tbody>\n",
       "    <tr>\n",
       "      <th>0</th>\n",
       "      <td>2677</td>\n",
       "      <td>[(Kanada, 0.0005067610926873967), (Kanadas, 0....</td>\n",
       "    </tr>\n",
       "    <tr>\n",
       "      <th>1</th>\n",
       "      <td>490244</td>\n",
       "      <td>[(Philosophie, 0.0002460226827235382), (prakti...</td>\n",
       "    </tr>\n",
       "    <tr>\n",
       "      <th>2</th>\n",
       "      <td>3221050</td>\n",
       "      <td>[(Moskau, 0.00022634304800017076), (Stadt Mosk...</td>\n",
       "    </tr>\n",
       "    <tr>\n",
       "      <th>3</th>\n",
       "      <td>1200964</td>\n",
       "      <td>[(Australien, 0.0006621153549226484), (Austral...</td>\n",
       "    </tr>\n",
       "    <tr>\n",
       "      <th>4</th>\n",
       "      <td>16565</td>\n",
       "      <td>[(Stadt Frankfurt, 2.584346599547873e-05), (Fr...</td>\n",
       "    </tr>\n",
       "  </tbody>\n",
       "</table>\n",
       "</div>"
      ],
      "text/plain": [
       "    pageid                                           keywords\n",
       "0     2677  [(Kanada, 0.0005067610926873967), (Kanadas, 0....\n",
       "1   490244  [(Philosophie, 0.0002460226827235382), (prakti...\n",
       "2  3221050  [(Moskau, 0.00022634304800017076), (Stadt Mosk...\n",
       "3  1200964  [(Australien, 0.0006621153549226484), (Austral...\n",
       "4    16565  [(Stadt Frankfurt, 2.584346599547873e-05), (Fr..."
      ]
     },
     "execution_count": 22,
     "metadata": {},
     "output_type": "execute_result"
    }
   ],
   "source": [
    "keywords_df.head()"
   ]
  },
  {
   "cell_type": "code",
   "execution_count": null,
   "id": "78cf5e13",
   "metadata": {},
   "outputs": [],
   "source": [
    "# save keywords with coresponding page id\n",
    "keywords_df.to_csv(\"./data/wikipage_keywords.csv\")"
   ]
  },
  {
   "cell_type": "markdown",
   "id": "2c2df465",
   "metadata": {},
   "source": [
    "#### results"
   ]
  },
  {
   "cell_type": "code",
   "execution_count": 23,
   "id": "5f0afd18",
   "metadata": {},
   "outputs": [],
   "source": [
    "# join wikipages with (predicted) keywords on pageid\n",
    "results = pd.concat(\n",
    "    [preprocessed_df.set_index(\"pageid\"), keywords_df.set_index(\"pageid\")], axis = 1, join = \"inner\"\n",
    ").reset_index()"
   ]
  },
  {
   "cell_type": "code",
   "execution_count": 24,
   "id": "249de77c",
   "metadata": {},
   "outputs": [
    {
     "data": {
      "text/html": [
       "<div>\n",
       "<style scoped>\n",
       "    .dataframe tbody tr th:only-of-type {\n",
       "        vertical-align: middle;\n",
       "    }\n",
       "\n",
       "    .dataframe tbody tr th {\n",
       "        vertical-align: top;\n",
       "    }\n",
       "\n",
       "    .dataframe thead th {\n",
       "        text-align: right;\n",
       "    }\n",
       "</style>\n",
       "<table border=\"1\" class=\"dataframe\">\n",
       "  <thead>\n",
       "    <tr style=\"text-align: right;\">\n",
       "      <th></th>\n",
       "      <th>pageid</th>\n",
       "      <th>content</th>\n",
       "      <th>keywords</th>\n",
       "    </tr>\n",
       "  </thead>\n",
       "  <tbody>\n",
       "    <tr>\n",
       "      <th>0</th>\n",
       "      <td>2677</td>\n",
       "      <td>Kanada (englisch und französisch Canada) ist e...</td>\n",
       "      <td>[(Kanada, 0.0005067610926873967), (Kanadas, 0....</td>\n",
       "    </tr>\n",
       "    <tr>\n",
       "      <th>1</th>\n",
       "      <td>490244</td>\n",
       "      <td>In der Philosophie (altgriechisch φιλοσοφία ph...</td>\n",
       "      <td>[(Philosophie, 0.0002460226827235382), (prakti...</td>\n",
       "    </tr>\n",
       "    <tr>\n",
       "      <th>2</th>\n",
       "      <td>3221050</td>\n",
       "      <td>Moskau (russisch Москва́ [mɐskˈva] , Moskwa) i...</td>\n",
       "      <td>[(Moskau, 0.00022634304800017076), (Stadt Mosk...</td>\n",
       "    </tr>\n",
       "    <tr>\n",
       "      <th>3</th>\n",
       "      <td>1200964</td>\n",
       "      <td>Australien (amtlicher deutscher Name; englisch...</td>\n",
       "      <td>[(Australien, 0.0006621153549226484), (Austral...</td>\n",
       "    </tr>\n",
       "    <tr>\n",
       "      <th>4</th>\n",
       "      <td>16565</td>\n",
       "      <td>Frankfurt am Main () ist mit 759.224 Einwohner...</td>\n",
       "      <td>[(Stadt Frankfurt, 2.584346599547873e-05), (Fr...</td>\n",
       "    </tr>\n",
       "  </tbody>\n",
       "</table>\n",
       "</div>"
      ],
      "text/plain": [
       "    pageid                                            content  \\\n",
       "0     2677  Kanada (englisch und französisch Canada) ist e...   \n",
       "1   490244  In der Philosophie (altgriechisch φιλοσοφία ph...   \n",
       "2  3221050  Moskau (russisch Москва́ [mɐskˈva] , Moskwa) i...   \n",
       "3  1200964  Australien (amtlicher deutscher Name; englisch...   \n",
       "4    16565  Frankfurt am Main () ist mit 759.224 Einwohner...   \n",
       "\n",
       "                                            keywords  \n",
       "0  [(Kanada, 0.0005067610926873967), (Kanadas, 0....  \n",
       "1  [(Philosophie, 0.0002460226827235382), (prakti...  \n",
       "2  [(Moskau, 0.00022634304800017076), (Stadt Mosk...  \n",
       "3  [(Australien, 0.0006621153549226484), (Austral...  \n",
       "4  [(Stadt Frankfurt, 2.584346599547873e-05), (Fr...  "
      ]
     },
     "execution_count": 24,
     "metadata": {},
     "output_type": "execute_result"
    }
   ],
   "source": [
    "results.head()"
   ]
  },
  {
   "cell_type": "markdown",
   "id": "2d87ea53",
   "metadata": {},
   "source": [
    "## evaluation"
   ]
  },
  {
   "cell_type": "code",
   "execution_count": 102,
   "id": "d9a8173d",
   "metadata": {},
   "outputs": [
    {
     "name": "stdout",
     "output_type": "stream",
     "text": [
      "Progress: [##################################################] 100.0%\n",
      "DUR: 96.678386926651\n"
     ]
    }
   ],
   "source": [
    "counter_keywords = {}\n",
    "start = time.time()\n",
    "for idx, content, keywords in zip(results[\"pageid\"], results[\"content\"], results[\"keywords\"]):\n",
    "    counter = {}\n",
    "    text = content.lower()\n",
    "    text = text.translate(str.maketrans('', '', string.punctuation))\n",
    "    text = text.split(\" \")\n",
    "    \n",
    "    for word in text:\n",
    "        if word not in german_stopwords and len(word) != 0:\n",
    "            if word in counter.keys():\n",
    "                counter.update({word: counter.get(word) + 1})\n",
    "            else:\n",
    "                counter.update({word: 1})\n",
    "    \n",
    "    sorted_counter = dict(sorted(counter.items(), key = lambda item: item[1], reverse = True))\n",
    "    \n",
    "    #prop = {}\n",
    "    base = list(sorted_counter.items())[0][1]\n",
    "    base = base * 1.05 # TODO: explain why \"* 1.05\" (5% addition to max occurance of most occuring word)\n",
    "    counts = []\n",
    "    for key, val in sorted_counter.items():\n",
    "        #prop.update({key: {\"count\": val, \"prop\": (1 - (val / base)) / 100}})\n",
    "        counts.append((key, (1 - (val / base)) / 100))\n",
    "    \n",
    "    counter_keywords.update({idx: counts})\n",
    "    \n",
    "    update_progress(len(counter_keywords) / results.shape[0])\n",
    "    \n",
    "end = time.time()\n",
    "dur = end - start\n",
    "print(\"DUR: %s\" % (dur))"
   ]
  },
  {
   "cell_type": "code",
   "execution_count": 104,
   "id": "5f0eaa04",
   "metadata": {},
   "outputs": [
    {
     "data": {
      "text/html": [
       "<div>\n",
       "<style scoped>\n",
       "    .dataframe tbody tr th:only-of-type {\n",
       "        vertical-align: middle;\n",
       "    }\n",
       "\n",
       "    .dataframe tbody tr th {\n",
       "        vertical-align: top;\n",
       "    }\n",
       "\n",
       "    .dataframe thead th {\n",
       "        text-align: right;\n",
       "    }\n",
       "</style>\n",
       "<table border=\"1\" class=\"dataframe\">\n",
       "  <thead>\n",
       "    <tr style=\"text-align: right;\">\n",
       "      <th></th>\n",
       "      <th>pageid</th>\n",
       "      <th>counter_keywords</th>\n",
       "    </tr>\n",
       "  </thead>\n",
       "  <tbody>\n",
       "    <tr>\n",
       "      <th>0</th>\n",
       "      <td>2677</td>\n",
       "      <td>[(kanada, 0.00047619047619047673), (québec, 0....</td>\n",
       "    </tr>\n",
       "    <tr>\n",
       "      <th>1</th>\n",
       "      <td>490244</td>\n",
       "      <td>[(philosophie, 0.00047619047619047673), (–, 0....</td>\n",
       "    </tr>\n",
       "    <tr>\n",
       "      <th>2</th>\n",
       "      <td>3221050</td>\n",
       "      <td>[(moskau, 0.00047619047619047673), (stadt, 0.0...</td>\n",
       "    </tr>\n",
       "    <tr>\n",
       "      <th>3</th>\n",
       "      <td>1200964</td>\n",
       "      <td>[(australien, 0.00047619047619047673), (austra...</td>\n",
       "    </tr>\n",
       "    <tr>\n",
       "      <th>4</th>\n",
       "      <td>16565</td>\n",
       "      <td>[(frankfurt, 0.00047619047619047673), (stadt, ...</td>\n",
       "    </tr>\n",
       "    <tr>\n",
       "      <th>5</th>\n",
       "      <td>880316</td>\n",
       "      <td>[(finnland, 0.00047619047619047673), (finnland...</td>\n",
       "    </tr>\n",
       "    <tr>\n",
       "      <th>6</th>\n",
       "      <td>290</td>\n",
       "      <td>[(argentinien, 0.00047619047619047673), (de, 0...</td>\n",
       "    </tr>\n",
       "    <tr>\n",
       "      <th>7</th>\n",
       "      <td>29938</td>\n",
       "      <td>[(südafrika, 0.00047619047619047673), (land, 0...</td>\n",
       "    </tr>\n",
       "    <tr>\n",
       "      <th>8</th>\n",
       "      <td>2391</td>\n",
       "      <td>[(indien, 0.00047619047619047673), (indiens, 0...</td>\n",
       "    </tr>\n",
       "    <tr>\n",
       "      <th>9</th>\n",
       "      <td>1428</td>\n",
       "      <td>[(enzyklopädie, 0.00047619047619047673), (enzy...</td>\n",
       "    </tr>\n",
       "  </tbody>\n",
       "</table>\n",
       "</div>"
      ],
      "text/plain": [
       "    pageid                                   counter_keywords\n",
       "0     2677  [(kanada, 0.00047619047619047673), (québec, 0....\n",
       "1   490244  [(philosophie, 0.00047619047619047673), (–, 0....\n",
       "2  3221050  [(moskau, 0.00047619047619047673), (stadt, 0.0...\n",
       "3  1200964  [(australien, 0.00047619047619047673), (austra...\n",
       "4    16565  [(frankfurt, 0.00047619047619047673), (stadt, ...\n",
       "5   880316  [(finnland, 0.00047619047619047673), (finnland...\n",
       "6      290  [(argentinien, 0.00047619047619047673), (de, 0...\n",
       "7    29938  [(südafrika, 0.00047619047619047673), (land, 0...\n",
       "8     2391  [(indien, 0.00047619047619047673), (indiens, 0...\n",
       "9     1428  [(enzyklopädie, 0.00047619047619047673), (enzy..."
      ]
     },
     "execution_count": 104,
     "metadata": {},
     "output_type": "execute_result"
    }
   ],
   "source": [
    "results_counter = pd.DataFrame(counter_keywords.items())\n",
    "results_counter = results_counter.rename({0: \"pageid\", 1: \"counter_keywords\"}, axis = 1)\n",
    "results_counter.head(10)"
   ]
  },
  {
   "cell_type": "code",
   "execution_count": 107,
   "id": "b8eb4645",
   "metadata": {},
   "outputs": [
    {
     "name": "stdout",
     "output_type": "stream",
     "text": [
      "Progress: [##################################################] 100.0%\n",
      "DUR: 4.271485805511475\n"
     ]
    }
   ],
   "source": [
    "eval = {} \n",
    "start = time.time()\n",
    "for idx, kw_yake, kw_count in zip(results[\"pageid\"], results[\"keywords\"], results_counter[\"counter_keywords\"]):\n",
    "    comparison = {}\n",
    "\n",
    "    for keyword in kw_yake:\n",
    "        comparison.update({\n",
    "            keyword[0].lower(): {\n",
    "                \"yake\": keyword[1],\n",
    "                \"counter\": 1.0\n",
    "            }\n",
    "        })\n",
    "\n",
    "    for keyword in kw_count:\n",
    "        if keyword[0] in comparison.keys():\n",
    "            comparison.update({\n",
    "                keyword[0]: {\n",
    "                    \"yake\": comparison[keyword[0]].get(\"yake\"),\n",
    "                    \"counter\": keyword[1]\n",
    "                }\n",
    "            })\n",
    "            \n",
    "    pred = []\n",
    "    true = []\n",
    "    for key, val in comparison.items():\n",
    "        pred.append(val.get(\"yake\"))\n",
    "        true.append(val.get(\"counter\"))\n",
    "    \n",
    "    mse = mean_squared_error(true, pred)\n",
    "    eval.update({idx: mse})\n",
    "    update_progress(len(eval) / results.shape[0])\n",
    "\n",
    "end = time.time()\n",
    "dur = end - start\n",
    "print(\"DUR: %s\" % (dur))"
   ]
  },
  {
   "cell_type": "code",
   "execution_count": 108,
   "id": "28410c66",
   "metadata": {},
   "outputs": [
    {
     "data": {
      "text/html": [
       "<div>\n",
       "<style scoped>\n",
       "    .dataframe tbody tr th:only-of-type {\n",
       "        vertical-align: middle;\n",
       "    }\n",
       "\n",
       "    .dataframe tbody tr th {\n",
       "        vertical-align: top;\n",
       "    }\n",
       "\n",
       "    .dataframe thead th {\n",
       "        text-align: right;\n",
       "    }\n",
       "</style>\n",
       "<table border=\"1\" class=\"dataframe\">\n",
       "  <thead>\n",
       "    <tr style=\"text-align: right;\">\n",
       "      <th></th>\n",
       "      <th>pageid</th>\n",
       "      <th>MSE</th>\n",
       "    </tr>\n",
       "  </thead>\n",
       "  <tbody>\n",
       "    <tr>\n",
       "      <th>0</th>\n",
       "      <td>2677</td>\n",
       "      <td>0.297487</td>\n",
       "    </tr>\n",
       "    <tr>\n",
       "      <th>1</th>\n",
       "      <td>490244</td>\n",
       "      <td>0.495126</td>\n",
       "    </tr>\n",
       "    <tr>\n",
       "      <th>2</th>\n",
       "      <td>3221050</td>\n",
       "      <td>0.596327</td>\n",
       "    </tr>\n",
       "    <tr>\n",
       "      <th>3</th>\n",
       "      <td>1200964</td>\n",
       "      <td>0.397678</td>\n",
       "    </tr>\n",
       "    <tr>\n",
       "      <th>4</th>\n",
       "      <td>16565</td>\n",
       "      <td>0.498944</td>\n",
       "    </tr>\n",
       "  </tbody>\n",
       "</table>\n",
       "</div>"
      ],
      "text/plain": [
       "    pageid       MSE\n",
       "0     2677  0.297487\n",
       "1   490244  0.495126\n",
       "2  3221050  0.596327\n",
       "3  1200964  0.397678\n",
       "4    16565  0.498944"
      ]
     },
     "execution_count": 108,
     "metadata": {},
     "output_type": "execute_result"
    }
   ],
   "source": [
    "eval_df = pd.DataFrame(eval.items())\n",
    "eval_df = eval_df.rename({0: \"pageid\", 1:\"MSE\"}, axis = 1)\n",
    "\n",
    "eval_df.head()"
   ]
  },
  {
   "cell_type": "code",
   "execution_count": 109,
   "id": "e71d74a6",
   "metadata": {},
   "outputs": [],
   "source": [
    "results_eval = pd.concat([\n",
    "    results.set_index(\"pageid\"), \n",
    "    results_counter.set_index(\"pageid\"),\n",
    "    eval_df.set_index(\"pageid\")\n",
    "], axis = 1).reset_index()"
   ]
  },
  {
   "cell_type": "code",
   "execution_count": 110,
   "id": "a5f4bc84",
   "metadata": {},
   "outputs": [
    {
     "data": {
      "text/html": [
       "<div>\n",
       "<style scoped>\n",
       "    .dataframe tbody tr th:only-of-type {\n",
       "        vertical-align: middle;\n",
       "    }\n",
       "\n",
       "    .dataframe tbody tr th {\n",
       "        vertical-align: top;\n",
       "    }\n",
       "\n",
       "    .dataframe thead th {\n",
       "        text-align: right;\n",
       "    }\n",
       "</style>\n",
       "<table border=\"1\" class=\"dataframe\">\n",
       "  <thead>\n",
       "    <tr style=\"text-align: right;\">\n",
       "      <th></th>\n",
       "      <th>pageid</th>\n",
       "      <th>content</th>\n",
       "      <th>keywords</th>\n",
       "      <th>counter_keywords</th>\n",
       "      <th>MSE</th>\n",
       "    </tr>\n",
       "  </thead>\n",
       "  <tbody>\n",
       "    <tr>\n",
       "      <th>0</th>\n",
       "      <td>2677</td>\n",
       "      <td>Kanada (englisch und französisch Canada) ist e...</td>\n",
       "      <td>[(Kanada, 0.0005067610926873967), (Kanadas, 0....</td>\n",
       "      <td>[(kanada, 0.00047619047619047673), (québec, 0....</td>\n",
       "      <td>0.297487</td>\n",
       "    </tr>\n",
       "    <tr>\n",
       "      <th>1</th>\n",
       "      <td>490244</td>\n",
       "      <td>In der Philosophie (altgriechisch φιλοσοφία ph...</td>\n",
       "      <td>[(Philosophie, 0.0002460226827235382), (prakti...</td>\n",
       "      <td>[(philosophie, 0.00047619047619047673), (–, 0....</td>\n",
       "      <td>0.495126</td>\n",
       "    </tr>\n",
       "    <tr>\n",
       "      <th>2</th>\n",
       "      <td>3221050</td>\n",
       "      <td>Moskau (russisch Москва́ [mɐskˈva] , Moskwa) i...</td>\n",
       "      <td>[(Moskau, 0.00022634304800017076), (Stadt Mosk...</td>\n",
       "      <td>[(moskau, 0.00047619047619047673), (stadt, 0.0...</td>\n",
       "      <td>0.596327</td>\n",
       "    </tr>\n",
       "    <tr>\n",
       "      <th>3</th>\n",
       "      <td>1200964</td>\n",
       "      <td>Australien (amtlicher deutscher Name; englisch...</td>\n",
       "      <td>[(Australien, 0.0006621153549226484), (Austral...</td>\n",
       "      <td>[(australien, 0.00047619047619047673), (austra...</td>\n",
       "      <td>0.397678</td>\n",
       "    </tr>\n",
       "    <tr>\n",
       "      <th>4</th>\n",
       "      <td>16565</td>\n",
       "      <td>Frankfurt am Main () ist mit 759.224 Einwohner...</td>\n",
       "      <td>[(Stadt Frankfurt, 2.584346599547873e-05), (Fr...</td>\n",
       "      <td>[(frankfurt, 0.00047619047619047673), (stadt, ...</td>\n",
       "      <td>0.498944</td>\n",
       "    </tr>\n",
       "    <tr>\n",
       "      <th>5</th>\n",
       "      <td>880316</td>\n",
       "      <td>Finnland (finnisch [ˈsuɔmi], schwedisch Finlan...</td>\n",
       "      <td>[(Finnland, 0.0006628069903539394), (Finnlands...</td>\n",
       "      <td>[(finnland, 0.00047619047619047673), (finnland...</td>\n",
       "      <td>0.393205</td>\n",
       "    </tr>\n",
       "    <tr>\n",
       "      <th>6</th>\n",
       "      <td>290</td>\n",
       "      <td>Argentinien (spanisch [aɾxenˈtina]) ist eine R...</td>\n",
       "      <td>[(Buenos Aires, 0.0003009614302623394), (Argen...</td>\n",
       "      <td>[(argentinien, 0.00047619047619047673), (de, 0...</td>\n",
       "      <td>0.298368</td>\n",
       "    </tr>\n",
       "    <tr>\n",
       "      <th>7</th>\n",
       "      <td>29938</td>\n",
       "      <td>Die Republik Südafrika (RSA) ist ein Staat im ...</td>\n",
       "      <td>[(Südafrika, 0.0003601999013826174), (South Af...</td>\n",
       "      <td>[(südafrika, 0.00047619047619047673), (land, 0...</td>\n",
       "      <td>0.299209</td>\n",
       "    </tr>\n",
       "    <tr>\n",
       "      <th>8</th>\n",
       "      <td>2391</td>\n",
       "      <td>Indien [ˈɪndi̯ən] (Eigennamen unter anderem Hi...</td>\n",
       "      <td>[(Indien, 0.00048282594130112937), (Indiens, 0...</td>\n",
       "      <td>[(indien, 0.00047619047619047673), (indiens, 0...</td>\n",
       "      <td>0.395971</td>\n",
       "    </tr>\n",
       "    <tr>\n",
       "      <th>9</th>\n",
       "      <td>1428</td>\n",
       "      <td>Eine Enzyklopädie (), früher auch aus dem Fran...</td>\n",
       "      <td>[(Encyclopaedia Britannica, 0.0002825556238659...</td>\n",
       "      <td>[(enzyklopädie, 0.00047619047619047673), (enzy...</td>\n",
       "      <td>0.199652</td>\n",
       "    </tr>\n",
       "  </tbody>\n",
       "</table>\n",
       "</div>"
      ],
      "text/plain": [
       "    pageid                                            content  \\\n",
       "0     2677  Kanada (englisch und französisch Canada) ist e...   \n",
       "1   490244  In der Philosophie (altgriechisch φιλοσοφία ph...   \n",
       "2  3221050  Moskau (russisch Москва́ [mɐskˈva] , Moskwa) i...   \n",
       "3  1200964  Australien (amtlicher deutscher Name; englisch...   \n",
       "4    16565  Frankfurt am Main () ist mit 759.224 Einwohner...   \n",
       "5   880316  Finnland (finnisch [ˈsuɔmi], schwedisch Finlan...   \n",
       "6      290  Argentinien (spanisch [aɾxenˈtina]) ist eine R...   \n",
       "7    29938  Die Republik Südafrika (RSA) ist ein Staat im ...   \n",
       "8     2391  Indien [ˈɪndi̯ən] (Eigennamen unter anderem Hi...   \n",
       "9     1428  Eine Enzyklopädie (), früher auch aus dem Fran...   \n",
       "\n",
       "                                            keywords  \\\n",
       "0  [(Kanada, 0.0005067610926873967), (Kanadas, 0....   \n",
       "1  [(Philosophie, 0.0002460226827235382), (prakti...   \n",
       "2  [(Moskau, 0.00022634304800017076), (Stadt Mosk...   \n",
       "3  [(Australien, 0.0006621153549226484), (Austral...   \n",
       "4  [(Stadt Frankfurt, 2.584346599547873e-05), (Fr...   \n",
       "5  [(Finnland, 0.0006628069903539394), (Finnlands...   \n",
       "6  [(Buenos Aires, 0.0003009614302623394), (Argen...   \n",
       "7  [(Südafrika, 0.0003601999013826174), (South Af...   \n",
       "8  [(Indien, 0.00048282594130112937), (Indiens, 0...   \n",
       "9  [(Encyclopaedia Britannica, 0.0002825556238659...   \n",
       "\n",
       "                                    counter_keywords       MSE  \n",
       "0  [(kanada, 0.00047619047619047673), (québec, 0....  0.297487  \n",
       "1  [(philosophie, 0.00047619047619047673), (–, 0....  0.495126  \n",
       "2  [(moskau, 0.00047619047619047673), (stadt, 0.0...  0.596327  \n",
       "3  [(australien, 0.00047619047619047673), (austra...  0.397678  \n",
       "4  [(frankfurt, 0.00047619047619047673), (stadt, ...  0.498944  \n",
       "5  [(finnland, 0.00047619047619047673), (finnland...  0.393205  \n",
       "6  [(argentinien, 0.00047619047619047673), (de, 0...  0.298368  \n",
       "7  [(südafrika, 0.00047619047619047673), (land, 0...  0.299209  \n",
       "8  [(indien, 0.00047619047619047673), (indiens, 0...  0.395971  \n",
       "9  [(enzyklopädie, 0.00047619047619047673), (enzy...  0.199652  "
      ]
     },
     "execution_count": 110,
     "metadata": {},
     "output_type": "execute_result"
    }
   ],
   "source": [
    "results_eval.head(10)"
   ]
  },
  {
   "cell_type": "code",
   "execution_count": 111,
   "id": "6e781a59",
   "metadata": {},
   "outputs": [
    {
     "name": "stdout",
     "output_type": "stream",
     "text": [
      "MAX: 0.8972913949780681\n",
      "MIN: 8.389024509411331e-07\n",
      "MEAN: 0.37429738489376824\n"
     ]
    }
   ],
   "source": [
    "print(\"MAX: %s\\nMIN: %s\\nMEAN: %s\" % (\n",
    "    np.max(results_eval[\"MSE\"]), np.min(results_eval[\"MSE\"]), np.mean(results_eval[\"MSE\"])\n",
    "))"
   ]
  },
  {
   "cell_type": "code",
   "execution_count": 113,
   "id": "a8eafc56",
   "metadata": {},
   "outputs": [
    {
     "data": {
      "text/plain": [
       "[('Kanada', 0.0005067610926873967),\n",
       " ('Kanadas', 0.001809861045312131),\n",
       " ('Québec', 0.0027778966414005444),\n",
       " ('Canada', 0.0033584718003683797),\n",
       " ('Provinz Kanada', 0.0038343013787126064),\n",
       " ('Vereinigten Staaten', 0.003935178926941326),\n",
       " ('Toronto', 0.004710976358477465),\n",
       " ('Vancouver Island', 0.004855747172258857),\n",
       " ('Ontario', 0.005459060069660775),\n",
       " ('Canadian', 0.006147449520330219)]"
      ]
     },
     "execution_count": 113,
     "metadata": {},
     "output_type": "execute_result"
    }
   ],
   "source": [
    "#yake\n",
    "results_eval[\"keywords\"][0]"
   ]
  },
  {
   "cell_type": "code",
   "execution_count": 115,
   "id": "d24728a5",
   "metadata": {},
   "outputs": [
    {
     "data": {
      "text/plain": [
       "[('kanada', 0.00047619047619047673),\n",
       " ('québec', 0.0061697722567287784),\n",
       " ('of', 0.0066873706004140785),\n",
       " ('canada', 0.00679089026915114),\n",
       " ('toronto', 0.0069979296066252595),\n",
       " ('kanadische', 0.007308488612836439),\n",
       " ('kanadas', 0.007308488612836439),\n",
       " ('ontario', 0.007412008281573499),\n",
       " ('canadian', 0.007412008281573499),\n",
       " ('kanadischen', 0.007722567287784679),\n",
       " ('chr', 0.007722567287784679),\n",
       " ('land', 0.00782608695652174),\n",
       " ('vancouver', 0.00782608695652174),\n",
       " ('bevölkerung', 0.008033126293995859),\n",
       " ('act', 0.008136645962732919)]"
      ]
     },
     "execution_count": 115,
     "metadata": {},
     "output_type": "execute_result"
    }
   ],
   "source": [
    "#counter\n",
    "results_eval[\"counter_keywords\"][0][:15]"
   ]
  },
  {
   "cell_type": "code",
   "execution_count": null,
   "id": "4c7e8000",
   "metadata": {},
   "outputs": [],
   "source": []
  }
 ],
 "metadata": {
  "kernelspec": {
   "display_name": "Python 3.10.8 64-bit",
   "language": "python",
   "name": "python3108jvsc74a57bd0b0fa6594d8f4cbf19f97940f81e996739fb7646882a419484c72d19e05852a7e"
  },
  "language_info": {
   "codemirror_mode": {
    "name": "ipython",
    "version": 3
   },
   "file_extension": ".py",
   "mimetype": "text/x-python",
   "name": "python",
   "nbconvert_exporter": "python",
   "pygments_lexer": "ipython3",
   "version": "3.10.8"
  }
 },
 "nbformat": 4,
 "nbformat_minor": 5
}
