{
 "cells": [
  {
   "cell_type": "code",
   "execution_count": 1,
   "id": "a3ac2223",
   "metadata": {},
   "outputs": [],
   "source": [
    "import pandas as pd\n",
    "import numpy as np\n",
    "from IPython.display import clear_output\n",
    "\n",
    "import requests"
   ]
  },
  {
   "cell_type": "code",
   "execution_count": 2,
   "id": "1619a661",
   "metadata": {},
   "outputs": [],
   "source": [
    "def update_progress(progress):\n",
    "    bar_length = 50\n",
    "    if isinstance(progress, int):\n",
    "        progress = float(progress)\n",
    "    if not isinstance(progress, float):\n",
    "        progress = 0\n",
    "    if progress < 0:\n",
    "        progress = 0\n",
    "    if progress >= 1:\n",
    "        progress = 1\n",
    "\n",
    "    block = int(round(bar_length * progress))\n",
    "\n",
    "    clear_output(wait = True)\n",
    "    text = \"Progress: [{0}] {1:.1f}%\".format( \"#\" * block + \"-\" * (bar_length - block), progress * 100)\n",
    "    print(text)"
   ]
  },
  {
   "cell_type": "markdown",
   "id": "7ec877a2",
   "metadata": {},
   "source": [
    "---"
   ]
  },
  {
   "cell_type": "code",
   "execution_count": 3,
   "id": "6500870f",
   "metadata": {},
   "outputs": [],
   "source": [
    "URL = \"https://de.wikipedia.org/w/api.php\""
   ]
  },
  {
   "cell_type": "code",
   "execution_count": 5,
   "id": "b6236171",
   "metadata": {},
   "outputs": [
    {
     "name": "stdout",
     "output_type": "stream",
     "text": [
      "Anzahl gesammelter Exzellenter Artikel: 2796\n"
     ]
    }
   ],
   "source": [
    "# request excellent arictles from german wikipedia via wiki api (10 at a time)\n",
    "S = requests.Session()\n",
    "\n",
    "params = {\n",
    "    \"action\": \"query\",\n",
    "    \"prop\": \"revisions\",\n",
    "    \"rvprop\": \"content\",\n",
    "    \"rvslots\": \"*\",\n",
    "    \"format\": \"json\",\n",
    "    \"formatversion\": 2,\n",
    "    \"srsearch\": \"incategory:Wikipedia:Exzellent\",\n",
    "    \"list\": \"search\",\n",
    "    \"sroffset\": 0\n",
    "}\n",
    "\n",
    "response = S.get(url = URL, params = params)\n",
    "data = response.json()\n",
    "\n",
    "# get ids from excellent articles\n",
    "ids = []\n",
    "\n",
    "for entry in data[\"query\"][\"search\"]:\n",
    "    ids.append(entry[\"pageid\"])\n",
    "\n",
    "while data.get(\"continue\"):\n",
    "    params.update({\"sroffset\": data[\"continue\"][\"sroffset\"]})\n",
    "    \n",
    "    #print(\"\\n%s\" % (PARAMS))\n",
    "    response = S.get(url = URL, params = params)\n",
    "    data = response.json()\n",
    "    \n",
    "    for entry in data[\"query\"][\"search\"]:\n",
    "        ids.append(entry[\"pageid\"])\n",
    "\n",
    "print(\"Anzahl gesammelter Exzellenter Artikel: %s\" %(len(ids)))\n",
    "\n",
    "#if DATA['query']['search'][0]['title'] == SEARCHPAGE:\n",
    "#    print(\"Your search page '\" + SEARCHPAGE + \"' exists on English Wikipedia\")"
   ]
  },
  {
   "cell_type": "code",
   "execution_count": 6,
   "id": "48ed25c3",
   "metadata": {},
   "outputs": [
    {
     "name": "stdout",
     "output_type": "stream",
     "text": [
      "Progress: [##################################################] 100.0%\n"
     ]
    }
   ],
   "source": [
    "# request data to every excellent article in german wikipedia via wikipedia api using pageid\n",
    "params = {\n",
    "    \"action\": \"query\",\n",
    "    \"prop\": \"revisions\",\n",
    "    \"rvprop\": \"content\",\n",
    "    \"rvslots\": \"*\",\n",
    "    \"format\": \"json\",\n",
    "    \"formatversion\": 2,\n",
    "    \"pageids\": 0\n",
    "}\n",
    "\n",
    "data = pd.DataFrame()\n",
    "content = {}\n",
    "\n",
    "for ix, id in enumerate(ids):\n",
    "    update_progress(ix / len(ids))\n",
    "    \n",
    "    params.update({\"pageids\": id})\n",
    "    response = S.get(url = URL, params = params)\n",
    "    page = response.json()\n",
    "    \n",
    "    content.update({id: page[\"query\"][\"pages\"][0][\"revisions\"][0][\"slots\"][\"main\"][\"content\"]})"
   ]
  },
  {
   "cell_type": "code",
   "execution_count": 7,
   "id": "b1b12404",
   "metadata": {},
   "outputs": [],
   "source": [
    "# save requested data in df\n",
    "df = pd.DataFrame(content.items())\n",
    "df = df.rename({0: \"pageid\", 1:\"content\"}, axis = 1)"
   ]
  },
  {
   "cell_type": "code",
   "execution_count": 8,
   "id": "7ab397e9",
   "metadata": {},
   "outputs": [
    {
     "data": {
      "text/html": [
       "<div>\n",
       "<style scoped>\n",
       "    .dataframe tbody tr th:only-of-type {\n",
       "        vertical-align: middle;\n",
       "    }\n",
       "\n",
       "    .dataframe tbody tr th {\n",
       "        vertical-align: top;\n",
       "    }\n",
       "\n",
       "    .dataframe thead th {\n",
       "        text-align: right;\n",
       "    }\n",
       "</style>\n",
       "<table border=\"1\" class=\"dataframe\">\n",
       "  <thead>\n",
       "    <tr style=\"text-align: right;\">\n",
       "      <th></th>\n",
       "      <th>pageid</th>\n",
       "      <th>content</th>\n",
       "    </tr>\n",
       "  </thead>\n",
       "  <tbody>\n",
       "    <tr>\n",
       "      <th>0</th>\n",
       "      <td>1428</td>\n",
       "      <td>[[Datei:Danimarca XIII secolo, plinio historia...</td>\n",
       "    </tr>\n",
       "    <tr>\n",
       "      <th>1</th>\n",
       "      <td>2677</td>\n",
       "      <td>{{Begriffsklärungshinweis}}\\n{{Infobox Staat\\n...</td>\n",
       "    </tr>\n",
       "    <tr>\n",
       "      <th>2</th>\n",
       "      <td>1200964</td>\n",
       "      <td>{{Dieser Artikel|behandelt den Staat. Zu weite...</td>\n",
       "    </tr>\n",
       "    <tr>\n",
       "      <th>3</th>\n",
       "      <td>880316</td>\n",
       "      <td>{{Begriffsklärungshinweis}}\\n{{Infobox Staat\\n...</td>\n",
       "    </tr>\n",
       "    <tr>\n",
       "      <th>4</th>\n",
       "      <td>2391</td>\n",
       "      <td>{{Dieser Artikel|behandelt das Land – zu ander...</td>\n",
       "    </tr>\n",
       "    <tr>\n",
       "      <th>...</th>\n",
       "      <td>...</td>\n",
       "      <td>...</td>\n",
       "    </tr>\n",
       "    <tr>\n",
       "      <th>2777</th>\n",
       "      <td>12391297</td>\n",
       "      <td>[[Datei:Canning and Castlereagh.JPG|mini|Canni...</td>\n",
       "    </tr>\n",
       "    <tr>\n",
       "      <th>2778</th>\n",
       "      <td>11683048</td>\n",
       "      <td>{{Mehrere Bilder\\n | Fußzeile = Explosion bei ...</td>\n",
       "    </tr>\n",
       "    <tr>\n",
       "      <th>2779</th>\n",
       "      <td>12170024</td>\n",
       "      <td>{{Infobox Kunstwerk\\n|bilddatei      = \\n|bild...</td>\n",
       "    </tr>\n",
       "    <tr>\n",
       "      <th>2780</th>\n",
       "      <td>10278319</td>\n",
       "      <td>[[Datei:Sayyid Shaykh al-Hadi bei seiner Reise...</td>\n",
       "    </tr>\n",
       "    <tr>\n",
       "      <th>2781</th>\n",
       "      <td>12508588</td>\n",
       "      <td>{{Infobox Schienenfahrzeug\\n| Farbe1 = \\n| Far...</td>\n",
       "    </tr>\n",
       "  </tbody>\n",
       "</table>\n",
       "<p>2782 rows × 2 columns</p>\n",
       "</div>"
      ],
      "text/plain": [
       "        pageid                                            content\n",
       "0         1428  [[Datei:Danimarca XIII secolo, plinio historia...\n",
       "1         2677  {{Begriffsklärungshinweis}}\\n{{Infobox Staat\\n...\n",
       "2      1200964  {{Dieser Artikel|behandelt den Staat. Zu weite...\n",
       "3       880316  {{Begriffsklärungshinweis}}\\n{{Infobox Staat\\n...\n",
       "4         2391  {{Dieser Artikel|behandelt das Land – zu ander...\n",
       "...        ...                                                ...\n",
       "2777  12391297  [[Datei:Canning and Castlereagh.JPG|mini|Canni...\n",
       "2778  11683048  {{Mehrere Bilder\\n | Fußzeile = Explosion bei ...\n",
       "2779  12170024  {{Infobox Kunstwerk\\n|bilddatei      = \\n|bild...\n",
       "2780  10278319  [[Datei:Sayyid Shaykh al-Hadi bei seiner Reise...\n",
       "2781  12508588  {{Infobox Schienenfahrzeug\\n| Farbe1 = \\n| Far...\n",
       "\n",
       "[2782 rows x 2 columns]"
      ]
     },
     "execution_count": 8,
     "metadata": {},
     "output_type": "execute_result"
    }
   ],
   "source": [
    "df"
   ]
  },
  {
   "cell_type": "code",
   "execution_count": 100,
   "id": "cd45abb9",
   "metadata": {},
   "outputs": [],
   "source": [
    "# save data to csv for faster loading\n",
    "df.to_csv(\"./2783_excellent_article.csv\")"
   ]
  },
  {
   "cell_type": "code",
   "execution_count": null,
   "id": "833da415",
   "metadata": {},
   "outputs": [],
   "source": []
  }
 ],
 "metadata": {
  "kernelspec": {
   "display_name": "Python 3 (ipykernel)",
   "language": "python",
   "name": "python3"
  },
  "language_info": {
   "codemirror_mode": {
    "name": "ipython",
    "version": 3
   },
   "file_extension": ".py",
   "mimetype": "text/x-python",
   "name": "python",
   "nbconvert_exporter": "python",
   "pygments_lexer": "ipython3",
   "version": "3.10.0"
  }
 },
 "nbformat": 4,
 "nbformat_minor": 5
}
